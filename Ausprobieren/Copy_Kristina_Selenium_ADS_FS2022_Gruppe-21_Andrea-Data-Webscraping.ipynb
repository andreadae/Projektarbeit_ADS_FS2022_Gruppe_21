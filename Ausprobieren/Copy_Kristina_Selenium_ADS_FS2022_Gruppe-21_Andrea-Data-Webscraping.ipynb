{
 "cells": [
  {
   "cell_type": "markdown",
   "id": "97c6b08e",
   "metadata": {},
   "source": [
    "# <font color='black'>Applied Data Science Project Grupp 21 - FS 2022 - Andrea</font>\n",
    "# <font color='blue'>Fahrzeug-Bilder-Erkennung</font>\n",
    "<font color=\"blue\">Quellen</font>\n",
    "<li>flickr_api_example/flickr_example_01.ipynb von Mario Gellrich</li>\n",
    "<li>flickr_api_example/flickr_example_01.ipynb von Mario Gellrich</li>\n",
    "<li>https://www.tensorflow.org/tutorials/images/classification</li>\n",
    "<li>Exercise6-transfer_learning.ipynb von Elena Gavarin</li>\n"
   ]
  },
  {
   "cell_type": "markdown",
   "id": "35dc8de9",
   "metadata": {},
   "source": [
    "## <font color='blue'>Notebook Preparation</font>\n",
    "<font color='blue'>Installed Tools</font>\n",
    "<li>pip install pandas</li>\n",
    "<li>pip install numpy</li>\n",
    "<li>pip install matplotlib.pyplot</li>\n",
    "<li>pip install tensorflow</li>\n",
    "<li>pip install PIL</li>\n",
    "<li>pip install webdriver-manager</li>\n",
    "<li>pip install selenium</li>\n"
   ]
  },
  {
   "cell_type": "code",
   "execution_count": 1,
   "id": "194d4e7f",
   "metadata": {},
   "outputs": [
    {
     "name": "stdout",
     "output_type": "stream",
     "text": [
      "Import Libraries Successfull\n"
     ]
    }
   ],
   "source": [
    "import os\n",
    "from selenium import webdriver\n",
    "from selenium.webdriver.chrome.service import Service\n",
    "from webdriver_manager.chrome import ChromeDriverManager\n",
    "from selenium.webdriver.chrome.options import Options\n",
    "from selenium.webdriver.common.keys import Keys\n",
    "from selenium.webdriver.common.by import By\n",
    "\n",
    "print (\"Import Libraries Successfull\")"
   ]
  },
  {
   "cell_type": "markdown",
   "id": "9ecd7bed",
   "metadata": {},
   "source": [
    "# Webscraping ebay.ch\n",
    "## Fahrrad Bilder"
   ]
  },
  {
   "cell_type": "code",
   "execution_count": 18,
   "id": "e5025403",
   "metadata": {
    "scrolled": true
   },
   "outputs": [
    {
     "name": "stdout",
     "output_type": "stream",
     "text": [
      "C:\\Test_ADS_FS22_Webscraping\n",
      "\n"
     ]
    },
    {
     "name": "stderr",
     "output_type": "stream",
     "text": [
      "[WDM] - ====== WebDriver manager ======\n",
      "[WDM] - Current google-chrome version is 102.0.5005\n",
      "[WDM] - Get LATEST chromedriver version for 102.0.5005 google-chrome\n",
      "[WDM] - Driver [C:\\Users\\krist\\.wdm\\drivers\\chromedriver\\win32\\102.0.5005.61\\chromedriver.exe] found in cache\n"
     ]
    }
   ],
   "source": [
    "# Working directory\n",
    "os.chdir('C:/Test_ADS_FS22_Webscraping')\n",
    "print(os.getcwd())\n",
    "\n",
    "# Set Options\n",
    "#opts = Options()\n",
    "#opts.add_argument(\"--window-size=1200,800\")\n",
    "driver = webdriver.Chrome(service=Service(ChromeDriverManager().install()))\n",
    "\n",
    "\n",
    "# Website to scrape\n",
    "driver.get(\"https://www.ebay.de/sch/i.html?_from=R40&_trksid=p2380057.m570.l1313&_nkw=fahrrad&_sacat=0\")\n",
    "\n",
    "# Fill in the search text\n",
    "#text_to_send = 'Fahrrad'\n",
    "#search = driver.find_element(by=By.XPATH, value=\"/html/body/header/table/tbody/tr/td[3]/form/table/tbody/tr/td[1]/div[1]/div/input[1]\")\n",
    "#search.clear()\n",
    "#search.send_keys(text_to_send)\n",
    "#search.submit()\n",
    "\n",
    "\n",
    "\n",
    "#srp-river-results > ul > li:nth-child(3) > div > div.s-item__image-section > div > a > div > img\n",
    "\n",
    "#/html/body/div[6]/div[4]/div[2]/div[1]/div[2]/ul/li[3]/div/div[1]/div/a/div/img\n",
    "\n"
   ]
  },
  {
   "cell_type": "code",
   "execution_count": 19,
   "id": "dc1ca46b",
   "metadata": {},
   "outputs": [],
   "source": [
    "def fetch_image_urls(query:str, max_links_to_fetch:int, wd:webdriver, sleep_between_interactions:int=3):\n",
    "    def scroll_to_end(wd, scroll_point):  \n",
    "        wd.execute_script(f\"window.scrollTo(0, {scroll_point});\")\n",
    "        time.sleep(sleep_between_interactions)    \n",
    " \n",
    "        \n",
    "# build the unsplash query\n",
    "    search_url = f\"https://unsplash.com/s/photos/office\"\n",
    "# load the page\n",
    "    wd.get(search_url)\n",
    "    time.sleep(sleep_between_interactions)  \n",
    "    \n",
    "    image_urls = set()\n",
    "    image_count = 0\n",
    "    number_results = 0\n",
    "    \n",
    "    for i in range(1,20):\n",
    "        scroll_to_end(wd, i*1000)\n",
    "        time.sleep(5)\n",
    "        thumb = wd.find_elements_by_css_selector(\"img._2zEKz\")\n",
    "        time.sleep(5)\n",
    "        for img in thumb:\n",
    "            print(img)\n",
    "            print(img.get_attribute('src'))\n",
    "            image_urls.add(img.get_attribute('src'))\n",
    "            image_count = len(image_urls)\n",
    "            number_results = image_count\n",
    "            time.sleep(.5)\n",
    "        print(f\"Found: {number_results} search results. Extracting links...\")\n",
    "\n",
    "#return image_urls\n"
   ]
  },
  {
   "cell_type": "code",
   "execution_count": 5,
   "id": "082fcdc9",
   "metadata": {
    "collapsed": true,
    "jupyter": {
     "outputs_hidden": true
    },
    "tags": []
   },
   "outputs": [
    {
     "name": "stdout",
     "output_type": "stream",
     "text": [
      "[[<selenium.webdriver.remote.webelement.WebElement (session=\"4d85e711422d1d1d08ddd670989e61c4\", element=\"15759336-d9ab-431a-a094-a80611bd0a92\")>], [<selenium.webdriver.remote.webelement.WebElement (session=\"4d85e711422d1d1d08ddd670989e61c4\", element=\"42260b09-1a73-4a89-af06-fca0ee55964d\")>], [<selenium.webdriver.remote.webelement.WebElement (session=\"4d85e711422d1d1d08ddd670989e61c4\", element=\"c5d116c3-bd0a-45bc-8893-bfc3ab08b279\")>], [<selenium.webdriver.remote.webelement.WebElement (session=\"4d85e711422d1d1d08ddd670989e61c4\", element=\"e245bf4b-1264-4b8b-b18e-b102385a8408\")>], [<selenium.webdriver.remote.webelement.WebElement (session=\"4d85e711422d1d1d08ddd670989e61c4\", element=\"37dc6caa-29ea-48fc-a3bc-3a27c6b5a15c\")>], [<selenium.webdriver.remote.webelement.WebElement (session=\"4d85e711422d1d1d08ddd670989e61c4\", element=\"cb48955b-82a9-490c-8ac3-79931691758f\")>], [<selenium.webdriver.remote.webelement.WebElement (session=\"4d85e711422d1d1d08ddd670989e61c4\", element=\"5d75bc3c-8916-4ba0-87f1-7ee6833e0254\")>], [<selenium.webdriver.remote.webelement.WebElement (session=\"4d85e711422d1d1d08ddd670989e61c4\", element=\"a9dcc6f5-723e-48d9-b159-e9e1cda116f0\")>], [<selenium.webdriver.remote.webelement.WebElement (session=\"4d85e711422d1d1d08ddd670989e61c4\", element=\"3aaa5c9f-6527-45f2-be44-59cb12189cbf\")>], [<selenium.webdriver.remote.webelement.WebElement (session=\"4d85e711422d1d1d08ddd670989e61c4\", element=\"5ab0a368-74b5-4a6c-a196-f5e5abb59241\")>], [<selenium.webdriver.remote.webelement.WebElement (session=\"4d85e711422d1d1d08ddd670989e61c4\", element=\"04e08fe6-18d8-443c-93af-c23d13c21f31\")>], [<selenium.webdriver.remote.webelement.WebElement (session=\"4d85e711422d1d1d08ddd670989e61c4\", element=\"5a36e578-e907-4fe0-892c-e99c65d49c67\")>], [<selenium.webdriver.remote.webelement.WebElement (session=\"4d85e711422d1d1d08ddd670989e61c4\", element=\"eda92ff1-4b63-4595-ad01-1041d462777c\")>], [<selenium.webdriver.remote.webelement.WebElement (session=\"4d85e711422d1d1d08ddd670989e61c4\", element=\"ad047e58-3303-4ae5-9726-e9425f1a9cd6\")>], [<selenium.webdriver.remote.webelement.WebElement (session=\"4d85e711422d1d1d08ddd670989e61c4\", element=\"dcdcc9fb-0fd5-4dc8-998d-7e23eddc77de\")>], [<selenium.webdriver.remote.webelement.WebElement (session=\"4d85e711422d1d1d08ddd670989e61c4\", element=\"59a43a6e-d92e-4bb0-b9e3-a5ad81dd2f60\")>], [<selenium.webdriver.remote.webelement.WebElement (session=\"4d85e711422d1d1d08ddd670989e61c4\", element=\"1f0e1c21-e51a-4510-a8e5-a5ecd90c9768\")>], [<selenium.webdriver.remote.webelement.WebElement (session=\"4d85e711422d1d1d08ddd670989e61c4\", element=\"684c2710-e519-44f4-bd79-ef3e6f4901d1\")>], [<selenium.webdriver.remote.webelement.WebElement (session=\"4d85e711422d1d1d08ddd670989e61c4\", element=\"cfbbaebc-2fb2-4a51-a8b5-e30ee6408769\")>], [<selenium.webdriver.remote.webelement.WebElement (session=\"4d85e711422d1d1d08ddd670989e61c4\", element=\"662a029a-603c-4e6d-bb86-6893c783be78\")>], [<selenium.webdriver.remote.webelement.WebElement (session=\"4d85e711422d1d1d08ddd670989e61c4\", element=\"b518b16e-51e5-48d7-944d-1f052e94fd8f\")>], [<selenium.webdriver.remote.webelement.WebElement (session=\"4d85e711422d1d1d08ddd670989e61c4\", element=\"3c32fcc1-3771-4755-9de7-a13335cc820f\")>], [<selenium.webdriver.remote.webelement.WebElement (session=\"4d85e711422d1d1d08ddd670989e61c4\", element=\"311e14e2-9acb-4f9e-a47c-9f796b7f181e\")>], [<selenium.webdriver.remote.webelement.WebElement (session=\"4d85e711422d1d1d08ddd670989e61c4\", element=\"5ef1874f-7a91-41f5-9966-e24a7085730f\")>], [<selenium.webdriver.remote.webelement.WebElement (session=\"4d85e711422d1d1d08ddd670989e61c4\", element=\"acac1c3d-2e05-4d88-8382-94fa68f32313\")>], [<selenium.webdriver.remote.webelement.WebElement (session=\"4d85e711422d1d1d08ddd670989e61c4\", element=\"2ac4c55a-c58b-43ff-9063-aadc42855f37\")>], [<selenium.webdriver.remote.webelement.WebElement (session=\"4d85e711422d1d1d08ddd670989e61c4\", element=\"69de2453-14eb-4ac5-8ec6-514ca66c131a\")>], [<selenium.webdriver.remote.webelement.WebElement (session=\"4d85e711422d1d1d08ddd670989e61c4\", element=\"4d0f4171-322c-4c5a-ac0c-21c9eac91ccf\")>], [<selenium.webdriver.remote.webelement.WebElement (session=\"4d85e711422d1d1d08ddd670989e61c4\", element=\"ba9ecdd0-5670-4248-a2d6-e4a8d11c2745\")>], [<selenium.webdriver.remote.webelement.WebElement (session=\"4d85e711422d1d1d08ddd670989e61c4\", element=\"d5627252-d725-460b-9821-4f4081a2aba1\")>], [<selenium.webdriver.remote.webelement.WebElement (session=\"4d85e711422d1d1d08ddd670989e61c4\", element=\"38e0e723-1ef2-48e7-9873-5d643aa4d3ba\")>], [<selenium.webdriver.remote.webelement.WebElement (session=\"4d85e711422d1d1d08ddd670989e61c4\", element=\"036ccddc-466f-46fd-8eec-82da8f767251\")>], [<selenium.webdriver.remote.webelement.WebElement (session=\"4d85e711422d1d1d08ddd670989e61c4\", element=\"89fc6dec-ad07-4b2e-a307-c4a8136d4e15\")>], [<selenium.webdriver.remote.webelement.WebElement (session=\"4d85e711422d1d1d08ddd670989e61c4\", element=\"24f36c37-eb0b-457e-99cd-d61af33ef44d\")>], [<selenium.webdriver.remote.webelement.WebElement (session=\"4d85e711422d1d1d08ddd670989e61c4\", element=\"166d11c3-85af-4cff-85ba-f568d27b5d5a\")>], [<selenium.webdriver.remote.webelement.WebElement (session=\"4d85e711422d1d1d08ddd670989e61c4\", element=\"9e40c277-f3d0-4d53-9385-7f36c68e8ddb\")>], [<selenium.webdriver.remote.webelement.WebElement (session=\"4d85e711422d1d1d08ddd670989e61c4\", element=\"2f2f05dc-b6db-48b5-8e00-97f8ed9acc66\")>], [<selenium.webdriver.remote.webelement.WebElement (session=\"4d85e711422d1d1d08ddd670989e61c4\", element=\"5f115cfc-39c8-44a0-9c67-b604d6625097\")>], [<selenium.webdriver.remote.webelement.WebElement (session=\"4d85e711422d1d1d08ddd670989e61c4\", element=\"64ab6078-073c-4950-98a1-6bc960c75890\")>], [<selenium.webdriver.remote.webelement.WebElement (session=\"4d85e711422d1d1d08ddd670989e61c4\", element=\"b4f23ec3-ea9c-4e2d-a69a-d9ba3854ee7e\")>], [<selenium.webdriver.remote.webelement.WebElement (session=\"4d85e711422d1d1d08ddd670989e61c4\", element=\"34c68a34-2e33-4031-a56c-297421e55b7e\")>], [<selenium.webdriver.remote.webelement.WebElement (session=\"4d85e711422d1d1d08ddd670989e61c4\", element=\"60773eab-dc66-4d09-b488-b802f2817392\")>], [<selenium.webdriver.remote.webelement.WebElement (session=\"4d85e711422d1d1d08ddd670989e61c4\", element=\"61ce8e9f-9aee-4248-a114-0af2f35d5a55\")>], [<selenium.webdriver.remote.webelement.WebElement (session=\"4d85e711422d1d1d08ddd670989e61c4\", element=\"4af77416-4f9e-42ec-9b4c-be6d5aa1cebc\")>], [<selenium.webdriver.remote.webelement.WebElement (session=\"4d85e711422d1d1d08ddd670989e61c4\", element=\"b1ba9292-241e-4d78-aeb7-1f3e5b8bd958\")>], [<selenium.webdriver.remote.webelement.WebElement (session=\"4d85e711422d1d1d08ddd670989e61c4\", element=\"ae95347b-f8ff-4a1c-8372-528fe83ca7f1\")>], [<selenium.webdriver.remote.webelement.WebElement (session=\"4d85e711422d1d1d08ddd670989e61c4\", element=\"83e0df65-b20c-4f14-8752-8ebb846892e6\")>], [<selenium.webdriver.remote.webelement.WebElement (session=\"4d85e711422d1d1d08ddd670989e61c4\", element=\"73ab5a0a-9c9b-4484-b131-03a31147df7c\")>], [<selenium.webdriver.remote.webelement.WebElement (session=\"4d85e711422d1d1d08ddd670989e61c4\", element=\"d1959039-676b-4955-b2d5-bef9df847926\")>], [<selenium.webdriver.remote.webelement.WebElement (session=\"4d85e711422d1d1d08ddd670989e61c4\", element=\"62513a64-ac10-4d32-87e7-022248d398c5\")>], [<selenium.webdriver.remote.webelement.WebElement (session=\"4d85e711422d1d1d08ddd670989e61c4\", element=\"35ec8546-274c-4bf9-af7d-3799c9e1874a\")>], [<selenium.webdriver.remote.webelement.WebElement (session=\"4d85e711422d1d1d08ddd670989e61c4\", element=\"a52bf13b-7382-4ee8-9a2f-1f3ec0c2f870\")>], [<selenium.webdriver.remote.webelement.WebElement (session=\"4d85e711422d1d1d08ddd670989e61c4\", element=\"baa5d65d-14ae-464a-8ac6-7b8890c453ca\")>], [<selenium.webdriver.remote.webelement.WebElement (session=\"4d85e711422d1d1d08ddd670989e61c4\", element=\"433bac36-80bb-413e-b90b-f74b2e6e5807\")>], [<selenium.webdriver.remote.webelement.WebElement (session=\"4d85e711422d1d1d08ddd670989e61c4\", element=\"1fddced0-6032-47bb-9fba-26527dfa3f6c\")>], [<selenium.webdriver.remote.webelement.WebElement (session=\"4d85e711422d1d1d08ddd670989e61c4\", element=\"5f132940-181a-4ae1-9ca3-7e2cbbbc3c9e\")>], [<selenium.webdriver.remote.webelement.WebElement (session=\"4d85e711422d1d1d08ddd670989e61c4\", element=\"7d9252f2-9ff5-415a-a46f-2b3dca71b52c\")>], [<selenium.webdriver.remote.webelement.WebElement (session=\"4d85e711422d1d1d08ddd670989e61c4\", element=\"a78a3fbb-8c81-4fc9-9aa9-0632d3426bea\")>], [<selenium.webdriver.remote.webelement.WebElement (session=\"4d85e711422d1d1d08ddd670989e61c4\", element=\"2c065920-b57a-469c-bb45-ad6bdcf2feee\")>], [<selenium.webdriver.remote.webelement.WebElement (session=\"4d85e711422d1d1d08ddd670989e61c4\", element=\"b3730d8e-fbb1-403b-9140-df60c90a6460\")>], [<selenium.webdriver.remote.webelement.WebElement (session=\"4d85e711422d1d1d08ddd670989e61c4\", element=\"a26fbc92-21c1-437b-a9a2-88f4465c84e6\")>]]\n",
      "[[<selenium.webdriver.remote.webelement.WebElement (session=\"4d85e711422d1d1d08ddd670989e61c4\", element=\"15759336-d9ab-431a-a094-a80611bd0a92\")>], [<selenium.webdriver.remote.webelement.WebElement (session=\"4d85e711422d1d1d08ddd670989e61c4\", element=\"42260b09-1a73-4a89-af06-fca0ee55964d\")>], [<selenium.webdriver.remote.webelement.WebElement (session=\"4d85e711422d1d1d08ddd670989e61c4\", element=\"c5d116c3-bd0a-45bc-8893-bfc3ab08b279\")>], [<selenium.webdriver.remote.webelement.WebElement (session=\"4d85e711422d1d1d08ddd670989e61c4\", element=\"e245bf4b-1264-4b8b-b18e-b102385a8408\")>], [<selenium.webdriver.remote.webelement.WebElement (session=\"4d85e711422d1d1d08ddd670989e61c4\", element=\"37dc6caa-29ea-48fc-a3bc-3a27c6b5a15c\")>], [<selenium.webdriver.remote.webelement.WebElement (session=\"4d85e711422d1d1d08ddd670989e61c4\", element=\"cb48955b-82a9-490c-8ac3-79931691758f\")>], [<selenium.webdriver.remote.webelement.WebElement (session=\"4d85e711422d1d1d08ddd670989e61c4\", element=\"5d75bc3c-8916-4ba0-87f1-7ee6833e0254\")>], [<selenium.webdriver.remote.webelement.WebElement (session=\"4d85e711422d1d1d08ddd670989e61c4\", element=\"a9dcc6f5-723e-48d9-b159-e9e1cda116f0\")>], [<selenium.webdriver.remote.webelement.WebElement (session=\"4d85e711422d1d1d08ddd670989e61c4\", element=\"3aaa5c9f-6527-45f2-be44-59cb12189cbf\")>], [<selenium.webdriver.remote.webelement.WebElement (session=\"4d85e711422d1d1d08ddd670989e61c4\", element=\"5ab0a368-74b5-4a6c-a196-f5e5abb59241\")>], [<selenium.webdriver.remote.webelement.WebElement (session=\"4d85e711422d1d1d08ddd670989e61c4\", element=\"04e08fe6-18d8-443c-93af-c23d13c21f31\")>], [<selenium.webdriver.remote.webelement.WebElement (session=\"4d85e711422d1d1d08ddd670989e61c4\", element=\"5a36e578-e907-4fe0-892c-e99c65d49c67\")>], [<selenium.webdriver.remote.webelement.WebElement (session=\"4d85e711422d1d1d08ddd670989e61c4\", element=\"eda92ff1-4b63-4595-ad01-1041d462777c\")>], [<selenium.webdriver.remote.webelement.WebElement (session=\"4d85e711422d1d1d08ddd670989e61c4\", element=\"ad047e58-3303-4ae5-9726-e9425f1a9cd6\")>], [<selenium.webdriver.remote.webelement.WebElement (session=\"4d85e711422d1d1d08ddd670989e61c4\", element=\"dcdcc9fb-0fd5-4dc8-998d-7e23eddc77de\")>], [<selenium.webdriver.remote.webelement.WebElement (session=\"4d85e711422d1d1d08ddd670989e61c4\", element=\"59a43a6e-d92e-4bb0-b9e3-a5ad81dd2f60\")>], [<selenium.webdriver.remote.webelement.WebElement (session=\"4d85e711422d1d1d08ddd670989e61c4\", element=\"1f0e1c21-e51a-4510-a8e5-a5ecd90c9768\")>], [<selenium.webdriver.remote.webelement.WebElement (session=\"4d85e711422d1d1d08ddd670989e61c4\", element=\"684c2710-e519-44f4-bd79-ef3e6f4901d1\")>], [<selenium.webdriver.remote.webelement.WebElement (session=\"4d85e711422d1d1d08ddd670989e61c4\", element=\"cfbbaebc-2fb2-4a51-a8b5-e30ee6408769\")>], [<selenium.webdriver.remote.webelement.WebElement (session=\"4d85e711422d1d1d08ddd670989e61c4\", element=\"662a029a-603c-4e6d-bb86-6893c783be78\")>], [<selenium.webdriver.remote.webelement.WebElement (session=\"4d85e711422d1d1d08ddd670989e61c4\", element=\"b518b16e-51e5-48d7-944d-1f052e94fd8f\")>], [<selenium.webdriver.remote.webelement.WebElement (session=\"4d85e711422d1d1d08ddd670989e61c4\", element=\"3c32fcc1-3771-4755-9de7-a13335cc820f\")>], [<selenium.webdriver.remote.webelement.WebElement (session=\"4d85e711422d1d1d08ddd670989e61c4\", element=\"311e14e2-9acb-4f9e-a47c-9f796b7f181e\")>], [<selenium.webdriver.remote.webelement.WebElement (session=\"4d85e711422d1d1d08ddd670989e61c4\", element=\"5ef1874f-7a91-41f5-9966-e24a7085730f\")>], [<selenium.webdriver.remote.webelement.WebElement (session=\"4d85e711422d1d1d08ddd670989e61c4\", element=\"acac1c3d-2e05-4d88-8382-94fa68f32313\")>], [<selenium.webdriver.remote.webelement.WebElement (session=\"4d85e711422d1d1d08ddd670989e61c4\", element=\"2ac4c55a-c58b-43ff-9063-aadc42855f37\")>], [<selenium.webdriver.remote.webelement.WebElement (session=\"4d85e711422d1d1d08ddd670989e61c4\", element=\"69de2453-14eb-4ac5-8ec6-514ca66c131a\")>], [<selenium.webdriver.remote.webelement.WebElement (session=\"4d85e711422d1d1d08ddd670989e61c4\", element=\"4d0f4171-322c-4c5a-ac0c-21c9eac91ccf\")>], [<selenium.webdriver.remote.webelement.WebElement (session=\"4d85e711422d1d1d08ddd670989e61c4\", element=\"ba9ecdd0-5670-4248-a2d6-e4a8d11c2745\")>], [<selenium.webdriver.remote.webelement.WebElement (session=\"4d85e711422d1d1d08ddd670989e61c4\", element=\"d5627252-d725-460b-9821-4f4081a2aba1\")>], [<selenium.webdriver.remote.webelement.WebElement (session=\"4d85e711422d1d1d08ddd670989e61c4\", element=\"38e0e723-1ef2-48e7-9873-5d643aa4d3ba\")>], [<selenium.webdriver.remote.webelement.WebElement (session=\"4d85e711422d1d1d08ddd670989e61c4\", element=\"036ccddc-466f-46fd-8eec-82da8f767251\")>], [<selenium.webdriver.remote.webelement.WebElement (session=\"4d85e711422d1d1d08ddd670989e61c4\", element=\"89fc6dec-ad07-4b2e-a307-c4a8136d4e15\")>], [<selenium.webdriver.remote.webelement.WebElement (session=\"4d85e711422d1d1d08ddd670989e61c4\", element=\"24f36c37-eb0b-457e-99cd-d61af33ef44d\")>], [<selenium.webdriver.remote.webelement.WebElement (session=\"4d85e711422d1d1d08ddd670989e61c4\", element=\"166d11c3-85af-4cff-85ba-f568d27b5d5a\")>], [<selenium.webdriver.remote.webelement.WebElement (session=\"4d85e711422d1d1d08ddd670989e61c4\", element=\"9e40c277-f3d0-4d53-9385-7f36c68e8ddb\")>], [<selenium.webdriver.remote.webelement.WebElement (session=\"4d85e711422d1d1d08ddd670989e61c4\", element=\"2f2f05dc-b6db-48b5-8e00-97f8ed9acc66\")>], [<selenium.webdriver.remote.webelement.WebElement (session=\"4d85e711422d1d1d08ddd670989e61c4\", element=\"5f115cfc-39c8-44a0-9c67-b604d6625097\")>], [<selenium.webdriver.remote.webelement.WebElement (session=\"4d85e711422d1d1d08ddd670989e61c4\", element=\"64ab6078-073c-4950-98a1-6bc960c75890\")>], [<selenium.webdriver.remote.webelement.WebElement (session=\"4d85e711422d1d1d08ddd670989e61c4\", element=\"b4f23ec3-ea9c-4e2d-a69a-d9ba3854ee7e\")>], [<selenium.webdriver.remote.webelement.WebElement (session=\"4d85e711422d1d1d08ddd670989e61c4\", element=\"34c68a34-2e33-4031-a56c-297421e55b7e\")>], [<selenium.webdriver.remote.webelement.WebElement (session=\"4d85e711422d1d1d08ddd670989e61c4\", element=\"60773eab-dc66-4d09-b488-b802f2817392\")>], [<selenium.webdriver.remote.webelement.WebElement (session=\"4d85e711422d1d1d08ddd670989e61c4\", element=\"61ce8e9f-9aee-4248-a114-0af2f35d5a55\")>], [<selenium.webdriver.remote.webelement.WebElement (session=\"4d85e711422d1d1d08ddd670989e61c4\", element=\"4af77416-4f9e-42ec-9b4c-be6d5aa1cebc\")>], [<selenium.webdriver.remote.webelement.WebElement (session=\"4d85e711422d1d1d08ddd670989e61c4\", element=\"b1ba9292-241e-4d78-aeb7-1f3e5b8bd958\")>], [<selenium.webdriver.remote.webelement.WebElement (session=\"4d85e711422d1d1d08ddd670989e61c4\", element=\"ae95347b-f8ff-4a1c-8372-528fe83ca7f1\")>], [<selenium.webdriver.remote.webelement.WebElement (session=\"4d85e711422d1d1d08ddd670989e61c4\", element=\"83e0df65-b20c-4f14-8752-8ebb846892e6\")>], [<selenium.webdriver.remote.webelement.WebElement (session=\"4d85e711422d1d1d08ddd670989e61c4\", element=\"73ab5a0a-9c9b-4484-b131-03a31147df7c\")>], [<selenium.webdriver.remote.webelement.WebElement (session=\"4d85e711422d1d1d08ddd670989e61c4\", element=\"d1959039-676b-4955-b2d5-bef9df847926\")>], [<selenium.webdriver.remote.webelement.WebElement (session=\"4d85e711422d1d1d08ddd670989e61c4\", element=\"62513a64-ac10-4d32-87e7-022248d398c5\")>], [<selenium.webdriver.remote.webelement.WebElement (session=\"4d85e711422d1d1d08ddd670989e61c4\", element=\"35ec8546-274c-4bf9-af7d-3799c9e1874a\")>], [<selenium.webdriver.remote.webelement.WebElement (session=\"4d85e711422d1d1d08ddd670989e61c4\", element=\"a52bf13b-7382-4ee8-9a2f-1f3ec0c2f870\")>], [<selenium.webdriver.remote.webelement.WebElement (session=\"4d85e711422d1d1d08ddd670989e61c4\", element=\"baa5d65d-14ae-464a-8ac6-7b8890c453ca\")>], [<selenium.webdriver.remote.webelement.WebElement (session=\"4d85e711422d1d1d08ddd670989e61c4\", element=\"433bac36-80bb-413e-b90b-f74b2e6e5807\")>], [<selenium.webdriver.remote.webelement.WebElement (session=\"4d85e711422d1d1d08ddd670989e61c4\", element=\"1fddced0-6032-47bb-9fba-26527dfa3f6c\")>], [<selenium.webdriver.remote.webelement.WebElement (session=\"4d85e711422d1d1d08ddd670989e61c4\", element=\"5f132940-181a-4ae1-9ca3-7e2cbbbc3c9e\")>], [<selenium.webdriver.remote.webelement.WebElement (session=\"4d85e711422d1d1d08ddd670989e61c4\", element=\"7d9252f2-9ff5-415a-a46f-2b3dca71b52c\")>], [<selenium.webdriver.remote.webelement.WebElement (session=\"4d85e711422d1d1d08ddd670989e61c4\", element=\"a78a3fbb-8c81-4fc9-9aa9-0632d3426bea\")>], [<selenium.webdriver.remote.webelement.WebElement (session=\"4d85e711422d1d1d08ddd670989e61c4\", element=\"2c065920-b57a-469c-bb45-ad6bdcf2feee\")>], [<selenium.webdriver.remote.webelement.WebElement (session=\"4d85e711422d1d1d08ddd670989e61c4\", element=\"b3730d8e-fbb1-403b-9140-df60c90a6460\")>], [<selenium.webdriver.remote.webelement.WebElement (session=\"4d85e711422d1d1d08ddd670989e61c4\", element=\"a26fbc92-21c1-437b-a9a2-88f4465c84e6\")>], [<selenium.webdriver.remote.webelement.WebElement (session=\"4d85e711422d1d1d08ddd670989e61c4\", element=\"f31d1aa4-1955-4cc3-b759-e2cb10ffb5f7\")>], [<selenium.webdriver.remote.webelement.WebElement (session=\"4d85e711422d1d1d08ddd670989e61c4\", element=\"f18fd89d-6725-4e6e-a642-a15d72cd9a2d\")>], [<selenium.webdriver.remote.webelement.WebElement (session=\"4d85e711422d1d1d08ddd670989e61c4\", element=\"3189509a-298d-4e94-a650-d69178d83a3a\")>], [<selenium.webdriver.remote.webelement.WebElement (session=\"4d85e711422d1d1d08ddd670989e61c4\", element=\"be2bdcb7-5551-452a-9dd9-60b4ae3d5780\")>], [<selenium.webdriver.remote.webelement.WebElement (session=\"4d85e711422d1d1d08ddd670989e61c4\", element=\"18ff752b-ae26-4e6e-8ae4-7c3544c97794\")>], [<selenium.webdriver.remote.webelement.WebElement (session=\"4d85e711422d1d1d08ddd670989e61c4\", element=\"bce38b77-a5a6-4fbd-9ea2-decd7ef3f4d8\")>], [<selenium.webdriver.remote.webelement.WebElement (session=\"4d85e711422d1d1d08ddd670989e61c4\", element=\"73da2a1b-f63b-4293-b176-cbc58215321f\")>], [<selenium.webdriver.remote.webelement.WebElement (session=\"4d85e711422d1d1d08ddd670989e61c4\", element=\"5ee07d19-11f2-4397-95eb-d2638fbda63e\")>], [<selenium.webdriver.remote.webelement.WebElement (session=\"4d85e711422d1d1d08ddd670989e61c4\", element=\"2058160e-6db1-4934-bad6-c132550827fc\")>], [<selenium.webdriver.remote.webelement.WebElement (session=\"4d85e711422d1d1d08ddd670989e61c4\", element=\"f79a6e20-bf53-468f-88b7-ee4e93b5e0eb\")>], [<selenium.webdriver.remote.webelement.WebElement (session=\"4d85e711422d1d1d08ddd670989e61c4\", element=\"c0c772b7-a9cd-4030-b080-236c9605d120\")>], [<selenium.webdriver.remote.webelement.WebElement (session=\"4d85e711422d1d1d08ddd670989e61c4\", element=\"e75195d6-73bd-4375-87d3-e646e6821f0f\")>], [<selenium.webdriver.remote.webelement.WebElement (session=\"4d85e711422d1d1d08ddd670989e61c4\", element=\"16473105-faea-49bd-8867-fcefb626ff90\")>], [<selenium.webdriver.remote.webelement.WebElement (session=\"4d85e711422d1d1d08ddd670989e61c4\", element=\"03a0be5f-e770-4e93-9db7-cc0a1efa128c\")>], [<selenium.webdriver.remote.webelement.WebElement (session=\"4d85e711422d1d1d08ddd670989e61c4\", element=\"0b8693f7-4765-4b28-a055-e7996594eede\")>], [<selenium.webdriver.remote.webelement.WebElement (session=\"4d85e711422d1d1d08ddd670989e61c4\", element=\"086f0672-8561-4b10-a516-90d42ea35152\")>], [<selenium.webdriver.remote.webelement.WebElement (session=\"4d85e711422d1d1d08ddd670989e61c4\", element=\"8104eace-1d31-4745-949f-662ca3e81202\")>], [<selenium.webdriver.remote.webelement.WebElement (session=\"4d85e711422d1d1d08ddd670989e61c4\", element=\"f5485c1c-f46c-476d-9e93-f6dfa75224e5\")>], [<selenium.webdriver.remote.webelement.WebElement (session=\"4d85e711422d1d1d08ddd670989e61c4\", element=\"060c7b98-cdfe-40b9-a97b-3e72f16064b5\")>], [<selenium.webdriver.remote.webelement.WebElement (session=\"4d85e711422d1d1d08ddd670989e61c4\", element=\"d7dfdf36-76db-4d59-b28a-fc97f9595879\")>], [<selenium.webdriver.remote.webelement.WebElement (session=\"4d85e711422d1d1d08ddd670989e61c4\", element=\"91ef5082-807c-4292-9b50-0e3234910151\")>], [<selenium.webdriver.remote.webelement.WebElement (session=\"4d85e711422d1d1d08ddd670989e61c4\", element=\"21179dce-a518-4a47-9f92-db7023993c30\")>], [<selenium.webdriver.remote.webelement.WebElement (session=\"4d85e711422d1d1d08ddd670989e61c4\", element=\"46622f1e-d7df-47d1-94ef-9dd591d1bc78\")>], [<selenium.webdriver.remote.webelement.WebElement (session=\"4d85e711422d1d1d08ddd670989e61c4\", element=\"d0f34e08-a36f-43b7-843f-a0e6aa878266\")>], [<selenium.webdriver.remote.webelement.WebElement (session=\"4d85e711422d1d1d08ddd670989e61c4\", element=\"caa25234-cd71-4229-9eb4-69aa37181fc1\")>], [<selenium.webdriver.remote.webelement.WebElement (session=\"4d85e711422d1d1d08ddd670989e61c4\", element=\"81e98d79-6da3-4301-bce1-ec354c69165a\")>], [<selenium.webdriver.remote.webelement.WebElement (session=\"4d85e711422d1d1d08ddd670989e61c4\", element=\"dd9dfb8c-18d7-4ec2-ad84-da871d0945a4\")>], [<selenium.webdriver.remote.webelement.WebElement (session=\"4d85e711422d1d1d08ddd670989e61c4\", element=\"cf3ed23c-dcde-40ce-90cd-68ed2a192157\")>], [<selenium.webdriver.remote.webelement.WebElement (session=\"4d85e711422d1d1d08ddd670989e61c4\", element=\"b240caf0-742a-4857-906d-7f39ed12f694\")>], [<selenium.webdriver.remote.webelement.WebElement (session=\"4d85e711422d1d1d08ddd670989e61c4\", element=\"fd7cfe1b-2525-4ad5-a45b-1ea2e8ba7c2a\")>], [<selenium.webdriver.remote.webelement.WebElement (session=\"4d85e711422d1d1d08ddd670989e61c4\", element=\"ad8528fa-1322-436a-b46a-c02abc6bfd07\")>], [<selenium.webdriver.remote.webelement.WebElement (session=\"4d85e711422d1d1d08ddd670989e61c4\", element=\"9112a24f-7432-4b38-b79e-1c3fe23ecccc\")>], [<selenium.webdriver.remote.webelement.WebElement (session=\"4d85e711422d1d1d08ddd670989e61c4\", element=\"7188478f-cc90-42a2-893f-95111b178c98\")>], [<selenium.webdriver.remote.webelement.WebElement (session=\"4d85e711422d1d1d08ddd670989e61c4\", element=\"bf4a6191-5a42-4283-a5a1-690ec20a24f7\")>], [<selenium.webdriver.remote.webelement.WebElement (session=\"4d85e711422d1d1d08ddd670989e61c4\", element=\"c130f39f-e5ad-4d12-89ea-e4772f122eca\")>], [<selenium.webdriver.remote.webelement.WebElement (session=\"4d85e711422d1d1d08ddd670989e61c4\", element=\"4646dc39-40b7-4fa9-a772-b0845d7151b8\")>], [<selenium.webdriver.remote.webelement.WebElement (session=\"4d85e711422d1d1d08ddd670989e61c4\", element=\"19a51208-2c63-4180-bb56-de38a9ce69ac\")>], [<selenium.webdriver.remote.webelement.WebElement (session=\"4d85e711422d1d1d08ddd670989e61c4\", element=\"428db267-3544-4bda-bfd0-887d6a744731\")>], [<selenium.webdriver.remote.webelement.WebElement (session=\"4d85e711422d1d1d08ddd670989e61c4\", element=\"dbf5edbc-842e-4e98-becb-9b2ffd85342b\")>], [<selenium.webdriver.remote.webelement.WebElement (session=\"4d85e711422d1d1d08ddd670989e61c4\", element=\"427b8567-fd1c-4ae3-b1b4-4cae5800f2e2\")>], [<selenium.webdriver.remote.webelement.WebElement (session=\"4d85e711422d1d1d08ddd670989e61c4\", element=\"f46d0b5b-590e-4bc8-aff5-8792f278be3f\")>], [<selenium.webdriver.remote.webelement.WebElement (session=\"4d85e711422d1d1d08ddd670989e61c4\", element=\"868291a4-ecd4-499d-82db-b9a5f5a7b6e9\")>], [<selenium.webdriver.remote.webelement.WebElement (session=\"4d85e711422d1d1d08ddd670989e61c4\", element=\"b7b8013c-c230-4183-9abd-ffe066aa026e\")>], [<selenium.webdriver.remote.webelement.WebElement (session=\"4d85e711422d1d1d08ddd670989e61c4\", element=\"6ae5e2f4-f457-4199-a2d8-3b4076510eb7\")>], [<selenium.webdriver.remote.webelement.WebElement (session=\"4d85e711422d1d1d08ddd670989e61c4\", element=\"f635b375-b746-4d85-9864-d98e8983ff77\")>], [<selenium.webdriver.remote.webelement.WebElement (session=\"4d85e711422d1d1d08ddd670989e61c4\", element=\"284ed4ca-1653-4e38-8425-bda6b96330a4\")>], [<selenium.webdriver.remote.webelement.WebElement (session=\"4d85e711422d1d1d08ddd670989e61c4\", element=\"79057aa8-55f8-4f84-af60-9e2051dec885\")>], [<selenium.webdriver.remote.webelement.WebElement (session=\"4d85e711422d1d1d08ddd670989e61c4\", element=\"ee4f294c-58ab-4fad-ba5d-67074fa27580\")>], [<selenium.webdriver.remote.webelement.WebElement (session=\"4d85e711422d1d1d08ddd670989e61c4\", element=\"653d11ae-434a-47a9-9eec-7487d5fd2833\")>], [<selenium.webdriver.remote.webelement.WebElement (session=\"4d85e711422d1d1d08ddd670989e61c4\", element=\"c31d6086-af94-4ab4-8623-6d9c95993ddb\")>], [<selenium.webdriver.remote.webelement.WebElement (session=\"4d85e711422d1d1d08ddd670989e61c4\", element=\"a386f0e6-1895-4f0e-8042-662ea0a40ecd\")>], [<selenium.webdriver.remote.webelement.WebElement (session=\"4d85e711422d1d1d08ddd670989e61c4\", element=\"bdff27d2-c220-49b2-9053-bd1b930e9ff0\")>], [<selenium.webdriver.remote.webelement.WebElement (session=\"4d85e711422d1d1d08ddd670989e61c4\", element=\"e0765f79-819d-4423-ba9a-54633ffc67c3\")>], [<selenium.webdriver.remote.webelement.WebElement (session=\"4d85e711422d1d1d08ddd670989e61c4\", element=\"f182600b-ad23-402c-b573-289cc0bedbec\")>], [<selenium.webdriver.remote.webelement.WebElement (session=\"4d85e711422d1d1d08ddd670989e61c4\", element=\"cb31f0d4-c313-4361-8ab1-dd61b5971d6a\")>], [<selenium.webdriver.remote.webelement.WebElement (session=\"4d85e711422d1d1d08ddd670989e61c4\", element=\"ab52873a-28b4-451e-a20d-70a761979cbc\")>], [<selenium.webdriver.remote.webelement.WebElement (session=\"4d85e711422d1d1d08ddd670989e61c4\", element=\"7eb410ff-246d-482c-9914-636675fda4bf\")>], [<selenium.webdriver.remote.webelement.WebElement (session=\"4d85e711422d1d1d08ddd670989e61c4\", element=\"ff3d0cd6-9279-4a6a-8697-d13e4e4837cf\")>], [<selenium.webdriver.remote.webelement.WebElement (session=\"4d85e711422d1d1d08ddd670989e61c4\", element=\"ccd9a7ca-34b7-421b-8760-d2fd0530c4aa\")>], [<selenium.webdriver.remote.webelement.WebElement (session=\"4d85e711422d1d1d08ddd670989e61c4\", element=\"45109508-fe57-424e-bae4-40d0282c25e2\")>], [<selenium.webdriver.remote.webelement.WebElement (session=\"4d85e711422d1d1d08ddd670989e61c4\", element=\"3bdeca55-fe68-4070-bc8a-b633285d11f6\")>]]\n"
     ]
    }
   ],
   "source": [
    "# for holding the resultant list\n",
    "element_list = []\n",
    "  \n",
    "for page in range(1, 3, 1):\n",
    "    \n",
    "    page_url = \"https://www.ebay.ch/sch/i.html?_from=R40&_nkw=Fahrrad&_sacat=0&_pgn=\" + str(page)\n",
    "    driver.get(page_url)\n",
    "    image_results = driver.find_elements(by=By.CSS_SELECTOR, value=\".s-item__image-img\")\n",
    "    title = driver.find_elements(by=By.CLASS_NAME,value=\"title\")\n",
    "\n",
    "    image_results = driver.find_elements(by=By.CSS_SELECTOR, value=\".s-item__image-img\")\n",
    "\n",
    " \n",
    "    for i in range(len(image_results)):\n",
    "        element_list.append([image_results[i]])\n",
    "       \n",
    "  \n",
    "    print(element_list)"
   ]
  },
  {
   "cell_type": "code",
   "execution_count": 20,
   "id": "b8db4a31",
   "metadata": {},
   "outputs": [],
   "source": [
    "image_urls = set()\n",
    "image_count = 0\n",
    "results_start = 0"
   ]
  },
  {
   "cell_type": "code",
   "execution_count": 21,
   "id": "fdead568",
   "metadata": {},
   "outputs": [
    {
     "name": "stdout",
     "output_type": "stream",
     "text": [
      "Found: 62 search results. Extracting links from 0:62\n",
      "https://ir.ebaystatic.com/rs/v/fxxj3ttftm5ltcqnto1o4baovyl.png\n"
     ]
    }
   ],
   "source": [
    "#Bilder finden\n",
    "thumbnails = driver.find_element(By.CSS_SELECTOR, value=\".s-item__image-img\").get_attribute(\"src\")\n",
    "number_results = len(thumbnails)\n",
    "print(f\"Found: {number_results} search results. Extracting links from {results_start}:{number_results}\")\n",
    "print(thumbnails)"
   ]
  },
  {
   "cell_type": "code",
   "execution_count": 24,
   "id": "d7fa6ef2",
   "metadata": {},
   "outputs": [
    {
     "ename": "IndentationError",
     "evalue": "expected an indented block (<ipython-input-24-941b48e2d835>, line 3)",
     "output_type": "error",
     "traceback": [
      "\u001b[1;36m  File \u001b[1;32m\"<ipython-input-24-941b48e2d835>\"\u001b[1;36m, line \u001b[1;32m3\u001b[0m\n\u001b[1;33m    urllib.request.urlretrieve(url,  str('photo_' + str(i+1) + 'fahrrad.jpg'))\"\"\"\u001b[0m\n\u001b[1;37m    ^\u001b[0m\n\u001b[1;31mIndentationError\u001b[0m\u001b[1;31m:\u001b[0m expected an indented block\n"
     ]
    }
   ],
   "source": [
    "# Download all photos using the urls and save it in the working directory\n",
    "for i, url in enumerate(urls_clean):\n",
    "urllib.request.urlretrieve(url,  str('photo_' + str(i+1) + 'fahrrad.jpg'))\"\"\""
   ]
  },
  {
   "cell_type": "code",
   "execution_count": 12,
   "id": "616716d1",
   "metadata": {},
   "outputs": [
    {
     "data": {
      "text/plain": [
       "\"%matplotlib inline\\n\\nfor i, url in enumerate(urls_clean):\\n    img = mpimg.imread(str('photo_' + str(i+1) + '.jpg'))\\n    plt.figure(figsize=(8,8))\\n    plt.axis('off')\\n    imgplot = plt.imshow(img)\""
      ]
     },
     "execution_count": 12,
     "metadata": {},
     "output_type": "execute_result"
    }
   ],
   "source": [
    "# Plot the photo\n",
    "\"\"\"%matplotlib inline\n",
    "\n",
    "for i, url in enumerate(urls_clean):\n",
    "    img = mpimg.imread(str('photo_' + str(i+1) + '.jpg'))\n",
    "    plt.figure(figsize=(8,8))\n",
    "    plt.axis('off')\n",
    "    imgplot = plt.imshow(img)\"\"\""
   ]
  },
  {
   "cell_type": "code",
   "execution_count": 13,
   "id": "ae964429",
   "metadata": {},
   "outputs": [],
   "source": [
    "# Close driver\n",
    "driver.close()"
   ]
  },
  {
   "cell_type": "code",
   "execution_count": null,
   "id": "e66dd7d3-e024-497f-a435-b5655786da37",
   "metadata": {},
   "outputs": [],
   "source": []
  }
 ],
 "metadata": {
  "kernelspec": {
   "display_name": "Python 3",
   "language": "python",
   "name": "python3"
  },
  "language_info": {
   "codemirror_mode": {
    "name": "ipython",
    "version": 3
   },
   "file_extension": ".py",
   "mimetype": "text/x-python",
   "name": "python",
   "nbconvert_exporter": "python",
   "pygments_lexer": "ipython3",
   "version": "3.8.8"
  }
 },
 "nbformat": 4,
 "nbformat_minor": 5
}
