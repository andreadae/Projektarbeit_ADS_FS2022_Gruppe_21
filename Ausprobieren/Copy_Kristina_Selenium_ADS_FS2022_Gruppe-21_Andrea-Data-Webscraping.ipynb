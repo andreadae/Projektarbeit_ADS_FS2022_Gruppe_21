{
 "cells": [
  {
   "cell_type": "markdown",
   "id": "97c6b08e",
   "metadata": {},
   "source": [
    "# <font color='black'>Applied Data Science Project Grupp 21 - FS 2022 - Andrea</font>\n",
    "# <font color='blue'>Fahrzeug-Bilder-Erkennung</font>\n",
    "<font color=\"blue\">Quellen</font>\n",
    "<li>flickr_api_example/flickr_example_01.ipynb von Mario Gellrich</li>\n",
    "<li>flickr_api_example/flickr_example_01.ipynb von Mario Gellrich</li>\n",
    "<li>https://www.tensorflow.org/tutorials/images/classification</li>\n",
    "<li>Exercise6-transfer_learning.ipynb von Elena Gavarin</li>\n"
   ]
  },
  {
   "cell_type": "markdown",
   "id": "35dc8de9",
   "metadata": {},
   "source": [
    "## <font color='blue'>Notebook Preparation</font>\n",
    "<font color='blue'>Installed Tools</font>\n",
    "<li>pip install pandas</li>\n",
    "<li>pip install numpy</li>\n",
    "<li>pip install matplotlib.pyplot</li>\n",
    "<li>pip install tensorflow</li>\n",
    "<li>pip install PIL</li>\n",
    "<li>pip install webdriver-manager</li>\n",
    "<li>pip install selenium</li>\n"
   ]
  },
  {
   "cell_type": "code",
   "execution_count": 1,
   "id": "194d4e7f",
   "metadata": {},
   "outputs": [
    {
     "name": "stdout",
     "output_type": "stream",
     "text": [
      "Import Libraries Successfull\n"
     ]
    }
   ],
   "source": [
    "import os\n",
    "from selenium import webdriver\n",
    "from selenium.webdriver.chrome.service import Service\n",
    "from webdriver_manager.chrome import ChromeDriverManager\n",
    "from selenium.webdriver.chrome.options import Options\n",
    "from selenium.webdriver.common.keys import Keys\n",
    "from selenium.webdriver.common.by import By\n",
    "\n",
    "print (\"Import Libraries Successfull\")"
   ]
  },
  {
   "cell_type": "markdown",
   "id": "9ecd7bed",
   "metadata": {},
   "source": [
    "# Webscraping ebay.ch\n",
    "## Fahrrad Bilder"
   ]
  },
  {
   "cell_type": "code",
   "execution_count": 2,
   "id": "e5025403",
   "metadata": {
    "scrolled": true
   },
   "outputs": [
    {
     "name": "stdout",
     "output_type": "stream",
     "text": [
      "C:\\Test_ADS_FS22_Webscraping\n",
      "\n"
     ]
    },
    {
     "name": "stderr",
     "output_type": "stream",
     "text": [
      "[WDM] - ====== WebDriver manager ======\n",
      "[WDM] - Current google-chrome version is 102.0.5005\n",
      "[WDM] - Get LATEST chromedriver version for 102.0.5005 google-chrome\n",
      "[WDM] - Driver [C:\\Users\\krist\\.wdm\\drivers\\chromedriver\\win32\\102.0.5005.61\\chromedriver.exe] found in cache\n"
     ]
    }
   ],
   "source": [
    "# Working directory\n",
    "os.chdir('C:/Test_ADS_FS22_Webscraping')\n",
    "print(os.getcwd())\n",
    "\n",
    "# Set Options\n",
    "#opts = Options()\n",
    "#opts.add_argument(\"--window-size=1200,800\")\n",
    "driver = webdriver.Chrome(service=Service(ChromeDriverManager().install()))\n",
    "\n",
    "\n",
    "# Website to scrape\n",
    "driver.get(\"https://www.ebay.de/sch/i.html?_from=R40&_trksid=p2380057.m570.l1313&_nkw=fahrrad&_sacat=0\")\n",
    "\n",
    "# Fill in the search text\n",
    "#text_to_send = 'Fahrrad'\n",
    "#search = driver.find_element(by=By.XPATH, value=\"/html/body/header/table/tbody/tr/td[3]/form/table/tbody/tr/td[1]/div[1]/div/input[1]\")\n",
    "#search.clear()\n",
    "#search.send_keys(text_to_send)\n",
    "#search.submit()\n",
    "\n",
    "\n",
    "\n",
    "#srp-river-results > ul > li:nth-child(3) > div > div.s-item__image-section > div > a > div > img\n",
    "\n",
    "#/html/body/div[6]/div[4]/div[2]/div[1]/div[2]/ul/li[3]/div/div[1]/div/a/div/img\n",
    "\n"
   ]
  },
  {
   "cell_type": "code",
   "execution_count": 3,
   "id": "dc1ca46b",
   "metadata": {},
   "outputs": [],
   "source": [
    "def fetch_image_urls(query:str, max_links_to_fetch:int, wd:webdriver, sleep_between_interactions:int=3):\n",
    "    def scroll_to_end(wd, scroll_point):  \n",
    "        wd.execute_script(f\"window.scrollTo(0, {scroll_point});\")\n",
    "        time.sleep(sleep_between_interactions)    \n",
    " \n",
    "        \n",
    "# build the unsplash query\n",
    "    search_url = f\"https://unsplash.com/s/photos/office\"\n",
    "# load the page\n",
    "    wd.get(search_url)\n",
    "    time.sleep(sleep_between_interactions)  \n",
    "    \n",
    "    image_urls = set()\n",
    "    image_count = 0\n",
    "    number_results = 0\n",
    "    \n",
    "    for i in range(1,20):\n",
    "        scroll_to_end(wd, i*1000)\n",
    "        time.sleep(5)\n",
    "        thumb = wd.find_elements_by_css_selector(\"img._2zEKz\")\n",
    "        time.sleep(5)\n",
    "        for img in thumb:\n",
    "            print(img)\n",
    "            print(img.get_attribute('src'))\n",
    "            image_urls.add(img.get_attribute('src'))\n",
    "            image_count = len(image_urls)\n",
    "            number_results = image_count\n",
    "            time.sleep(.5)\n",
    "        print(f\"Found: {number_results} search results. Extracting links...\")\n",
    "\n",
    "#return image_urls\n"
   ]
  },
  {
   "cell_type": "code",
   "execution_count": null,
   "id": "082fcdc9",
   "metadata": {},
   "outputs": [],
   "source": [
    "# for holding the resultant list\n",
    "element_list = []\n",
    "  \n",
    "for page in range(1, 3, 1):\n",
    "    \n",
    "    page_url = \"https://www.ebay.ch/sch/i.html?_from=R40&_nkw=Fahrrad&_sacat=0&_pgn=\" + str(page)\n",
    "    driver.get(page_url)\n",
    "    image_results = driver.find_elements(by=By.CSS_SELECTOR, value=\".s-item__image-img\")\n",
    "    title = driver.find_elements(by=By.CLASS_NAME,value=\"title\")\n",
    "\n",
    "    image_results = driver.find_elements(by=By.CSS_SELECTOR, value=\".s-item__image-img\")\n",
    "\n",
    " \n",
    "    for i in range(len(image_results)):\n",
    "        element_list.append([image_results[i]])\n",
    "       \n",
    "  \n",
    "    print(element_list)"
   ]
  },
  {
   "cell_type": "code",
   "execution_count": 27,
   "id": "b8db4a31",
   "metadata": {},
   "outputs": [],
   "source": [
    "image_urls = set()\n",
    "image_count = 0\n",
    "results_start = 0"
   ]
  },
  {
   "cell_type": "code",
   "execution_count": 28,
   "id": "fdead568",
   "metadata": {},
   "outputs": [
    {
     "name": "stdout",
     "output_type": "stream",
     "text": [
      "Found: 62 search results. Extracting links from 0:62\n",
      "https://ir.ebaystatic.com/rs/v/fxxj3ttftm5ltcqnto1o4baovyl.png\n"
     ]
    }
   ],
   "source": [
    "#Bilder finden\n",
    "thumbnails = driver.find_element(By.CSS_SELECTOR, value=\".s-item__image-img\").get_attribute(\"src\")\n",
    "number_results = len(thumbnails)\n",
    "print(f\"Found: {number_results} search results. Extracting links from {results_start}:{number_results}\")\n",
    "print(thumbnails)"
   ]
  },
  {
   "cell_type": "code",
   "execution_count": 8,
   "id": "d7fa6ef2",
   "metadata": {},
   "outputs": [
    {
     "data": {
      "text/plain": [
       "\"for i, url in enumerate(urls_clean):\\n    urllib.request.urlretrieve(url,  str('photo_' + str(i+1) + '.jpg'))\""
      ]
     },
     "execution_count": 8,
     "metadata": {},
     "output_type": "execute_result"
    }
   ],
   "source": [
    "# Download all photos using the urls and save it in the working directory\n",
    "\"\"\"for i, url in enumerate(urls_clean):\n",
    "    urllib.request.urlretrieve(url,  str('photo_' + str(i+1) + '.jpg'))\"\"\""
   ]
  },
  {
   "cell_type": "code",
   "execution_count": 11,
   "id": "616716d1",
   "metadata": {},
   "outputs": [
    {
     "data": {
      "text/plain": [
       "\"%matplotlib inline\\n\\nfor i, url in enumerate(urls_clean):\\n    img = mpimg.imread(str('photo_' + str(i+1) + '.jpg'))\\n    plt.figure(figsize=(8,8))\\n    plt.axis('off')\\n    imgplot = plt.imshow(img)\""
      ]
     },
     "execution_count": 11,
     "metadata": {},
     "output_type": "execute_result"
    }
   ],
   "source": [
    "# Plot the photo\n",
    "\"\"\"%matplotlib inline\n",
    "\n",
    "for i, url in enumerate(urls_clean):\n",
    "    img = mpimg.imread(str('photo_' + str(i+1) + '.jpg'))\n",
    "    plt.figure(figsize=(8,8))\n",
    "    plt.axis('off')\n",
    "    imgplot = plt.imshow(img)\"\"\""
   ]
  },
  {
   "cell_type": "code",
   "execution_count": 10,
   "id": "ae964429",
   "metadata": {},
   "outputs": [],
   "source": [
    "# Close driver\n",
    "driver.close()"
   ]
  },
  {
   "cell_type": "code",
   "execution_count": null,
   "id": "e66dd7d3-e024-497f-a435-b5655786da37",
   "metadata": {},
   "outputs": [],
   "source": []
  }
 ],
 "metadata": {
  "kernelspec": {
   "display_name": "Python 3",
   "language": "python",
   "name": "python3"
  },
  "language_info": {
   "codemirror_mode": {
    "name": "ipython",
    "version": 3
   },
   "file_extension": ".py",
   "mimetype": "text/x-python",
   "name": "python",
   "nbconvert_exporter": "python",
   "pygments_lexer": "ipython3",
   "version": "3.8.8"
  }
 },
 "nbformat": 4,
 "nbformat_minor": 5
}
