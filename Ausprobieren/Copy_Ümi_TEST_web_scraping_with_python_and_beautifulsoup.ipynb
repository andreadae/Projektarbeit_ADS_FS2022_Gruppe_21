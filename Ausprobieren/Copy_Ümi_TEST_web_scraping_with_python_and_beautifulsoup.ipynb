{
 "cells": [
  {
   "cell_type": "markdown",
   "id": "frank-setup",
   "metadata": {},
   "source": [
    "# COPY Kristina: Web Scraping with Python and Beautifulsoup"
   ]
  },
  {
   "cell_type": "markdown",
   "id": "competitive-cameroon",
   "metadata": {},
   "source": [
    "## Import libraries"
   ]
  },
  {
   "cell_type": "code",
   "execution_count": 27,
   "id": "indoor-washer",
   "metadata": {},
   "outputs": [],
   "source": [
    "import requests\n",
    "import xlwt\n",
    "from bs4 import BeautifulSoup\n",
    "import urllib.request\n",
    "from PIL import Image\n",
    "#pip install Pillow"
   ]
  },
  {
   "cell_type": "markdown",
   "id": "sacred-sperm",
   "metadata": {},
   "source": [
    "## Webscraping BeautifulSoup: Fahrrad ebay"
   ]
  },
  {
   "cell_type": "code",
   "execution_count": 2,
   "id": "intelligent-reproduction",
   "metadata": {},
   "outputs": [],
   "source": [
    "import os\n",
    "os.chdir('C:/Test_ADS_FS22_Webscraping')"
   ]
  },
  {
   "cell_type": "code",
   "execution_count": 7,
   "id": "9650ac0b-ecfb-458f-a11d-2a02d549b03d",
   "metadata": {},
   "outputs": [],
   "source": [
    "URL = \"https://www.ebay.ch/sch/i.html?_from=R40&_trksid=p2380057.m570.l1313&_nkw=fahrrad&_sacat=0\"\n",
    "page = requests.get(URL)\n",
    "soup = BeautifulSoup(page.content, 'html.parser')\n",
    "# Here we instantiate the soup object which is of the type BeautifulSoup. \n",
    "# The first argument ‘ page.content ’, passes the HTML content in the variable page to the soup object, and the second argument ‘ html.parser ’ simply specifies what is going to be the role of the soup object.\n",
    "print(soup.prettify())"
   ]
  },
  {
   "cell_type": "code",
   "execution_count": 28,
   "id": "abcf5e7d-d220-45ad-82a6-2d9ae12f396f",
   "metadata": {},
   "outputs": [],
   "source": [
    "# This is an optional command that helps you to view the HTML content in a form that is human readable.\n",
    "image_tags = soup.find_all('img', class_='s-item__image-img')"
   ]
  },
  {
   "cell_type": "code",
   "execution_count": 29,
   "id": "5a574e0f-4aba-4476-8a2f-3f747aeb8c84",
   "metadata": {},
   "outputs": [
    {
     "data": {
      "text/plain": [
       "('ebay-fahrrad/bild1.jpg', <http.client.HTTPMessage at 0x1cf017a08e0>)"
      ]
     },
     "execution_count": 29,
     "metadata": {},
     "output_type": "execute_result"
    }
   ],
   "source": [
    "# Thus in a nutshell the above command creates a list named image_tags containing all the image tags that have a class ‘t0fcAb’.\n",
    "links = []\n",
    "for image_tag in image_tags:\n",
    "    links.append(image_tag['src'])\n",
    "#The first line creates an empty list named as links. The following for loop, loops through all the img tags in the list image_tags and then appends the content in the src attribute of every img tag, to the list links.\n",
    "import urllib.request\n",
    "urllib.request.urlretrieve(links[1], \"ebay-fahrrad/bild1.jpg\")"
   ]
  },
  {
   "cell_type": "code",
   "execution_count": 31,
   "id": "c45637fd-ce5b-448e-ab74-7ac5d627f9c9",
   "metadata": {},
   "outputs": [
    {
     "name": "stdout",
     "output_type": "stream",
     "text": [
      "<!DOCTYPE html><!--[if IE 9 ]>    <html class=\"ie9\"> <![endif]--><!--[if (gt IE 9)|!(IE)]><!--><html\n"
     ]
    }
   ],
   "source": [
    "# https://docs.python.org/3/library/urllib.request.html\n",
    "f = urllib.request.urlopen('http://www.ebay.ch/')\n",
    "print(f.read(100).decode('utf-8'))"
   ]
  },
  {
   "cell_type": "code",
   "execution_count": 24,
   "id": "802fc00a-938b-44f4-99c3-0f2b03497dcd",
   "metadata": {},
   "outputs": [],
   "source": [
    "from PIL import Image\n",
    "dimensions = (140, 220)\n",
    "i = Image.open('ebay-fahrrad/bild1.jpg')\n",
    "i.thumbnail(dimensions)\n",
    "i.show()"
   ]
  },
  {
   "cell_type": "markdown",
   "id": "advisory-thumb",
   "metadata": {
    "jupyter": {
     "source_hidden": true
    },
    "tags": []
   },
   "source": [
    "## ALT MARIO TEMPLATE: Create workbook"
   ]
  },
  {
   "cell_type": "code",
   "execution_count": 7,
   "id": "contained-columbus",
   "metadata": {
    "collapsed": true,
    "jupyter": {
     "outputs_hidden": true,
     "source_hidden": true
    },
    "tags": []
   },
   "outputs": [
    {
     "ename": "NameError",
     "evalue": "name 'xlwt' is not defined",
     "output_type": "error",
     "traceback": [
      "\u001b[1;31m---------------------------------------------------------------------------\u001b[0m",
      "\u001b[1;31mNameError\u001b[0m                                 Traceback (most recent call last)",
      "\u001b[1;32m<ipython-input-7-dda63490dc0e>\u001b[0m in \u001b[0;36m<module>\u001b[1;34m\u001b[0m\n\u001b[1;32m----> 1\u001b[1;33m \u001b[0mwb\u001b[0m \u001b[1;33m=\u001b[0m \u001b[0mxlwt\u001b[0m\u001b[1;33m.\u001b[0m\u001b[0mWorkbook\u001b[0m\u001b[1;33m(\u001b[0m\u001b[1;33m)\u001b[0m\u001b[1;33m\u001b[0m\u001b[1;33m\u001b[0m\u001b[0m\n\u001b[0m\u001b[0;32m      2\u001b[0m \u001b[0mws\u001b[0m \u001b[1;33m=\u001b[0m \u001b[0mwb\u001b[0m\u001b[1;33m.\u001b[0m\u001b[0madd_sheet\u001b[0m\u001b[1;33m(\u001b[0m\u001b[1;34m'images'\u001b[0m\u001b[1;33m)\u001b[0m\u001b[1;33m\u001b[0m\u001b[1;33m\u001b[0m\u001b[0m\n\u001b[0;32m      3\u001b[0m \u001b[0mws\u001b[0m\u001b[1;33m.\u001b[0m\u001b[0mwrite\u001b[0m\u001b[1;33m(\u001b[0m\u001b[1;36m0\u001b[0m\u001b[1;33m,\u001b[0m \u001b[1;36m0\u001b[0m\u001b[1;33m,\u001b[0m \u001b[1;34m'images'\u001b[0m\u001b[1;33m)\u001b[0m\u001b[1;33m\u001b[0m\u001b[1;33m\u001b[0m\u001b[0m\n",
      "\u001b[1;31mNameError\u001b[0m: name 'xlwt' is not defined"
     ]
    }
   ],
   "source": [
    "wb = xlwt.Workbook()\n",
    "ws = wb.add_sheet('images')\n",
    "ws.write(0, 0, 'images')"
   ]
  },
  {
   "cell_type": "markdown",
   "id": "structural-produce",
   "metadata": {
    "jupyter": {
     "source_hidden": true
    },
    "tags": []
   },
   "source": [
    "## Initialize list and counter"
   ]
  },
  {
   "cell_type": "code",
   "execution_count": 10,
   "id": "floating-glucose",
   "metadata": {
    "jupyter": {
     "source_hidden": true
    },
    "tags": []
   },
   "outputs": [],
   "source": [
    "imagesList= []\n",
    "r=0"
   ]
  },
  {
   "cell_type": "markdown",
   "id": "stupid-daniel",
   "metadata": {
    "jupyter": {
     "source_hidden": true
    },
    "tags": []
   },
   "source": [
    "## Add URL to search for emails"
   ]
  },
  {
   "cell_type": "code",
   "execution_count": 11,
   "id": "bridal-isolation",
   "metadata": {
    "jupyter": {
     "source_hidden": true
    },
    "tags": []
   },
   "outputs": [],
   "source": [
    "# Add url of the page you want to scrape to urlString\n",
    "urlString = 'https://www.ebay.ch/'\n",
    "# urlString='https://www.agvs-upsa.ch/de/verband/mitgliederverzeichnis/liste'"
   ]
  },
  {
   "cell_type": "markdown",
   "id": "valid-radical",
   "metadata": {
    "jupyter": {
     "source_hidden": true
    },
    "tags": []
   },
   "source": [
    "## Function to extract emails and store them in the list"
   ]
  },
  {
   "cell_type": "code",
   "execution_count": 3,
   "id": "tribal-animal",
   "metadata": {
    "collapsed": true,
    "jupyter": {
     "outputs_hidden": true,
     "source_hidden": true
    },
    "tags": []
   },
   "outputs": [
    {
     "ename": "NameError",
     "evalue": "name 'urlString' is not defined",
     "output_type": "error",
     "traceback": [
      "\u001b[1;31m---------------------------------------------------------------------------\u001b[0m",
      "\u001b[1;31mNameError\u001b[0m                                 Traceback (most recent call last)",
      "\u001b[1;32m<ipython-input-3-1a9a67bed7df>\u001b[0m in \u001b[0;36m<module>\u001b[1;34m\u001b[0m\n\u001b[0;32m     12\u001b[0m         \u001b[0mimagesList\u001b[0m\u001b[1;33m.\u001b[0m\u001b[0mappend\u001b[0m\u001b[1;33m(\u001b[0m\u001b[0mstr2\u001b[0m\u001b[1;33m)\u001b[0m\u001b[1;33m\u001b[0m\u001b[1;33m\u001b[0m\u001b[0m\n\u001b[0;32m     13\u001b[0m \u001b[1;33m\u001b[0m\u001b[0m\n\u001b[1;32m---> 14\u001b[1;33m \u001b[0mimagesExtractor\u001b[0m\u001b[1;33m(\u001b[0m\u001b[0murlString\u001b[0m\u001b[1;33m)\u001b[0m\u001b[1;33m\u001b[0m\u001b[1;33m\u001b[0m\u001b[0m\n\u001b[0m",
      "\u001b[1;31mNameError\u001b[0m: name 'urlString' is not defined"
     ]
    }
   ],
   "source": [
    "def imagesExtractor(urlString):\n",
    "    getH = requests.get(urlString)\n",
    "    h = getH.content\n",
    "    soup = BeautifulSoup(h, 'html.parser')\n",
    "    mailtos = soup.select('a[href^=mailto]')\n",
    "    for i in mailtos:\n",
    "        href = i['href']\n",
    "        try:\n",
    "            str1, str2 = href.split(':')\n",
    "        except ValueError:\n",
    "            break\n",
    "        imagesList.append(str2)\n",
    "\n",
    "imagesExtractor(urlString)"
   ]
  },
  {
   "cell_type": "code",
   "execution_count": 13,
   "id": "descending-smith",
   "metadata": {
    "collapsed": true,
    "jupyter": {
     "outputs_hidden": true,
     "source_hidden": true
    },
    "tags": []
   },
   "outputs": [
    {
     "name": "stdout",
     "output_type": "stream",
     "text": [
      "<Response [200]>\n"
     ]
    }
   ],
   "source": [
    "# Parts of the function ...\n",
    "getH = requests.get(urlString)\n",
    "print(getH)"
   ]
  },
  {
   "cell_type": "code",
   "execution_count": 14,
   "id": "better-johnston",
   "metadata": {
    "jupyter": {
     "source_hidden": true
    },
    "tags": []
   },
   "outputs": [],
   "source": [
    "# HTML-document\n",
    "h    = getH.content\n",
    "# print(h)"
   ]
  },
  {
   "cell_type": "code",
   "execution_count": 2,
   "id": "hydraulic-joint",
   "metadata": {
    "collapsed": true,
    "jupyter": {
     "outputs_hidden": true,
     "source_hidden": true
    },
    "tags": []
   },
   "outputs": [
    {
     "ename": "NameError",
     "evalue": "name 'BeautifulSoup' is not defined",
     "output_type": "error",
     "traceback": [
      "\u001b[1;31m---------------------------------------------------------------------------\u001b[0m",
      "\u001b[1;31mNameError\u001b[0m                                 Traceback (most recent call last)",
      "\u001b[1;32m<ipython-input-2-5253f0e0c942>\u001b[0m in \u001b[0;36m<module>\u001b[1;34m\u001b[0m\n\u001b[0;32m      1\u001b[0m \u001b[1;31m# HTML parse tree\u001b[0m\u001b[1;33m\u001b[0m\u001b[1;33m\u001b[0m\u001b[1;33m\u001b[0m\u001b[0m\n\u001b[1;32m----> 2\u001b[1;33m \u001b[0msoup\u001b[0m \u001b[1;33m=\u001b[0m \u001b[0mBeautifulSoup\u001b[0m\u001b[1;33m(\u001b[0m\u001b[0mh\u001b[0m\u001b[1;33m,\u001b[0m\u001b[1;34m'html.parser'\u001b[0m\u001b[1;33m)\u001b[0m\u001b[1;33m\u001b[0m\u001b[1;33m\u001b[0m\u001b[0m\n\u001b[0m\u001b[0;32m      3\u001b[0m \u001b[1;31m# print(soup)\u001b[0m\u001b[1;33m\u001b[0m\u001b[1;33m\u001b[0m\u001b[1;33m\u001b[0m\u001b[0m\n",
      "\u001b[1;31mNameError\u001b[0m: name 'BeautifulSoup' is not defined"
     ]
    }
   ],
   "source": [
    "# HTML parse tree\n",
    "soup = BeautifulSoup(h,'html.parser')\n",
    "# print(soup)"
   ]
  },
  {
   "cell_type": "code",
   "execution_count": 16,
   "id": "broad-project",
   "metadata": {
    "collapsed": true,
    "jupyter": {
     "outputs_hidden": true,
     "source_hidden": true
    },
    "tags": []
   },
   "outputs": [
    {
     "name": "stdout",
     "output_type": "stream",
     "text": [
      "[]\n"
     ]
    }
   ],
   "source": [
    "# Links containing emails\n",
    "mailtos = soup.select('a[href^=mailto]')\n",
    "print(mailtos[0:2])"
   ]
  },
  {
   "cell_type": "code",
   "execution_count": 1,
   "id": "written-excess",
   "metadata": {
    "collapsed": true,
    "jupyter": {
     "outputs_hidden": true,
     "source_hidden": true
    },
    "tags": []
   },
   "outputs": [
    {
     "ename": "SyntaxError",
     "evalue": "invalid syntax (<ipython-input-1-c18099b03970>, line 3)",
     "output_type": "error",
     "traceback": [
      "\u001b[1;36m  File \u001b[1;32m\"<ipython-input-1-c18099b03970>\"\u001b[1;36m, line \u001b[1;32m3\u001b[0m\n\u001b[1;33m    https://ir.ebaystatic.com/pictures/aw/pics/s_1x2.gif\u001b[0m\n\u001b[1;37m          ^\u001b[0m\n\u001b[1;31mSyntaxError\u001b[0m\u001b[1;31m:\u001b[0m invalid syntax\n"
     ]
    }
   ],
   "source": [
    "# Get single email\n",
    "# Get single image\n",
    "https://ir.ebaystatic.com/pictures/aw/pics/s_1x2.gif\n",
    "href = mailtos[0]['href']\n",
    "href"
   ]
  },
  {
   "cell_type": "code",
   "execution_count": 24,
   "id": "settled-attitude",
   "metadata": {
    "collapsed": true,
    "jupyter": {
     "outputs_hidden": true,
     "source_hidden": true
    },
    "tags": []
   },
   "outputs": [
    {
     "ename": "NameError",
     "evalue": "name 'href' is not defined",
     "output_type": "error",
     "traceback": [
      "\u001b[1;31m---------------------------------------------------------------------------\u001b[0m",
      "\u001b[1;31mNameError\u001b[0m                                 Traceback (most recent call last)",
      "\u001b[1;32m<ipython-input-24-22e2022fc813>\u001b[0m in \u001b[0;36m<module>\u001b[1;34m\u001b[0m\n\u001b[0;32m      1\u001b[0m \u001b[1;31m# Splits the string\u001b[0m\u001b[1;33m\u001b[0m\u001b[1;33m\u001b[0m\u001b[1;33m\u001b[0m\u001b[0m\n\u001b[1;32m----> 2\u001b[1;33m \u001b[0mstr1\u001b[0m\u001b[1;33m,\u001b[0m \u001b[0mstr2\u001b[0m \u001b[1;33m=\u001b[0m \u001b[0mhref\u001b[0m\u001b[1;33m.\u001b[0m\u001b[0msplit\u001b[0m\u001b[1;33m(\u001b[0m\u001b[1;34m':'\u001b[0m\u001b[1;33m)\u001b[0m\u001b[1;33m\u001b[0m\u001b[1;33m\u001b[0m\u001b[0m\n\u001b[0m\u001b[0;32m      3\u001b[0m \u001b[0mstr2\u001b[0m\u001b[1;33m\u001b[0m\u001b[1;33m\u001b[0m\u001b[0m\n",
      "\u001b[1;31mNameError\u001b[0m: name 'href' is not defined"
     ]
    }
   ],
   "source": [
    "# Splits the string\n",
    "str1, str2 = href.split(':')\n",
    "str2"
   ]
  },
  {
   "cell_type": "markdown",
   "id": "fundamental-unknown",
   "metadata": {
    "jupyter": {
     "source_hidden": true
    },
    "tags": []
   },
   "source": [
    "## Print scraped emails and add it to an excel sheet"
   ]
  },
  {
   "cell_type": "code",
   "execution_count": 13,
   "id": "determined-sense",
   "metadata": {
    "collapsed": true,
    "jupyter": {
     "outputs_hidden": true,
     "source_hidden": true
    },
    "tags": []
   },
   "outputs": [
    {
     "name": "stdout",
     "output_type": "stream",
     "text": [
      "schulverwaltung@tagesschule-adlikon.ch\n",
      "schule@adliswil.ch\n",
      "praesidiumaesch@nassenmatt.ch\n",
      "schulverwaltung@bruelmatt.ch\n",
      "schulverwaltung@schule-aeugst.ch\n",
      "schulverwaltung@osa.ch\n",
      "primarschule@stadtaffoltern.ch\n",
      "verwaltung@schulzweckverband.ch\n",
      "schule.altikon@bluewin.ch\n",
      "schulverwaltung@ps-andelfingen.ch\n",
      "schulverwaltung@sek-andelfingen.ch\n",
      "schulverwaltung.bachenbuelach@psbb.ch\n",
      "schulverwaltung@sekbuelach.ch\n",
      "schulverwaltung@primarschule-bachs.ch\n",
      "schulverwaltung@baeretswil.org\n",
      "schulverwaltung@bassersdorf.ch\n",
      "schulverwaltung@schulebauma.ch\n",
      "schulleitung@schulebenken.ch\n",
      "schulverwaltung@primabirmensdorf.ch\n",
      "schulverwaltung@primarschule-bonstetten.ch\n",
      "schulverwaltung@sek-bonstetten.ch\n",
      "schulleitung@schuleboppelsen.ch\n",
      "schulverwaltung@schulebruetten.ch\n",
      "bildung@bubikon.ch\n",
      "schulverwaltung@buchs-zh.ch\n",
      "primarschule@buelach.ch\n",
      "sekretariat@schuledachsen.ch\n",
      "schulverwaltung@primarschule-daegerlen.ch\n",
      "schulverwaltung@leepuent.ch\n",
      "schulverwaltung@schule-rotflue.ch\n",
      "schulverwaltung@schuledaettlikon.ch\n",
      "primarschule@psdielsdorf.ch\n",
      "schulverwaltung@sekdielsdorf.ch\n",
      "schulverwaltung@dietikon.ch\n",
      "schule@dietlikon.org\n",
      "sekretariat@schule-dinhard.ch\n",
      "primarschule@duebendorf.ch\n",
      "schulverwaltung@sek-ds.ch\n",
      "schulabteilung@schuleduernten.ch\n",
      "bildung@egg.ch\n",
      "schulverwaltung@eglisau.ch\n",
      "schulverwaltung@schule-elgg.ch\n",
      "schulverwaltung@sek-elgg.ch\n",
      "verwaltung@schule-ellikon.ch\n",
      "schulverwaltung@sekrickenbach.ch\n",
      "verwaltung@elsauschlatt.ch\n",
      "info@ps.embra.ch\n",
      "info@sek-embra.ch\n",
      "schulverwaltung@erlenbach.ch\n",
      "schulverwaltung@schulefaellanden.ch\n",
      "sekretariat@schulefehraltorf.ch\n",
      "schulverwaltung@schule-feuerthalen.ch\n",
      "schulsekretariat@fischenthal.ch\n",
      "personal@schuleflaachtal.ch\n",
      "sekretariat@schule-flurlingen.ch\n",
      "schulverwaltung@schule-glattfelden.ch\n",
      "schulverwaltung@schulegossau-zh.ch\n",
      "schulverwaltung@primgreif.ch\n",
      "sekretariat@schulegrueningen.ch\n",
      "sekretariat@schule-hagenbuch.ch\n",
      "schulverwaltung@hausen.zh.ch\n",
      "schulverwaltung@sekhausen.ch\n",
      "schulverwaltung@hedingen.ch\n",
      "schulverwaltung@schule-henggart.ch\n",
      "schulverwaltung@schule-herrliberg.ch\n",
      "schulverwaltung@gseh.ch\n",
      "verwaltung@schule-hettlingen.ch\n",
      "schulverwaltung@schulehinwil.ch\n",
      "schule@hittnau.ch\n",
      "info@schule-hochfelden.ch\n",
      "schulverwaltung@schulehoeri.ch\n",
      "bea.pfeifer@hombrechtikon.ch\n",
      "schulsekretariat@horgen.ch\n",
      "jolanda.bechtiger@pshumlikon.ch\n",
      "bildung@ilef.ch\n",
      "schulleitung@schule-kappel-aa.ch\n",
      "schulverwaltung@kilchberg.ch\n",
      "schulverwaltung@campusmoos.ch\n",
      "schulverwaltung@kloten.ch\n",
      "sekretariat@schuleknonau.ch\n",
      "schulverwaltung@sekmaettmi.ch\n",
      "schulverwaltung@schule-kuesnacht.ch\n",
      "schule@langnau.zh.ch\n",
      "schulverwaltung@lindau.ch\n",
      "info@schule-lufingen.ch\n",
      "schule@maennedorf.ch\n",
      "sekretariat@primarschule-marthalen.ch\n",
      "schulleitung@skmarthalen.ch\n",
      "schulverwaltung@tagesschule-maschwanden.ch\n",
      "schule@maur.ch\n",
      "schulverwaltung@schulemeilen.ch\n",
      "schulverwaltung@ps-mettmenstetten.ch\n",
      "schulpflege@moenchaltorf.ch\n",
      "schulverwaltung@oswueri.ch\n",
      "schulverwaltung@primarschule-neerach.ch\n",
      "schulverwaltung@schule-neftenbach.ch\n",
      "schulverwaltung@primarschule-niederglatt.ch\n",
      "schule@eduzis.ch\n",
      "primarschule@niederhasli.ch\n",
      "monika.manfredi@nuerensdorf.ch\n",
      "schulverwaltung@schule-oberembrach.ch\n",
      "info@sek-embra.ch\n",
      "schulverwaltung@oberengstringen.ch\n",
      "primarschule@oberglatt.zh.ch\n",
      "schulverwaltung@sekro.ch\n",
      "nadja.juon@oberrieden.ch\n",
      "schulverwaltung@primarobfelden.ch\n",
      "schulverwaltung@sek-obfelden.ch\n",
      "schulverwaltung@schule-oetwil.ch\n",
      "schulverwaltung@psog.ch\n",
      "schule@opfikon.ch\n",
      "schulverwaltung@ps-ossingen.ch\n",
      "schulverwaltung@sekossingen.ch\n",
      "schulpflege@ps-o.ch\n",
      "sekretariat@sekuf.ch\n",
      "schulverwaltung@ps-ottenbach.ch\n",
      "schule@pfaeffikon.ch\n",
      "schulverwaltung@schulepfungen.ch\n",
      "schule.verwaltung@rafz.ch\n",
      "k.rehberg@web.de\n",
      "verwaltung@ps-regensdorf.ch\n",
      "patrick.schmid@sek-regensdorf.ch\n",
      "praesidium@primarschule-rheinau.ch\n",
      "erwin.keller@richterswil.ch\n",
      "schulverwaltung@primarschule-rickenbach.ch\n",
      "schulverwaltung@sekrickenbach.ch\n",
      "schulverwaltung@schule-rifferswil.ch\n",
      "sv@schule-rft.ch\n",
      "schulverwaltung@psruemlang.ch\n",
      "schulverwaltung@sekro.ch\n",
      "schulverwaltung@rueschlikon.ch\n",
      "primarschule@rueti.ch\n",
      "schulverwaltung@russikon.ch\n",
      "schule@schlieren.ch\n",
      "zora.mangold@schule-schwerzenbach.ch\n",
      "schulverwaltung@seegraeben.ch\n",
      "sekretariat@primarschule-seuzach.ch\n",
      "schulverwaltung@sekseuzach.ch\n",
      "sekretariat@primarschule-stadel.ch\n",
      "sekretariat@oberstufe-stadel.ch\n",
      "barbara.leuenberger@schulestaefa.ch\n",
      "schulverwaltung@schule-stallikon.ch\n",
      "schulverwaltung@stammheim.ch\n",
      "schulverwaltung@steinmaur.zh.ch\n",
      "cornelia.schumacher@schule-thalheim.ch\n",
      "schulverwaltung@sek-andelfingen.ch\n",
      "bildung@thalwil.ch\n",
      "praesidium@schule-truellikon.ch\n",
      "schulleitung@skmarthalen.ch\n",
      "daniel.hangartner@pstruttikon.ch\n",
      "sekretariat@primarschule-turbenthal.ch\n",
      "schulverwaltung@sektw.ch\n",
      "schulverwaltung@schule-uetikon.ch\n",
      "sekretariat@ps-uhwiesen.ch\n",
      "sekretariat@seku.ch\n",
      "schulverwaltung@schule-uitikon.ch\n",
      "schulverwaltung@ps-buel.ch\n",
      "schulverwaltung@schule-ur.ch\n",
      "hans.karrer@urdorf.ch\n",
      "ps@uster.ch\n",
      "anja.wolf@uster.ch\n",
      "schule@volketswil.ch\n",
      "primarschule@waedenswil.ch\n",
      "sekretariat@oswaedenswil.ch\n",
      "schulverwaltung@schule-wald.ch\n",
      "kontakt@schule.wallisellen.ch\n",
      "roland.wehrli@wangen-bruettisellen.ch\n",
      "info@schulewehntal.ch\n",
      "schulverwaltung@schule-weiach.ch\n",
      "sekretariat@oberstufe-stadel.ch\n",
      "schulverwaltung@weiningen.ch\n",
      "sekretariat@oberstufeweiningen.ch\n",
      "schulverwaltung@schuleweisslingen.ch\n",
      "verwaltung@schulewettswil.ch\n",
      "schulverwaltung@wetzikon.ch\n",
      "sekundarschule@wetzikon.ch\n",
      "schulverwaltung@swibe.ch\n",
      "sekretariat@pswila.ch\n",
      "sekretariat@sekwila.ch\n",
      "sekretariat@schuwi.ch\n",
      "schulverwaltung@sektw.ch\n",
      "verwaltung@schulen-winkel.ch\n",
      "renate.duerr@win.ch\n",
      "maria.belhedi@win.ch\n",
      "gabriela.giezendanner@win.ch\n",
      "hannelore.prinz@win.ch\n",
      "schulverwaltung@zell.ch\n",
      "info@schulezollikon.ch\n",
      "ksb-glattal.info@zuerich.ch\n",
      "ksb-letzi.info@zuerich.ch\n",
      "ksb-limmattal.info@zuerich.ch\n",
      "ksb-schwamendingen.info@zuerich.ch\n",
      "ksb-uto.info@zuerich.ch\n",
      "ksb-waidberg.info@zuerich.ch\n",
      "ksb-zuerichberg.info@zuerich.ch\n",
      "info@schule-zumikon.ch\n",
      "info@bi.zh.ch\n"
     ]
    }
   ],
   "source": [
    "for email in emailList:\n",
    "    r = r + 1\n",
    "    ws.write(r, 0, email)\n",
    "    print(email)\n",
    "\n",
    "wb.save('emails.xls')"
   ]
  }
 ],
 "metadata": {
  "kernelspec": {
   "display_name": "Python 3",
   "language": "python",
   "name": "python3"
  },
  "language_info": {
   "codemirror_mode": {
    "name": "ipython",
    "version": 3
   },
   "file_extension": ".py",
   "mimetype": "text/x-python",
   "name": "python",
   "nbconvert_exporter": "python",
   "pygments_lexer": "ipython3",
   "version": "3.8.8"
  },
  "toc": {
   "base_numbering": 1,
   "nav_menu": {},
   "number_sections": true,
   "sideBar": true,
   "skip_h1_title": false,
   "title_cell": "Table of Contents",
   "title_sidebar": "Contents",
   "toc_cell": false,
   "toc_position": {},
   "toc_section_display": true,
   "toc_window_display": false
  }
 },
 "nbformat": 4,
 "nbformat_minor": 5
}
