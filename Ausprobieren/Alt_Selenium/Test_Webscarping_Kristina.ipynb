{
 "cells": [
  {
   "cell_type": "markdown",
   "id": "80f7db62-87de-488f-9aec-0c551095e37d",
   "metadata": {},
   "source": [
    "Test Webscraping"
   ]
  },
  {
   "cell_type": "code",
   "execution_count": 8,
   "id": "a152072e-8c11-40bb-95fc-38aa04fbb761",
   "metadata": {},
   "outputs": [
    {
     "name": "stdout",
     "output_type": "stream",
     "text": [
      "Requirement already satisfied: selenium in c:\\users\\krist\\anaconda3\\lib\\site-packages (4.2.0)\n",
      "Requirement already satisfied: urllib3[secure,socks]~=1.26 in c:\\users\\krist\\anaconda3\\lib\\site-packages (from selenium) (1.26.4)\n",
      "Requirement already satisfied: trio~=0.17 in c:\\users\\krist\\anaconda3\\lib\\site-packages (from selenium) (0.20.0)\n",
      "Requirement already satisfied: trio-websocket~=0.9 in c:\\users\\krist\\anaconda3\\lib\\site-packages (from selenium) (0.9.2)\n",
      "Requirement already satisfied: cffi>=1.14 in c:\\users\\krist\\anaconda3\\lib\\site-packages (from trio~=0.17->selenium) (1.14.5)\n",
      "Requirement already satisfied: outcome in c:\\users\\krist\\anaconda3\\lib\\site-packages (from trio~=0.17->selenium) (1.1.0)\n",
      "Requirement already satisfied: attrs>=19.2.0 in c:\\users\\krist\\anaconda3\\lib\\site-packages (from trio~=0.17->selenium) (20.3.0)\n",
      "Requirement already satisfied: async-generator>=1.9 in c:\\users\\krist\\anaconda3\\lib\\site-packages (from trio~=0.17->selenium) (1.10)\n",
      "Requirement already satisfied: idna in c:\\users\\krist\\anaconda3\\lib\\site-packages (from trio~=0.17->selenium) (2.10)\n",
      "Requirement already satisfied: sortedcontainers in c:\\users\\krist\\anaconda3\\lib\\site-packages (from trio~=0.17->selenium) (2.3.0)\n",
      "Requirement already satisfied: sniffio in c:\\users\\krist\\anaconda3\\lib\\site-packages (from trio~=0.17->selenium) (1.2.0)\n",
      "Requirement already satisfied: wsproto>=0.14 in c:\\users\\krist\\anaconda3\\lib\\site-packages (from trio-websocket~=0.9->selenium) (1.1.0)\n",
      "Requirement already satisfied: PySocks!=1.5.7,<2.0,>=1.5.6 in c:\\users\\krist\\anaconda3\\lib\\site-packages (from urllib3[secure,socks]~=1.26->selenium) (1.7.1)\n",
      "Requirement already satisfied: pyOpenSSL>=0.14 in c:\\users\\krist\\anaconda3\\lib\\site-packages (from urllib3[secure,socks]~=1.26->selenium) (20.0.1)\n",
      "Requirement already satisfied: cryptography>=1.3.4 in c:\\users\\krist\\anaconda3\\lib\\site-packages (from urllib3[secure,socks]~=1.26->selenium) (3.4.7)\n",
      "Requirement already satisfied: certifi in c:\\users\\krist\\anaconda3\\lib\\site-packages (from urllib3[secure,socks]~=1.26->selenium) (2021.10.8)\n",
      "Requirement already satisfied: pycparser in c:\\users\\krist\\anaconda3\\lib\\site-packages (from cffi>=1.14->trio~=0.17->selenium) (2.20)\n",
      "Requirement already satisfied: six>=1.5.2 in c:\\users\\krist\\anaconda3\\lib\\site-packages (from pyOpenSSL>=0.14->urllib3[secure,socks]~=1.26->selenium) (1.15.0)\n",
      "Requirement already satisfied: h11<1,>=0.9.0 in c:\\users\\krist\\anaconda3\\lib\\site-packages (from wsproto>=0.14->trio-websocket~=0.9->selenium) (0.13.0)\n",
      "Note: you may need to restart the kernel to use updated packages.\n"
     ]
    }
   ],
   "source": [
    "pip install selenium"
   ]
  },
  {
   "cell_type": "code",
   "execution_count": 9,
   "id": "4f776f59-d17d-43d3-be78-1787692ed49a",
   "metadata": {},
   "outputs": [
    {
     "name": "stdout",
     "output_type": "stream",
     "text": [
      "Requirement already satisfied: webdriver-manager in c:\\users\\krist\\anaconda3\\lib\\site-packages (3.7.0)\n",
      "Requirement already satisfied: python-dotenv in c:\\users\\krist\\anaconda3\\lib\\site-packages (from webdriver-manager) (0.20.0)\n",
      "Requirement already satisfied: requests in c:\\users\\krist\\anaconda3\\lib\\site-packages (from webdriver-manager) (2.25.1)\n",
      "Requirement already satisfied: urllib3<1.27,>=1.21.1 in c:\\users\\krist\\anaconda3\\lib\\site-packages (from requests->webdriver-manager) (1.26.4)\n",
      "Requirement already satisfied: certifi>=2017.4.17 in c:\\users\\krist\\anaconda3\\lib\\site-packages (from requests->webdriver-manager) (2021.10.8)\n",
      "Requirement already satisfied: idna<3,>=2.5 in c:\\users\\krist\\anaconda3\\lib\\site-packages (from requests->webdriver-manager) (2.10)\n",
      "Requirement already satisfied: chardet<5,>=3.0.2 in c:\\users\\krist\\anaconda3\\lib\\site-packages (from requests->webdriver-manager) (4.0.0)\n",
      "Note: you may need to restart the kernel to use updated packages.\n"
     ]
    }
   ],
   "source": [
    "pip install webdriver-manager"
   ]
  },
  {
   "cell_type": "code",
   "execution_count": 10,
   "id": "4d7817c3-e3fa-4c1d-a99c-5912c1f0d3e2",
   "metadata": {},
   "outputs": [
    {
     "name": "stdout",
     "output_type": "stream",
     "text": [
      "Import Libraries Successfull\n"
     ]
    }
   ],
   "source": [
    "import os\n",
    "from selenium import webdriver\n",
    "from selenium.webdriver.chrome.service import Service\n",
    "from webdriver_manager.chrome import ChromeDriverManager\n",
    "from selenium.webdriver.chrome.options import Options\n",
    "from selenium.webdriver.common.keys import Keys\n",
    "from selenium.webdriver.common.by import By\n",
    "\n",
    "print (\"Import Libraries Successfull\")"
   ]
  },
  {
   "cell_type": "code",
   "execution_count": 2,
   "id": "7775bd1e-ae15-4f7f-b9e9-a31df457c07a",
   "metadata": {},
   "outputs": [],
   "source": [
    "# Set working directory\n",
    "import os\n",
    "os.chdir('C:\\Test_ADS_FS22_Webscraping\\Test_Fahrrad')\n",
    "\n",
    "# Warnings settings\n",
    "import warnings\n",
    "warnings.filterwarnings(\"ignore\")"
   ]
  },
  {
   "cell_type": "code",
   "execution_count": null,
   "id": "4f1a93bb-541f-4c29-add1-b80f72aa887d",
   "metadata": {},
   "outputs": [],
   "source": []
  },
  {
   "cell_type": "markdown",
   "id": "4caf44df-13f2-4549-967b-1fb105ba0a14",
   "metadata": {},
   "source": [
    "Import a list with user agents"
   ]
  },
  {
   "cell_type": "code",
   "execution_count": 3,
   "id": "00508dcc-f584-4f85-bc43-4c7130c765a7",
   "metadata": {},
   "outputs": [
    {
     "name": "stdout",
     "output_type": "stream",
     "text": [
      "Requirement already satisfied: pyyaml in c:\\users\\krist\\anaconda3\\lib\\site-packages (5.4.1)\n",
      "Requirement already satisfied: ua-parser in c:\\users\\krist\\anaconda3\\lib\\site-packages (0.10.0)\n",
      "Requirement already satisfied: user-agents in c:\\users\\krist\\anaconda3\\lib\\site-packages (2.2.0)\n",
      "Note: you may need to restart the kernel to use updated packages.\n"
     ]
    }
   ],
   "source": [
    "pip install pyyaml ua-parser user-agents"
   ]
  },
  {
   "cell_type": "code",
   "execution_count": 4,
   "id": "5f388277-7a57-4c2d-819c-de78c6ece6ec",
   "metadata": {},
   "outputs": [
    {
     "name": "stdout",
     "output_type": "stream",
     "text": [
      "Requirement already satisfied: pyuser-agent in c:\\users\\krist\\anaconda3\\lib\\site-packages (0.1.0)\n",
      "Note: you may need to restart the kernel to use updated packages.\n"
     ]
    }
   ],
   "source": [
    "pip install pyuser-agent"
   ]
  },
  {
   "cell_type": "code",
   "execution_count": 5,
   "id": "c22692d0-1b6a-43b6-80da-c3b2b282540a",
   "metadata": {},
   "outputs": [
    {
     "data": {
      "text/plain": [
       "['User agents']"
      ]
     },
     "execution_count": 5,
     "metadata": {},
     "output_type": "execute_result"
    }
   ],
   "source": [
    "# List with randomly choosed user-agents for rotation (FEHLERMELDUNG)\n",
    "ua_path = \"user_agents.txt\"\n",
    "ua_list = [line.rstrip('\\n') for line in open(ua_path)]\n",
    "ua_list[:5]"
   ]
  },
  {
   "cell_type": "raw",
   "id": "aa0a9943-4492-4bdc-8620-41a29dd03455",
   "metadata": {},
   "source": [
    "Chrome regular mode (with graphical user interface)"
   ]
  },
  {
   "cell_type": "code",
   "execution_count": 6,
   "id": "54f364ad-229f-4c2b-82be-2f17ad4df00c",
   "metadata": {},
   "outputs": [
    {
     "ename": "NameError",
     "evalue": "name 'ua_list' is not defined",
     "output_type": "error",
     "traceback": [
      "\u001b[1;31m---------------------------------------------------------------------------\u001b[0m",
      "\u001b[1;31mNameError\u001b[0m                                 Traceback (most recent call last)",
      "\u001b[1;32m<ipython-input-6-e97bbe8ad858>\u001b[0m in \u001b[0;36m<module>\u001b[1;34m\u001b[0m\n\u001b[0;32m     13\u001b[0m \u001b[0mopts\u001b[0m\u001b[1;33m.\u001b[0m\u001b[0madd_argument\u001b[0m\u001b[1;33m(\u001b[0m\u001b[1;34m\"--disable-dev-shm-usage\"\u001b[0m\u001b[1;33m)\u001b[0m\u001b[1;33m\u001b[0m\u001b[1;33m\u001b[0m\u001b[0m\n\u001b[0;32m     14\u001b[0m \u001b[0mopts\u001b[0m\u001b[1;33m.\u001b[0m\u001b[0madd_argument\u001b[0m\u001b[1;33m(\u001b[0m\u001b[1;34m\"--disable-infobars\"\u001b[0m\u001b[1;33m)\u001b[0m\u001b[1;33m\u001b[0m\u001b[1;33m\u001b[0m\u001b[0m\n\u001b[1;32m---> 15\u001b[1;33m \u001b[0mopts\u001b[0m\u001b[1;33m.\u001b[0m\u001b[0madd_argument\u001b[0m\u001b[1;33m(\u001b[0m\u001b[1;34m\"user-agent=\"\u001b[0m \u001b[1;33m+\u001b[0m \u001b[0mua_list\u001b[0m\u001b[1;33m[\u001b[0m\u001b[1;36m4\u001b[0m\u001b[1;33m]\u001b[0m\u001b[1;33m)\u001b[0m\u001b[1;33m\u001b[0m\u001b[1;33m\u001b[0m\u001b[0m\n\u001b[0m\u001b[0;32m     16\u001b[0m \u001b[0mdriver\u001b[0m \u001b[1;33m=\u001b[0m \u001b[0mwebdriver\u001b[0m\u001b[1;33m.\u001b[0m\u001b[0mChrome\u001b[0m\u001b[1;33m(\u001b[0m\u001b[0mexecutable_path\u001b[0m\u001b[1;33m=\u001b[0m \u001b[0mos\u001b[0m\u001b[1;33m.\u001b[0m\u001b[0mgetcwd\u001b[0m\u001b[1;33m(\u001b[0m\u001b[1;33m)\u001b[0m\u001b[1;33m+\u001b[0m\u001b[1;34m'/chromedriver'\u001b[0m\u001b[1;33m,\u001b[0m \u001b[0moptions\u001b[0m\u001b[1;33m=\u001b[0m\u001b[0mopts\u001b[0m\u001b[1;33m)\u001b[0m\u001b[1;33m\u001b[0m\u001b[1;33m\u001b[0m\u001b[0m\n\u001b[0;32m     17\u001b[0m \u001b[1;31m#options = Options()\u001b[0m\u001b[1;33m\u001b[0m\u001b[1;33m\u001b[0m\u001b[1;33m\u001b[0m\u001b[0m\n",
      "\u001b[1;31mNameError\u001b[0m: name 'ua_list' is not defined"
     ]
    }
   ],
   "source": [
    "#taken from https://www.intricatecloud.io/2019/05/running-webdriverio-tests-using-headless-chrome-inside-a-container/\n",
    "from selenium import webdriver\n",
    "from selenium.webdriver.chrome.options import Options\n",
    "import random\n",
    "\n",
    "opts = Options()\n",
    "opts.add_argument(\"--window-size=1200,800\")\n",
    "opts.add_argument(\"--headless\")\n",
    "opts.add_argument(\"--no-sandbox\")\n",
    "opts.add_argument(\"--disable-gpu\")\n",
    "opts.add_argument(\"--verbose\")\n",
    "opts.add_argument(\"--disable-setuid-sandbox\")\n",
    "opts.add_argument(\"--disable-dev-shm-usage\")\n",
    "opts.add_argument(\"--disable-infobars\")\n",
    "\n",
    "\n"
   ]
  },
  {
   "cell_type": "code",
   "execution_count": 7,
   "id": "7fc271d3-778a-44c4-a7da-364a89ee7807",
   "metadata": {},
   "outputs": [],
   "source": [
    "from typing import List"
   ]
  },
  {
   "cell_type": "code",
   "execution_count": 12,
   "id": "978195f1-832b-4160-8ec0-8e0e0d59623b",
   "metadata": {},
   "outputs": [
    {
     "ename": "NameError",
     "evalue": "name 'ua_list' is not defined",
     "output_type": "error",
     "traceback": [
      "\u001b[1;31m---------------------------------------------------------------------------\u001b[0m",
      "\u001b[1;31mNameError\u001b[0m                                 Traceback (most recent call last)",
      "\u001b[1;32m<ipython-input-12-750da56efbbf>\u001b[0m in \u001b[0;36m<module>\u001b[1;34m\u001b[0m\n\u001b[1;32m----> 1\u001b[1;33m \u001b[0mopts\u001b[0m\u001b[1;33m.\u001b[0m\u001b[0madd_argument\u001b[0m\u001b[1;33m(\u001b[0m\u001b[1;34m\"user-agent=\"\u001b[0m \u001b[1;33m+\u001b[0m \u001b[0mua_list\u001b[0m\u001b[1;33m[\u001b[0m\u001b[1;36m4\u001b[0m\u001b[1;33m]\u001b[0m\u001b[1;33m)\u001b[0m\u001b[1;33m\u001b[0m\u001b[1;33m\u001b[0m\u001b[0m\n\u001b[0m\u001b[0;32m      2\u001b[0m \u001b[0mdriver\u001b[0m \u001b[1;33m=\u001b[0m \u001b[0mwebdriver\u001b[0m\u001b[1;33m.\u001b[0m\u001b[0mChrome\u001b[0m\u001b[1;33m(\u001b[0m\u001b[0mexecutable_path\u001b[0m\u001b[1;33m=\u001b[0m \u001b[0mos\u001b[0m\u001b[1;33m.\u001b[0m\u001b[0mgetcwd\u001b[0m\u001b[1;33m(\u001b[0m\u001b[1;33m)\u001b[0m\u001b[1;33m+\u001b[0m\u001b[1;34m'/chromedriver'\u001b[0m\u001b[1;33m,\u001b[0m \u001b[0moptions\u001b[0m\u001b[1;33m=\u001b[0m\u001b[0mopts\u001b[0m\u001b[1;33m)\u001b[0m\u001b[1;33m\u001b[0m\u001b[1;33m\u001b[0m\u001b[0m\n\u001b[0;32m      3\u001b[0m \u001b[1;31m#options = Options()\u001b[0m\u001b[1;33m\u001b[0m\u001b[1;33m\u001b[0m\u001b[1;33m\u001b[0m\u001b[0m\n\u001b[0;32m      4\u001b[0m \u001b[1;31m#options.headless = True\u001b[0m\u001b[1;33m\u001b[0m\u001b[1;33m\u001b[0m\u001b[1;33m\u001b[0m\u001b[0m\n\u001b[0;32m      5\u001b[0m \u001b[1;31m#driver = webdriver.Firefox(options=options)\u001b[0m\u001b[1;33m\u001b[0m\u001b[1;33m\u001b[0m\u001b[1;33m\u001b[0m\u001b[0m\n",
      "\u001b[1;31mNameError\u001b[0m: name 'ua_list' is not defined"
     ]
    }
   ],
   "source": [
    "opts.add_argument(\"user-agent=\" + ua_list[4])\n",
    "driver = webdriver.Chrome(executable_path= os.getcwd()+'/chromedriver', options=opts)\n",
    "#options = Options()\n",
    "#options.headless = True\n",
    "#driver = webdriver.Firefox(options=options)"
   ]
  },
  {
   "cell_type": "code",
   "execution_count": 11,
   "id": "b117dfda-aee4-4115-906b-2519dbbe5daf",
   "metadata": {},
   "outputs": [
    {
     "ename": "NameError",
     "evalue": "name 'driver' is not defined",
     "output_type": "error",
     "traceback": [
      "\u001b[1;31m---------------------------------------------------------------------------\u001b[0m",
      "\u001b[1;31mNameError\u001b[0m                                 Traceback (most recent call last)",
      "\u001b[1;32m<ipython-input-11-d78a25adb2f4>\u001b[0m in \u001b[0;36m<module>\u001b[1;34m\u001b[0m\n\u001b[0;32m      1\u001b[0m \u001b[1;31m# Website to scrape\u001b[0m\u001b[1;33m\u001b[0m\u001b[1;33m\u001b[0m\u001b[1;33m\u001b[0m\u001b[0m\n\u001b[1;32m----> 2\u001b[1;33m \u001b[0mdriver\u001b[0m\u001b[1;33m.\u001b[0m\u001b[0mget\u001b[0m\u001b[1;33m(\u001b[0m\u001b[1;34m'https://www.comparis.ch/carfinder/marktplatz?requestobject=%7B%22Make%22%3Anull%2C%22Model%22%3A%220%22%2C%22Construction%22%3Anull%2C%22FirstMatriculationYearFrom%22%3Anull%2C%22FirstMatriculationYearTo%22%3Anull%2C%22PriceFrom%22%3Anull%2C%22PriceTo%22%3Anull%2C%22MileageFrom%22%3Anull%2C%22MileageTo%22%3Anull%2C%22MaxAdAge%22%3Anull%2C%22MinComparisPoints%22%3Anull%2C%22OutsideColor%22%3Anull%2C%22Transmission%22%3Anull%2C%22DriveTrain%22%3Anull%2C%22Co2Emission%22%3Anull%2C%22Eurocode%22%3Anull%2C%22FuelType%22%3A%220%22%2C%22PerformanceFrom%22%3Anull%2C%22PerformanceTo%22%3Anull%2C%22ConsumptionFrom%22%3Anull%2C%22ConsumptionTo%22%3Anull%2C%22SeatsFrom%22%3Anull%2C%22SeatsTo%22%3Anull%2C%22DoorsFrom%22%3Anull%2C%22DoorsTo%22%3Anull%2C%22Cantons%22%3Anull%2C%22ComfortOptions%22%3A%22%22%2C%22SecurityOptions%22%3A%22%22%2C%22Features%22%3A%22%22%2C%22FreeTextSearch%22%3A%22%22%2C%22CapacityFrom%22%3Anull%2C%22CapacityTo%22%3Anull%2C%22Garage%22%3Anull%2C%22ModelGroup%22%3A%220%22%2C%22Site%22%3Anull%2C%22EfficiencyCategory%22%3Anull%2C%22Sort%22%3A%223%22%2C%22TypeTag%22%3Anull%2C%22MFK%22%3Anull%2C%22ImageRequired%22%3A1%2C%22VehicleType%22%3A%222%22%7D'\u001b[0m\u001b[1;33m)\u001b[0m\u001b[1;33m\u001b[0m\u001b[1;33m\u001b[0m\u001b[0m\n\u001b[0m\u001b[0;32m      3\u001b[0m \u001b[1;31m#driver.get('https://www.comparis.ch/carfinder/marktplatz?requestobject=%7B%22Make%22%3A-10%2C%22Model%22%3Anull%2C%22VehicleType%22%3A%222%2C3%2C4%2C6%22%2C%22Construction%22%3Anull%2C%22FirstMatriculationYearFrom%22%3A-10%2C%22FirstMatriculationYearTo%22%3Anull%2C%22PriceFrom%22%3Anull%2C%22PriceTo%22%3A-10%2C%22MileageFrom%22%3Anull%2C%22MileageTo%22%3A-10%2C%22MaxAdAge%22%3Anull%2C%22MinComparisPoints%22%3Anull%2C%22OutsideColor%22%3A%22%22%2C%22Transmission%22%3Anull%2C%22DriveTrain%22%3Anull%2C%22Co2Emission%22%3Anull%2C%22Eurocode%22%3Anull%2C%22FuelType%22%3Anull%2C%22PerformanceFrom%22%3Anull%2C%22PerformanceTo%22%3Anull%2C%22ConsumptionFrom%22%3Anull%2C%22ConsumptionTo%22%3Anull%2C%22SeatsFrom%22%3Anull%2C%22SeatsTo%22%3Anull%2C%22DoorsFrom%22%3Anull%2C%22DoorsTo%22%3Anull%2C%22Cantons%22%3A%22%22%2C%22ComfortOptions%22%3A%22%22%2C%22SecurityOptions%22%3A%22%22%2C%22Features%22%3A%22%22%2C%22FreeTextSearch%22%3A%22%22%2C%22CapacityFrom%22%3Anull%2C%22CapacityTo%22%3Anull%2C%22Garage%22%3Anull%2C%22ModelGroup%22%3Anull%2C%22Site%22%3Anull%2C%22EfficiencyCategory%22%3Anull%2C%22Sort%22%3A3%2C%22TypeTag%22%3Anull%2C%22MFK%22%3Anull%2C%22ImageRequired%22%3A1%7D')\u001b[0m\u001b[1;33m\u001b[0m\u001b[1;33m\u001b[0m\u001b[1;33m\u001b[0m\u001b[0m\n\u001b[0;32m      4\u001b[0m \u001b[1;31m# Get current url\u001b[0m\u001b[1;33m\u001b[0m\u001b[1;33m\u001b[0m\u001b[1;33m\u001b[0m\u001b[0m\n\u001b[0;32m      5\u001b[0m \u001b[0mprint\u001b[0m\u001b[1;33m(\u001b[0m\u001b[0mdriver\u001b[0m\u001b[1;33m.\u001b[0m\u001b[0mcurrent_url\u001b[0m\u001b[1;33m)\u001b[0m\u001b[1;33m\u001b[0m\u001b[1;33m\u001b[0m\u001b[0m\n",
      "\u001b[1;31mNameError\u001b[0m: name 'driver' is not defined"
     ]
    }
   ],
   "source": [
    "# Website to scrape\n",
    "driver.get('https://www.comparis.ch/carfinder/marktplatz?requestobject=%7B%22Make%22%3Anull%2C%22Model%22%3A%220%22%2C%22Construction%22%3Anull%2C%22FirstMatriculationYearFrom%22%3Anull%2C%22FirstMatriculationYearTo%22%3Anull%2C%22PriceFrom%22%3Anull%2C%22PriceTo%22%3Anull%2C%22MileageFrom%22%3Anull%2C%22MileageTo%22%3Anull%2C%22MaxAdAge%22%3Anull%2C%22MinComparisPoints%22%3Anull%2C%22OutsideColor%22%3Anull%2C%22Transmission%22%3Anull%2C%22DriveTrain%22%3Anull%2C%22Co2Emission%22%3Anull%2C%22Eurocode%22%3Anull%2C%22FuelType%22%3A%220%22%2C%22PerformanceFrom%22%3Anull%2C%22PerformanceTo%22%3Anull%2C%22ConsumptionFrom%22%3Anull%2C%22ConsumptionTo%22%3Anull%2C%22SeatsFrom%22%3Anull%2C%22SeatsTo%22%3Anull%2C%22DoorsFrom%22%3Anull%2C%22DoorsTo%22%3Anull%2C%22Cantons%22%3Anull%2C%22ComfortOptions%22%3A%22%22%2C%22SecurityOptions%22%3A%22%22%2C%22Features%22%3A%22%22%2C%22FreeTextSearch%22%3A%22%22%2C%22CapacityFrom%22%3Anull%2C%22CapacityTo%22%3Anull%2C%22Garage%22%3Anull%2C%22ModelGroup%22%3A%220%22%2C%22Site%22%3Anull%2C%22EfficiencyCategory%22%3Anull%2C%22Sort%22%3A%223%22%2C%22TypeTag%22%3Anull%2C%22MFK%22%3Anull%2C%22ImageRequired%22%3A1%2C%22VehicleType%22%3A%222%22%7D')\n",
    "#driver.get('https://www.comparis.ch/carfinder/marktplatz?requestobject=%7B%22Make%22%3A-10%2C%22Model%22%3Anull%2C%22VehicleType%22%3A%222%2C3%2C4%2C6%22%2C%22Construction%22%3Anull%2C%22FirstMatriculationYearFrom%22%3A-10%2C%22FirstMatriculationYearTo%22%3Anull%2C%22PriceFrom%22%3Anull%2C%22PriceTo%22%3A-10%2C%22MileageFrom%22%3Anull%2C%22MileageTo%22%3A-10%2C%22MaxAdAge%22%3Anull%2C%22MinComparisPoints%22%3Anull%2C%22OutsideColor%22%3A%22%22%2C%22Transmission%22%3Anull%2C%22DriveTrain%22%3Anull%2C%22Co2Emission%22%3Anull%2C%22Eurocode%22%3Anull%2C%22FuelType%22%3Anull%2C%22PerformanceFrom%22%3Anull%2C%22PerformanceTo%22%3Anull%2C%22ConsumptionFrom%22%3Anull%2C%22ConsumptionTo%22%3Anull%2C%22SeatsFrom%22%3Anull%2C%22SeatsTo%22%3Anull%2C%22DoorsFrom%22%3Anull%2C%22DoorsTo%22%3Anull%2C%22Cantons%22%3A%22%22%2C%22ComfortOptions%22%3A%22%22%2C%22SecurityOptions%22%3A%22%22%2C%22Features%22%3A%22%22%2C%22FreeTextSearch%22%3A%22%22%2C%22CapacityFrom%22%3Anull%2C%22CapacityTo%22%3Anull%2C%22Garage%22%3Anull%2C%22ModelGroup%22%3Anull%2C%22Site%22%3Anull%2C%22EfficiencyCategory%22%3Anull%2C%22Sort%22%3A3%2C%22TypeTag%22%3Anull%2C%22MFK%22%3Anull%2C%22ImageRequired%22%3A1%7D')\n",
    "# Get current url\n",
    "print(driver.current_url)\n",
    "\n",
    "print('----------------------------------------------')\n",
    "\n",
    "# Gets the page's title\n",
    "print(driver.title)\n",
    "\n",
    "# Return the full page HTML code\n",
    "# print(driver.page_source)"
   ]
  },
  {
   "cell_type": "code",
   "execution_count": null,
   "id": "f336f7f4-7970-4363-a4c6-ef47169e62d0",
   "metadata": {},
   "outputs": [],
   "source": []
  }
 ],
 "metadata": {
  "kernelspec": {
   "display_name": "Python 3",
   "language": "python",
   "name": "python3"
  },
  "language_info": {
   "codemirror_mode": {
    "name": "ipython",
    "version": 3
   },
   "file_extension": ".py",
   "mimetype": "text/x-python",
   "name": "python",
   "nbconvert_exporter": "python",
   "pygments_lexer": "ipython3",
   "version": "3.8.8"
  }
 },
 "nbformat": 4,
 "nbformat_minor": 5
}
