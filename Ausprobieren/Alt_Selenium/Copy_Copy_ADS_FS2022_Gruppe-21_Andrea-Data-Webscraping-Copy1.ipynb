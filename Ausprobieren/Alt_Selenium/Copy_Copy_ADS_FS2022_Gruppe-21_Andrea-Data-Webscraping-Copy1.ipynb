{
 "cells": [
  {
   "cell_type": "markdown",
   "id": "97c6b08e",
   "metadata": {},
   "source": [
    "# <font color='black'>Applied Data Science Project Grupp 21 - FS 2022 - Andrea</font>\n",
    "# <font color='blue'>Fahrzeug-Bilder-Erkennung</font>\n",
    "<font color=\"blue\">Quellen</font>\n",
    "<li>flickr_api_example/flickr_example_01.ipynb von Mario Gellrich</li>\n",
    "<li>flickr_api_example/flickr_example_01.ipynb von Mario Gellrich</li>\n",
    "<li>https://www.tensorflow.org/tutorials/images/classification</li>\n",
    "<li>Exercise6-transfer_learning.ipynb von Elena Gavarin</li>\n"
   ]
  },
  {
   "cell_type": "markdown",
   "id": "35dc8de9",
   "metadata": {},
   "source": [
    "## <font color='blue'>Notebook Preparation</font>\n",
    "<font color='blue'>Installed Tools</font>\n",
    "<li>pip install pandas</li>\n",
    "<li>pip install numpy</li>\n",
    "<li>pip install matplotlib.pyplot</li>\n",
    "<li>pip install tensorflow</li>\n",
    "<li>pip install PIL</li>\n",
    "<li>pip install webdriver-manager</li>\n",
    "<li>pip install selenium</li>\n"
   ]
  },
  {
   "cell_type": "code",
   "execution_count": 7,
   "id": "194d4e7f",
   "metadata": {},
   "outputs": [
    {
     "name": "stdout",
     "output_type": "stream",
     "text": [
      "Import Libraries Successfull\n"
     ]
    }
   ],
   "source": [
    "import os\n",
    "from selenium import webdriver\n",
    "from selenium.webdriver.chrome.service import Service\n",
    "from webdriver_manager.chrome import ChromeDriverManager\n",
    "from selenium.webdriver.chrome.options import Options\n",
    "from selenium.webdriver.common.keys import Keys\n",
    "from selenium.webdriver.common.by import By\n",
    "\n",
    "print (\"Import Libraries Successfull\")"
   ]
  },
  {
   "cell_type": "markdown",
   "id": "9ecd7bed",
   "metadata": {},
   "source": [
    "# Webscraping ebay.ch\n",
    "## Fahrrad Bilder"
   ]
  },
  {
   "cell_type": "code",
   "execution_count": 11,
   "id": "e5025403",
   "metadata": {
    "scrolled": true
   },
   "outputs": [
    {
     "name": "stdout",
     "output_type": "stream",
     "text": [
      "C:\\Test_ADS_FS22_Webscraping\n",
      "\n"
     ]
    },
    {
     "name": "stderr",
     "output_type": "stream",
     "text": [
      "[WDM] - ====== WebDriver manager ======\n",
      "[WDM] - Current google-chrome version is 102.0.5005\n",
      "[WDM] - Get LATEST chromedriver version for 102.0.5005 google-chrome\n",
      "[WDM] - Driver [C:\\Users\\krist\\.wdm\\drivers\\chromedriver\\win32\\102.0.5005.61\\chromedriver.exe] found in cache\n"
     ]
    }
   ],
   "source": [
    "# Working directory\n",
    "os.chdir('C:/Test_ADS_FS22_Webscraping')\n",
    "print(os.getcwd())\n",
    "\n",
    "# Set Options\n",
    "#opts = Options()\n",
    "#opts.add_argument(\"--window-size=1200,800\")\n",
    "driver = webdriver.Chrome(service=Service(ChromeDriverManager().install()))\n",
    "\n",
    "\n",
    "# Website to scrape\n",
    "driver.get(\"https://www.ebay.de/sch/i.html?_from=R40&_trksid=p2380057.m570.l1313&_nkw=fahrrad&_sacat=0\")\n",
    "\n",
    "# Fill in the search text\n",
    "#text_to_send = 'Fahrrad'\n",
    "#search = driver.find_element(by=By.XPATH, value=\"/html/body/header/table/tbody/tr/td[3]/form/table/tbody/tr/td[1]/div[1]/div/input[1]\")\n",
    "#search.clear()\n",
    "#search.send_keys(text_to_send)\n",
    "#search.submit()\n",
    "\n",
    "\n",
    "\n",
    "#srp-river-results > ul > li:nth-child(3) > div > div.s-item__image-section > div > a > div > img\n",
    "\n",
    "#/html/body/div[6]/div[4]/div[2]/div[1]/div[2]/ul/li[3]/div/div[1]/div/a/div/img\n",
    "\n"
   ]
  },
  {
   "cell_type": "code",
   "execution_count": 13,
   "id": "dc1ca46b",
   "metadata": {},
   "outputs": [],
   "source": [
    "def fetch_image_urls(query:str, max_links_to_fetch:int, wd:webdriver, sleep_between_interactions:int=3):\n",
    "    def scroll_to_end(wd, scroll_point):  \n",
    "        wd.execute_script(f\"window.scrollTo(0, {scroll_point});\")\n",
    "        time.sleep(sleep_between_interactions)    \n",
    " \n",
    "        \n",
    "# build the unsplash query\n",
    "    search_url = f\"https://unsplash.com/s/photos/office\"\n",
    "# load the page\n",
    "    wd.get(search_url)\n",
    "    time.sleep(sleep_between_interactions)  \n",
    "    \n",
    "    image_urls = set()\n",
    "    image_count = 0\n",
    "    number_results = 0\n",
    "    \n",
    "    for i in range(1,20):\n",
    "        scroll_to_end(wd, i*1000)\n",
    "        time.sleep(5)\n",
    "        thumb = wd.find_elements_by_css_selector(\"img._2zEKz\")\n",
    "        time.sleep(5)\n",
    "        for img in thumb:\n",
    "            print(img)\n",
    "            print(img.get_attribute('src'))\n",
    "            image_urls.add(img.get_attribute('src'))\n",
    "            image_count = len(image_urls)\n",
    "            number_results = image_count\n",
    "            time.sleep(.5)\n",
    "        print(f\"Found: {number_results} search results. Extracting links...\")\n",
    "\n",
    "#return image_urls\n"
   ]
  },
  {
   "cell_type": "code",
   "execution_count": 26,
   "id": "082fcdc9",
   "metadata": {},
   "outputs": [
    {
     "name": "stdout",
     "output_type": "stream",
     "text": [
      "[[<selenium.webdriver.remote.webelement.WebElement (session=\"b89fbd4a8b95874f2bba3b5972406bb3\", element=\"6bb6aa2c-94f9-4269-aca6-979655c55381\")>], [<selenium.webdriver.remote.webelement.WebElement (session=\"b89fbd4a8b95874f2bba3b5972406bb3\", element=\"2844551d-968f-4e93-b64f-a6cef3943dfb\")>], [<selenium.webdriver.remote.webelement.WebElement (session=\"b89fbd4a8b95874f2bba3b5972406bb3\", element=\"4252dcf0-b1e5-46d5-91d4-40780805abb8\")>], [<selenium.webdriver.remote.webelement.WebElement (session=\"b89fbd4a8b95874f2bba3b5972406bb3\", element=\"ba5a1e5f-fa3c-4e93-8825-0760e8359153\")>], [<selenium.webdriver.remote.webelement.WebElement (session=\"b89fbd4a8b95874f2bba3b5972406bb3\", element=\"c10f4ec5-8ef3-4167-977c-65442d3ee15f\")>], [<selenium.webdriver.remote.webelement.WebElement (session=\"b89fbd4a8b95874f2bba3b5972406bb3\", element=\"a9631873-6876-4e53-b365-365991d40cac\")>], [<selenium.webdriver.remote.webelement.WebElement (session=\"b89fbd4a8b95874f2bba3b5972406bb3\", element=\"46879118-129b-488a-8bfc-3d15af8425bb\")>], [<selenium.webdriver.remote.webelement.WebElement (session=\"b89fbd4a8b95874f2bba3b5972406bb3\", element=\"0e8176bc-a3e4-47af-b991-99994a6bd186\")>], [<selenium.webdriver.remote.webelement.WebElement (session=\"b89fbd4a8b95874f2bba3b5972406bb3\", element=\"d48d7514-f4dd-4419-824d-09cfeb973f86\")>], [<selenium.webdriver.remote.webelement.WebElement (session=\"b89fbd4a8b95874f2bba3b5972406bb3\", element=\"7558d899-23fd-4129-bbf2-8fc1dbc77ac3\")>], [<selenium.webdriver.remote.webelement.WebElement (session=\"b89fbd4a8b95874f2bba3b5972406bb3\", element=\"1d56f1d2-8075-4a9e-98f8-7ea664bec6e3\")>], [<selenium.webdriver.remote.webelement.WebElement (session=\"b89fbd4a8b95874f2bba3b5972406bb3\", element=\"39a42f65-16d1-47e0-bb95-5a3cf387b644\")>], [<selenium.webdriver.remote.webelement.WebElement (session=\"b89fbd4a8b95874f2bba3b5972406bb3\", element=\"4e71037e-8552-42c7-9d52-8a929912e1a2\")>], [<selenium.webdriver.remote.webelement.WebElement (session=\"b89fbd4a8b95874f2bba3b5972406bb3\", element=\"da6f600a-4203-4825-b260-1722c7e1ec05\")>], [<selenium.webdriver.remote.webelement.WebElement (session=\"b89fbd4a8b95874f2bba3b5972406bb3\", element=\"31c1ca9d-a0d7-4364-974b-cc978418e16e\")>], [<selenium.webdriver.remote.webelement.WebElement (session=\"b89fbd4a8b95874f2bba3b5972406bb3\", element=\"c067f282-4db8-4ed8-9818-a93c0e304a6b\")>], [<selenium.webdriver.remote.webelement.WebElement (session=\"b89fbd4a8b95874f2bba3b5972406bb3\", element=\"d9bee3f2-7f06-42c0-91c1-afa7f7d2f65f\")>], [<selenium.webdriver.remote.webelement.WebElement (session=\"b89fbd4a8b95874f2bba3b5972406bb3\", element=\"340da692-90e0-40e2-a5f1-35353b1290c8\")>], [<selenium.webdriver.remote.webelement.WebElement (session=\"b89fbd4a8b95874f2bba3b5972406bb3\", element=\"13ed80d7-1833-4569-96eb-5967a6547518\")>], [<selenium.webdriver.remote.webelement.WebElement (session=\"b89fbd4a8b95874f2bba3b5972406bb3\", element=\"738c5313-e360-41ca-b961-eb14e1cdbdb5\")>], [<selenium.webdriver.remote.webelement.WebElement (session=\"b89fbd4a8b95874f2bba3b5972406bb3\", element=\"89ba75a2-6f1c-4bc7-bddd-e8c85c9e1364\")>], [<selenium.webdriver.remote.webelement.WebElement (session=\"b89fbd4a8b95874f2bba3b5972406bb3\", element=\"4af06690-d9b5-4c3c-916b-f1a5da4e4f3a\")>], [<selenium.webdriver.remote.webelement.WebElement (session=\"b89fbd4a8b95874f2bba3b5972406bb3\", element=\"b9356538-fca5-41d6-b6e9-984142be60c2\")>], [<selenium.webdriver.remote.webelement.WebElement (session=\"b89fbd4a8b95874f2bba3b5972406bb3\", element=\"9137845e-2f62-48aa-a29d-6ae22918e450\")>], [<selenium.webdriver.remote.webelement.WebElement (session=\"b89fbd4a8b95874f2bba3b5972406bb3\", element=\"10203564-9596-4524-9619-0329027affa0\")>], [<selenium.webdriver.remote.webelement.WebElement (session=\"b89fbd4a8b95874f2bba3b5972406bb3\", element=\"d6b29ad3-978d-4786-aaa8-2a73e21b6401\")>], [<selenium.webdriver.remote.webelement.WebElement (session=\"b89fbd4a8b95874f2bba3b5972406bb3\", element=\"2a6a9144-c597-4d83-bf2b-f530855aa489\")>], [<selenium.webdriver.remote.webelement.WebElement (session=\"b89fbd4a8b95874f2bba3b5972406bb3\", element=\"0d8d08ae-3643-4261-b370-1019dde77bb0\")>], [<selenium.webdriver.remote.webelement.WebElement (session=\"b89fbd4a8b95874f2bba3b5972406bb3\", element=\"d1f5f7a8-b446-4e3f-b192-cb4542213b9f\")>], [<selenium.webdriver.remote.webelement.WebElement (session=\"b89fbd4a8b95874f2bba3b5972406bb3\", element=\"958900da-64d2-4d0b-b582-4f8336d1eda1\")>], [<selenium.webdriver.remote.webelement.WebElement (session=\"b89fbd4a8b95874f2bba3b5972406bb3\", element=\"1bfd89f6-3520-40a6-bd6b-55f0662bc7b0\")>], [<selenium.webdriver.remote.webelement.WebElement (session=\"b89fbd4a8b95874f2bba3b5972406bb3\", element=\"889b591a-a35b-4b14-ab1c-cbfdbf00d1f6\")>], [<selenium.webdriver.remote.webelement.WebElement (session=\"b89fbd4a8b95874f2bba3b5972406bb3\", element=\"e9219927-1e93-4948-af1c-4f7edffcf59e\")>], [<selenium.webdriver.remote.webelement.WebElement (session=\"b89fbd4a8b95874f2bba3b5972406bb3\", element=\"aa4caa55-3b38-4836-bdda-e67df679ca72\")>], [<selenium.webdriver.remote.webelement.WebElement (session=\"b89fbd4a8b95874f2bba3b5972406bb3\", element=\"82f2bc0b-7cb0-4dd5-b93b-f770e5f6ce78\")>], [<selenium.webdriver.remote.webelement.WebElement (session=\"b89fbd4a8b95874f2bba3b5972406bb3\", element=\"f9dd2e57-9afb-4267-984f-287a1e816508\")>], [<selenium.webdriver.remote.webelement.WebElement (session=\"b89fbd4a8b95874f2bba3b5972406bb3\", element=\"59efb969-96cc-4197-af0d-8b1d552976fb\")>], [<selenium.webdriver.remote.webelement.WebElement (session=\"b89fbd4a8b95874f2bba3b5972406bb3\", element=\"ddcbdcac-41e2-4941-9e04-f7849b17fa14\")>], [<selenium.webdriver.remote.webelement.WebElement (session=\"b89fbd4a8b95874f2bba3b5972406bb3\", element=\"f5ab7777-8c1a-4dd1-b32a-1908603d4742\")>], [<selenium.webdriver.remote.webelement.WebElement (session=\"b89fbd4a8b95874f2bba3b5972406bb3\", element=\"b05001de-1730-40fd-bc77-538779055c82\")>], [<selenium.webdriver.remote.webelement.WebElement (session=\"b89fbd4a8b95874f2bba3b5972406bb3\", element=\"f5ccc442-0e1e-4e39-a12d-64ca70756121\")>], [<selenium.webdriver.remote.webelement.WebElement (session=\"b89fbd4a8b95874f2bba3b5972406bb3\", element=\"fc10fc83-eebe-4fde-a958-7bf5757445ea\")>], [<selenium.webdriver.remote.webelement.WebElement (session=\"b89fbd4a8b95874f2bba3b5972406bb3\", element=\"d833bdcc-f268-4c07-b248-565eaddf0153\")>], [<selenium.webdriver.remote.webelement.WebElement (session=\"b89fbd4a8b95874f2bba3b5972406bb3\", element=\"3a669192-71c4-4882-bd40-d043330a942c\")>], [<selenium.webdriver.remote.webelement.WebElement (session=\"b89fbd4a8b95874f2bba3b5972406bb3\", element=\"acdeaa17-247a-4200-81ca-3cdd1415c619\")>], [<selenium.webdriver.remote.webelement.WebElement (session=\"b89fbd4a8b95874f2bba3b5972406bb3\", element=\"4cde378f-844f-423a-aeac-99a114957f7c\")>], [<selenium.webdriver.remote.webelement.WebElement (session=\"b89fbd4a8b95874f2bba3b5972406bb3\", element=\"cee54ed1-5a0b-4dee-ad22-ff11dc28c241\")>], [<selenium.webdriver.remote.webelement.WebElement (session=\"b89fbd4a8b95874f2bba3b5972406bb3\", element=\"5066f933-45a1-47a1-97c2-98b297ce2b52\")>], [<selenium.webdriver.remote.webelement.WebElement (session=\"b89fbd4a8b95874f2bba3b5972406bb3\", element=\"d7182693-4817-47f5-95fc-89f2a6539f14\")>], [<selenium.webdriver.remote.webelement.WebElement (session=\"b89fbd4a8b95874f2bba3b5972406bb3\", element=\"2a0bfad2-4ab1-4a6e-b425-99fde61e9bb3\")>], [<selenium.webdriver.remote.webelement.WebElement (session=\"b89fbd4a8b95874f2bba3b5972406bb3\", element=\"70b4f485-aa02-4d3c-b331-5ab3506b4ec8\")>], [<selenium.webdriver.remote.webelement.WebElement (session=\"b89fbd4a8b95874f2bba3b5972406bb3\", element=\"40aad8bd-919a-4f96-a261-d13f561db496\")>], [<selenium.webdriver.remote.webelement.WebElement (session=\"b89fbd4a8b95874f2bba3b5972406bb3\", element=\"28bf88f9-17d4-494a-9679-8bb1fe2ad168\")>], [<selenium.webdriver.remote.webelement.WebElement (session=\"b89fbd4a8b95874f2bba3b5972406bb3\", element=\"694fa4a0-d0a9-4f4e-9aee-558998c5aa28\")>], [<selenium.webdriver.remote.webelement.WebElement (session=\"b89fbd4a8b95874f2bba3b5972406bb3\", element=\"c1ad09b2-03b6-417f-95d1-1ba945914c97\")>], [<selenium.webdriver.remote.webelement.WebElement (session=\"b89fbd4a8b95874f2bba3b5972406bb3\", element=\"358c6c64-1505-42a4-b38d-c3845c8b719f\")>], [<selenium.webdriver.remote.webelement.WebElement (session=\"b89fbd4a8b95874f2bba3b5972406bb3\", element=\"011894ba-4cb7-4c97-8859-fae3e98b1c35\")>], [<selenium.webdriver.remote.webelement.WebElement (session=\"b89fbd4a8b95874f2bba3b5972406bb3\", element=\"feec9eb7-14e6-485e-a48f-b141357faa6b\")>], [<selenium.webdriver.remote.webelement.WebElement (session=\"b89fbd4a8b95874f2bba3b5972406bb3\", element=\"b9d6576b-5783-4720-ace3-f1c8e87ded03\")>], [<selenium.webdriver.remote.webelement.WebElement (session=\"b89fbd4a8b95874f2bba3b5972406bb3\", element=\"92d550d8-f8f9-42c2-a401-fde6e332c356\")>], [<selenium.webdriver.remote.webelement.WebElement (session=\"b89fbd4a8b95874f2bba3b5972406bb3\", element=\"5939273b-4127-47f6-ad0c-cb97462a1532\")>]]\n",
      "[[<selenium.webdriver.remote.webelement.WebElement (session=\"b89fbd4a8b95874f2bba3b5972406bb3\", element=\"6bb6aa2c-94f9-4269-aca6-979655c55381\")>], [<selenium.webdriver.remote.webelement.WebElement (session=\"b89fbd4a8b95874f2bba3b5972406bb3\", element=\"2844551d-968f-4e93-b64f-a6cef3943dfb\")>], [<selenium.webdriver.remote.webelement.WebElement (session=\"b89fbd4a8b95874f2bba3b5972406bb3\", element=\"4252dcf0-b1e5-46d5-91d4-40780805abb8\")>], [<selenium.webdriver.remote.webelement.WebElement (session=\"b89fbd4a8b95874f2bba3b5972406bb3\", element=\"ba5a1e5f-fa3c-4e93-8825-0760e8359153\")>], [<selenium.webdriver.remote.webelement.WebElement (session=\"b89fbd4a8b95874f2bba3b5972406bb3\", element=\"c10f4ec5-8ef3-4167-977c-65442d3ee15f\")>], [<selenium.webdriver.remote.webelement.WebElement (session=\"b89fbd4a8b95874f2bba3b5972406bb3\", element=\"a9631873-6876-4e53-b365-365991d40cac\")>], [<selenium.webdriver.remote.webelement.WebElement (session=\"b89fbd4a8b95874f2bba3b5972406bb3\", element=\"46879118-129b-488a-8bfc-3d15af8425bb\")>], [<selenium.webdriver.remote.webelement.WebElement (session=\"b89fbd4a8b95874f2bba3b5972406bb3\", element=\"0e8176bc-a3e4-47af-b991-99994a6bd186\")>], [<selenium.webdriver.remote.webelement.WebElement (session=\"b89fbd4a8b95874f2bba3b5972406bb3\", element=\"d48d7514-f4dd-4419-824d-09cfeb973f86\")>], [<selenium.webdriver.remote.webelement.WebElement (session=\"b89fbd4a8b95874f2bba3b5972406bb3\", element=\"7558d899-23fd-4129-bbf2-8fc1dbc77ac3\")>], [<selenium.webdriver.remote.webelement.WebElement (session=\"b89fbd4a8b95874f2bba3b5972406bb3\", element=\"1d56f1d2-8075-4a9e-98f8-7ea664bec6e3\")>], [<selenium.webdriver.remote.webelement.WebElement (session=\"b89fbd4a8b95874f2bba3b5972406bb3\", element=\"39a42f65-16d1-47e0-bb95-5a3cf387b644\")>], [<selenium.webdriver.remote.webelement.WebElement (session=\"b89fbd4a8b95874f2bba3b5972406bb3\", element=\"4e71037e-8552-42c7-9d52-8a929912e1a2\")>], [<selenium.webdriver.remote.webelement.WebElement (session=\"b89fbd4a8b95874f2bba3b5972406bb3\", element=\"da6f600a-4203-4825-b260-1722c7e1ec05\")>], [<selenium.webdriver.remote.webelement.WebElement (session=\"b89fbd4a8b95874f2bba3b5972406bb3\", element=\"31c1ca9d-a0d7-4364-974b-cc978418e16e\")>], [<selenium.webdriver.remote.webelement.WebElement (session=\"b89fbd4a8b95874f2bba3b5972406bb3\", element=\"c067f282-4db8-4ed8-9818-a93c0e304a6b\")>], [<selenium.webdriver.remote.webelement.WebElement (session=\"b89fbd4a8b95874f2bba3b5972406bb3\", element=\"d9bee3f2-7f06-42c0-91c1-afa7f7d2f65f\")>], [<selenium.webdriver.remote.webelement.WebElement (session=\"b89fbd4a8b95874f2bba3b5972406bb3\", element=\"340da692-90e0-40e2-a5f1-35353b1290c8\")>], [<selenium.webdriver.remote.webelement.WebElement (session=\"b89fbd4a8b95874f2bba3b5972406bb3\", element=\"13ed80d7-1833-4569-96eb-5967a6547518\")>], [<selenium.webdriver.remote.webelement.WebElement (session=\"b89fbd4a8b95874f2bba3b5972406bb3\", element=\"738c5313-e360-41ca-b961-eb14e1cdbdb5\")>], [<selenium.webdriver.remote.webelement.WebElement (session=\"b89fbd4a8b95874f2bba3b5972406bb3\", element=\"89ba75a2-6f1c-4bc7-bddd-e8c85c9e1364\")>], [<selenium.webdriver.remote.webelement.WebElement (session=\"b89fbd4a8b95874f2bba3b5972406bb3\", element=\"4af06690-d9b5-4c3c-916b-f1a5da4e4f3a\")>], [<selenium.webdriver.remote.webelement.WebElement (session=\"b89fbd4a8b95874f2bba3b5972406bb3\", element=\"b9356538-fca5-41d6-b6e9-984142be60c2\")>], [<selenium.webdriver.remote.webelement.WebElement (session=\"b89fbd4a8b95874f2bba3b5972406bb3\", element=\"9137845e-2f62-48aa-a29d-6ae22918e450\")>], [<selenium.webdriver.remote.webelement.WebElement (session=\"b89fbd4a8b95874f2bba3b5972406bb3\", element=\"10203564-9596-4524-9619-0329027affa0\")>], [<selenium.webdriver.remote.webelement.WebElement (session=\"b89fbd4a8b95874f2bba3b5972406bb3\", element=\"d6b29ad3-978d-4786-aaa8-2a73e21b6401\")>], [<selenium.webdriver.remote.webelement.WebElement (session=\"b89fbd4a8b95874f2bba3b5972406bb3\", element=\"2a6a9144-c597-4d83-bf2b-f530855aa489\")>], [<selenium.webdriver.remote.webelement.WebElement (session=\"b89fbd4a8b95874f2bba3b5972406bb3\", element=\"0d8d08ae-3643-4261-b370-1019dde77bb0\")>], [<selenium.webdriver.remote.webelement.WebElement (session=\"b89fbd4a8b95874f2bba3b5972406bb3\", element=\"d1f5f7a8-b446-4e3f-b192-cb4542213b9f\")>], [<selenium.webdriver.remote.webelement.WebElement (session=\"b89fbd4a8b95874f2bba3b5972406bb3\", element=\"958900da-64d2-4d0b-b582-4f8336d1eda1\")>], [<selenium.webdriver.remote.webelement.WebElement (session=\"b89fbd4a8b95874f2bba3b5972406bb3\", element=\"1bfd89f6-3520-40a6-bd6b-55f0662bc7b0\")>], [<selenium.webdriver.remote.webelement.WebElement (session=\"b89fbd4a8b95874f2bba3b5972406bb3\", element=\"889b591a-a35b-4b14-ab1c-cbfdbf00d1f6\")>], [<selenium.webdriver.remote.webelement.WebElement (session=\"b89fbd4a8b95874f2bba3b5972406bb3\", element=\"e9219927-1e93-4948-af1c-4f7edffcf59e\")>], [<selenium.webdriver.remote.webelement.WebElement (session=\"b89fbd4a8b95874f2bba3b5972406bb3\", element=\"aa4caa55-3b38-4836-bdda-e67df679ca72\")>], [<selenium.webdriver.remote.webelement.WebElement (session=\"b89fbd4a8b95874f2bba3b5972406bb3\", element=\"82f2bc0b-7cb0-4dd5-b93b-f770e5f6ce78\")>], [<selenium.webdriver.remote.webelement.WebElement (session=\"b89fbd4a8b95874f2bba3b5972406bb3\", element=\"f9dd2e57-9afb-4267-984f-287a1e816508\")>], [<selenium.webdriver.remote.webelement.WebElement (session=\"b89fbd4a8b95874f2bba3b5972406bb3\", element=\"59efb969-96cc-4197-af0d-8b1d552976fb\")>], [<selenium.webdriver.remote.webelement.WebElement (session=\"b89fbd4a8b95874f2bba3b5972406bb3\", element=\"ddcbdcac-41e2-4941-9e04-f7849b17fa14\")>], [<selenium.webdriver.remote.webelement.WebElement (session=\"b89fbd4a8b95874f2bba3b5972406bb3\", element=\"f5ab7777-8c1a-4dd1-b32a-1908603d4742\")>], [<selenium.webdriver.remote.webelement.WebElement (session=\"b89fbd4a8b95874f2bba3b5972406bb3\", element=\"b05001de-1730-40fd-bc77-538779055c82\")>], [<selenium.webdriver.remote.webelement.WebElement (session=\"b89fbd4a8b95874f2bba3b5972406bb3\", element=\"f5ccc442-0e1e-4e39-a12d-64ca70756121\")>], [<selenium.webdriver.remote.webelement.WebElement (session=\"b89fbd4a8b95874f2bba3b5972406bb3\", element=\"fc10fc83-eebe-4fde-a958-7bf5757445ea\")>], [<selenium.webdriver.remote.webelement.WebElement (session=\"b89fbd4a8b95874f2bba3b5972406bb3\", element=\"d833bdcc-f268-4c07-b248-565eaddf0153\")>], [<selenium.webdriver.remote.webelement.WebElement (session=\"b89fbd4a8b95874f2bba3b5972406bb3\", element=\"3a669192-71c4-4882-bd40-d043330a942c\")>], [<selenium.webdriver.remote.webelement.WebElement (session=\"b89fbd4a8b95874f2bba3b5972406bb3\", element=\"acdeaa17-247a-4200-81ca-3cdd1415c619\")>], [<selenium.webdriver.remote.webelement.WebElement (session=\"b89fbd4a8b95874f2bba3b5972406bb3\", element=\"4cde378f-844f-423a-aeac-99a114957f7c\")>], [<selenium.webdriver.remote.webelement.WebElement (session=\"b89fbd4a8b95874f2bba3b5972406bb3\", element=\"cee54ed1-5a0b-4dee-ad22-ff11dc28c241\")>], [<selenium.webdriver.remote.webelement.WebElement (session=\"b89fbd4a8b95874f2bba3b5972406bb3\", element=\"5066f933-45a1-47a1-97c2-98b297ce2b52\")>], [<selenium.webdriver.remote.webelement.WebElement (session=\"b89fbd4a8b95874f2bba3b5972406bb3\", element=\"d7182693-4817-47f5-95fc-89f2a6539f14\")>], [<selenium.webdriver.remote.webelement.WebElement (session=\"b89fbd4a8b95874f2bba3b5972406bb3\", element=\"2a0bfad2-4ab1-4a6e-b425-99fde61e9bb3\")>], [<selenium.webdriver.remote.webelement.WebElement (session=\"b89fbd4a8b95874f2bba3b5972406bb3\", element=\"70b4f485-aa02-4d3c-b331-5ab3506b4ec8\")>], [<selenium.webdriver.remote.webelement.WebElement (session=\"b89fbd4a8b95874f2bba3b5972406bb3\", element=\"40aad8bd-919a-4f96-a261-d13f561db496\")>], [<selenium.webdriver.remote.webelement.WebElement (session=\"b89fbd4a8b95874f2bba3b5972406bb3\", element=\"28bf88f9-17d4-494a-9679-8bb1fe2ad168\")>], [<selenium.webdriver.remote.webelement.WebElement (session=\"b89fbd4a8b95874f2bba3b5972406bb3\", element=\"694fa4a0-d0a9-4f4e-9aee-558998c5aa28\")>], [<selenium.webdriver.remote.webelement.WebElement (session=\"b89fbd4a8b95874f2bba3b5972406bb3\", element=\"c1ad09b2-03b6-417f-95d1-1ba945914c97\")>], [<selenium.webdriver.remote.webelement.WebElement (session=\"b89fbd4a8b95874f2bba3b5972406bb3\", element=\"358c6c64-1505-42a4-b38d-c3845c8b719f\")>], [<selenium.webdriver.remote.webelement.WebElement (session=\"b89fbd4a8b95874f2bba3b5972406bb3\", element=\"011894ba-4cb7-4c97-8859-fae3e98b1c35\")>], [<selenium.webdriver.remote.webelement.WebElement (session=\"b89fbd4a8b95874f2bba3b5972406bb3\", element=\"feec9eb7-14e6-485e-a48f-b141357faa6b\")>], [<selenium.webdriver.remote.webelement.WebElement (session=\"b89fbd4a8b95874f2bba3b5972406bb3\", element=\"b9d6576b-5783-4720-ace3-f1c8e87ded03\")>], [<selenium.webdriver.remote.webelement.WebElement (session=\"b89fbd4a8b95874f2bba3b5972406bb3\", element=\"92d550d8-f8f9-42c2-a401-fde6e332c356\")>], [<selenium.webdriver.remote.webelement.WebElement (session=\"b89fbd4a8b95874f2bba3b5972406bb3\", element=\"5939273b-4127-47f6-ad0c-cb97462a1532\")>], [<selenium.webdriver.remote.webelement.WebElement (session=\"b89fbd4a8b95874f2bba3b5972406bb3\", element=\"7058febb-dbdd-4b5f-a073-35fb4e0d232d\")>], [<selenium.webdriver.remote.webelement.WebElement (session=\"b89fbd4a8b95874f2bba3b5972406bb3\", element=\"19a9d650-ecdd-4485-bd1e-e2b9504d9536\")>], [<selenium.webdriver.remote.webelement.WebElement (session=\"b89fbd4a8b95874f2bba3b5972406bb3\", element=\"cb3dfe79-f85e-4356-a36c-b97c8bba5af2\")>], [<selenium.webdriver.remote.webelement.WebElement (session=\"b89fbd4a8b95874f2bba3b5972406bb3\", element=\"06e58eb3-d6b1-4cfd-9951-3ecb5ae5ade1\")>], [<selenium.webdriver.remote.webelement.WebElement (session=\"b89fbd4a8b95874f2bba3b5972406bb3\", element=\"121b07ea-65a8-4e4a-b042-3433bbaf52fa\")>], [<selenium.webdriver.remote.webelement.WebElement (session=\"b89fbd4a8b95874f2bba3b5972406bb3\", element=\"7b3bdb01-032a-41db-b0c8-5052922b7fe3\")>], [<selenium.webdriver.remote.webelement.WebElement (session=\"b89fbd4a8b95874f2bba3b5972406bb3\", element=\"37f1eddb-493e-4cd4-810d-cbbe58550d26\")>], [<selenium.webdriver.remote.webelement.WebElement (session=\"b89fbd4a8b95874f2bba3b5972406bb3\", element=\"f85c0471-6b1c-41f3-8f8c-5f977b1369a5\")>], [<selenium.webdriver.remote.webelement.WebElement (session=\"b89fbd4a8b95874f2bba3b5972406bb3\", element=\"4e907618-85bc-4b28-a3da-987d7cce61fb\")>], [<selenium.webdriver.remote.webelement.WebElement (session=\"b89fbd4a8b95874f2bba3b5972406bb3\", element=\"de654eb3-0092-4215-94e5-10f4faabce14\")>], [<selenium.webdriver.remote.webelement.WebElement (session=\"b89fbd4a8b95874f2bba3b5972406bb3\", element=\"03e6cf50-0d3b-4001-b5d8-f78ddd823d01\")>], [<selenium.webdriver.remote.webelement.WebElement (session=\"b89fbd4a8b95874f2bba3b5972406bb3\", element=\"c4a70f93-6de0-40ed-8dba-7c6d9ba384aa\")>], [<selenium.webdriver.remote.webelement.WebElement (session=\"b89fbd4a8b95874f2bba3b5972406bb3\", element=\"0a1a0433-a3cb-40c1-88e0-94965f14328a\")>], [<selenium.webdriver.remote.webelement.WebElement (session=\"b89fbd4a8b95874f2bba3b5972406bb3\", element=\"98689684-1655-458c-8947-7af51b4c324e\")>], [<selenium.webdriver.remote.webelement.WebElement (session=\"b89fbd4a8b95874f2bba3b5972406bb3\", element=\"1064d81c-4162-4c1b-88b8-1f21e8c8d584\")>], [<selenium.webdriver.remote.webelement.WebElement (session=\"b89fbd4a8b95874f2bba3b5972406bb3\", element=\"5091b0e1-4507-4d86-8119-515873594136\")>], [<selenium.webdriver.remote.webelement.WebElement (session=\"b89fbd4a8b95874f2bba3b5972406bb3\", element=\"a1b20f1b-c284-4ab7-9c00-ec821aac3655\")>], [<selenium.webdriver.remote.webelement.WebElement (session=\"b89fbd4a8b95874f2bba3b5972406bb3\", element=\"adc60290-47a6-4e90-a92a-2f65ced8e4d1\")>], [<selenium.webdriver.remote.webelement.WebElement (session=\"b89fbd4a8b95874f2bba3b5972406bb3\", element=\"d8157e3e-1c3c-4f0d-84e3-3a6c9a50391d\")>], [<selenium.webdriver.remote.webelement.WebElement (session=\"b89fbd4a8b95874f2bba3b5972406bb3\", element=\"f7a067e4-7c9e-4e1f-8da4-0f9dee574846\")>], [<selenium.webdriver.remote.webelement.WebElement (session=\"b89fbd4a8b95874f2bba3b5972406bb3\", element=\"56083681-e53d-45c5-9fbb-5792ad1f7b33\")>], [<selenium.webdriver.remote.webelement.WebElement (session=\"b89fbd4a8b95874f2bba3b5972406bb3\", element=\"536e9b41-f4c6-40ba-8f56-271c26444668\")>], [<selenium.webdriver.remote.webelement.WebElement (session=\"b89fbd4a8b95874f2bba3b5972406bb3\", element=\"90d90577-91e2-4d97-9e62-42943d257ca5\")>], [<selenium.webdriver.remote.webelement.WebElement (session=\"b89fbd4a8b95874f2bba3b5972406bb3\", element=\"0fdcf51c-93b6-491b-94a3-9dae293948aa\")>], [<selenium.webdriver.remote.webelement.WebElement (session=\"b89fbd4a8b95874f2bba3b5972406bb3\", element=\"d51e9d5c-6c79-4088-aea8-a402f26e9b71\")>], [<selenium.webdriver.remote.webelement.WebElement (session=\"b89fbd4a8b95874f2bba3b5972406bb3\", element=\"7fd40c58-6dc1-4131-b98e-fc301fcdda28\")>], [<selenium.webdriver.remote.webelement.WebElement (session=\"b89fbd4a8b95874f2bba3b5972406bb3\", element=\"7173efc6-55e6-4d18-a374-3d916889c2d8\")>], [<selenium.webdriver.remote.webelement.WebElement (session=\"b89fbd4a8b95874f2bba3b5972406bb3\", element=\"f0d124c1-8fc2-4769-a175-dae70772446f\")>], [<selenium.webdriver.remote.webelement.WebElement (session=\"b89fbd4a8b95874f2bba3b5972406bb3\", element=\"28efb6a0-3275-44ac-84ae-269826a473f1\")>], [<selenium.webdriver.remote.webelement.WebElement (session=\"b89fbd4a8b95874f2bba3b5972406bb3\", element=\"0c0f5c8c-ca11-4d46-91d0-fe54825638d2\")>], [<selenium.webdriver.remote.webelement.WebElement (session=\"b89fbd4a8b95874f2bba3b5972406bb3\", element=\"72bcf004-e79b-44f1-8147-dbf42aed3ed0\")>], [<selenium.webdriver.remote.webelement.WebElement (session=\"b89fbd4a8b95874f2bba3b5972406bb3\", element=\"bd13cb2d-5bce-465e-b0d1-23fc4222c779\")>], [<selenium.webdriver.remote.webelement.WebElement (session=\"b89fbd4a8b95874f2bba3b5972406bb3\", element=\"b47fb58f-816d-450a-8824-b9c30634e38a\")>], [<selenium.webdriver.remote.webelement.WebElement (session=\"b89fbd4a8b95874f2bba3b5972406bb3\", element=\"3d7855eb-b5e1-4e6a-a562-5bf017740fad\")>], [<selenium.webdriver.remote.webelement.WebElement (session=\"b89fbd4a8b95874f2bba3b5972406bb3\", element=\"40191293-b06b-4e5f-af29-bef1ee1846cb\")>], [<selenium.webdriver.remote.webelement.WebElement (session=\"b89fbd4a8b95874f2bba3b5972406bb3\", element=\"ff2c263e-5cc7-4335-91fe-08ccbb93470a\")>], [<selenium.webdriver.remote.webelement.WebElement (session=\"b89fbd4a8b95874f2bba3b5972406bb3\", element=\"3301fa76-3344-499f-ba6a-80ec8a1898df\")>], [<selenium.webdriver.remote.webelement.WebElement (session=\"b89fbd4a8b95874f2bba3b5972406bb3\", element=\"4f370cb8-3cb2-4ad4-bc7e-7c0bab91aee6\")>], [<selenium.webdriver.remote.webelement.WebElement (session=\"b89fbd4a8b95874f2bba3b5972406bb3\", element=\"51f32a3d-3e26-4151-8adb-75b0c2c283d1\")>], [<selenium.webdriver.remote.webelement.WebElement (session=\"b89fbd4a8b95874f2bba3b5972406bb3\", element=\"2b7de529-dc61-48be-b709-1c39440a46a8\")>], [<selenium.webdriver.remote.webelement.WebElement (session=\"b89fbd4a8b95874f2bba3b5972406bb3\", element=\"ae5088c1-e398-4057-97e0-ac01c87f03b9\")>], [<selenium.webdriver.remote.webelement.WebElement (session=\"b89fbd4a8b95874f2bba3b5972406bb3\", element=\"9ee4a1ba-52f2-44c9-b2ad-c2b489fb7a5f\")>], [<selenium.webdriver.remote.webelement.WebElement (session=\"b89fbd4a8b95874f2bba3b5972406bb3\", element=\"2885da7e-aacc-4d49-833a-7491afa50101\")>], [<selenium.webdriver.remote.webelement.WebElement (session=\"b89fbd4a8b95874f2bba3b5972406bb3\", element=\"4c3689be-19c2-45dc-b3ef-08a4b9f24f7d\")>], [<selenium.webdriver.remote.webelement.WebElement (session=\"b89fbd4a8b95874f2bba3b5972406bb3\", element=\"782667f1-6fae-41d2-9b98-41527a9bfedf\")>], [<selenium.webdriver.remote.webelement.WebElement (session=\"b89fbd4a8b95874f2bba3b5972406bb3\", element=\"3972976c-72db-4674-81ac-784a30a9c94b\")>], [<selenium.webdriver.remote.webelement.WebElement (session=\"b89fbd4a8b95874f2bba3b5972406bb3\", element=\"2ffa00b1-f541-4a40-9471-180fa51a571d\")>], [<selenium.webdriver.remote.webelement.WebElement (session=\"b89fbd4a8b95874f2bba3b5972406bb3\", element=\"a1fab0b4-54cf-4d2d-a932-a951cb8f43bc\")>], [<selenium.webdriver.remote.webelement.WebElement (session=\"b89fbd4a8b95874f2bba3b5972406bb3\", element=\"cadf5e8e-22b6-4a0c-a8dd-ec22107653df\")>], [<selenium.webdriver.remote.webelement.WebElement (session=\"b89fbd4a8b95874f2bba3b5972406bb3\", element=\"61ffdf47-ef0a-4b35-a403-543a4bd0862b\")>], [<selenium.webdriver.remote.webelement.WebElement (session=\"b89fbd4a8b95874f2bba3b5972406bb3\", element=\"5fe2dec6-9481-48e9-8f81-b78d680f8cc3\")>], [<selenium.webdriver.remote.webelement.WebElement (session=\"b89fbd4a8b95874f2bba3b5972406bb3\", element=\"3ce94d7d-9792-4c18-9352-64331553a15e\")>], [<selenium.webdriver.remote.webelement.WebElement (session=\"b89fbd4a8b95874f2bba3b5972406bb3\", element=\"d3aef90b-575f-488f-98ef-dd771da3ef50\")>], [<selenium.webdriver.remote.webelement.WebElement (session=\"b89fbd4a8b95874f2bba3b5972406bb3\", element=\"1b4a2869-4ebd-49d6-8046-16c7893b9796\")>], [<selenium.webdriver.remote.webelement.WebElement (session=\"b89fbd4a8b95874f2bba3b5972406bb3\", element=\"32ca755d-7dee-45b3-80be-dd77acb5abd8\")>], [<selenium.webdriver.remote.webelement.WebElement (session=\"b89fbd4a8b95874f2bba3b5972406bb3\", element=\"18dedb97-93b5-43a8-be0a-a20a4e62dd7d\")>], [<selenium.webdriver.remote.webelement.WebElement (session=\"b89fbd4a8b95874f2bba3b5972406bb3\", element=\"ffe51e23-ab27-4346-8010-a5554e33cea5\")>], [<selenium.webdriver.remote.webelement.WebElement (session=\"b89fbd4a8b95874f2bba3b5972406bb3\", element=\"d63c471d-dbbd-489b-a369-7f43ca49f3f5\")>], [<selenium.webdriver.remote.webelement.WebElement (session=\"b89fbd4a8b95874f2bba3b5972406bb3\", element=\"b2265448-74b8-499a-9d6c-bc68d0602a83\")>], [<selenium.webdriver.remote.webelement.WebElement (session=\"b89fbd4a8b95874f2bba3b5972406bb3\", element=\"0173d975-61f6-412d-ae92-c2883b47f2b2\")>], [<selenium.webdriver.remote.webelement.WebElement (session=\"b89fbd4a8b95874f2bba3b5972406bb3\", element=\"846d5924-c5af-4a6c-957c-cb5fe638008c\")>]]\n"
     ]
    }
   ],
   "source": [
    "# for holding the resultant list\n",
    "element_list = []\n",
    "  \n",
    "for page in range(1, 3, 1):\n",
    "    \n",
    "    page_url = \"https://www.ebay.ch/sch/i.html?_from=R40&_nkw=Fahrrad&_sacat=0&_pgn=\" + str(page)\n",
    "    driver.get(page_url)\n",
    "    image_results = driver.find_elements(by=By.CSS_SELECTOR, value=\".s-item__image-img\")\n",
    "    title = driver.find_elements(by=By.CLASS_NAME,value=\"title\")\n",
    "\n",
    "    image_results = driver.find_elements(by=By.CSS_SELECTOR, value=\".s-item__image-img\")\n",
    "\n",
    " \n",
    "    for i in range(len(image_results)):\n",
    "        element_list.append([image_results[i]])\n",
    "       \n",
    "  \n",
    "    print(element_list)"
   ]
  },
  {
   "cell_type": "code",
   "execution_count": 27,
   "id": "b8db4a31",
   "metadata": {},
   "outputs": [],
   "source": [
    "image_urls = set()\n",
    "image_count = 0\n",
    "results_start = 0"
   ]
  },
  {
   "cell_type": "code",
   "execution_count": 28,
   "id": "fdead568",
   "metadata": {},
   "outputs": [
    {
     "name": "stdout",
     "output_type": "stream",
     "text": [
      "Found: 62 search results. Extracting links from 0:62\n",
      "https://ir.ebaystatic.com/rs/v/fxxj3ttftm5ltcqnto1o4baovyl.png\n"
     ]
    }
   ],
   "source": [
    "#Bilder finden\n",
    "thumbnails = driver.find_element(By.CSS_SELECTOR, value=\".s-item__image-img\").get_attribute(\"src\")\n",
    "number_results = len(thumbnails)\n",
    "print(f\"Found: {number_results} search results. Extracting links from {results_start}:{number_results}\")\n",
    "print(thumbnails)"
   ]
  },
  {
   "cell_type": "code",
   "execution_count": 8,
   "id": "d7fa6ef2",
   "metadata": {},
   "outputs": [
    {
     "data": {
      "text/plain": [
       "\"for i, url in enumerate(urls_clean):\\n    urllib.request.urlretrieve(url,  str('photo_' + str(i+1) + '.jpg'))\""
      ]
     },
     "execution_count": 8,
     "metadata": {},
     "output_type": "execute_result"
    }
   ],
   "source": [
    "# Download all photos using the urls and save it in the working directory\n",
    "\"\"\"for i, url in enumerate(urls_clean):\n",
    "    urllib.request.urlretrieve(url,  str('photo_' + str(i+1) + '.jpg'))\"\"\""
   ]
  },
  {
   "cell_type": "code",
   "execution_count": 11,
   "id": "616716d1",
   "metadata": {},
   "outputs": [
    {
     "data": {
      "text/plain": [
       "\"%matplotlib inline\\n\\nfor i, url in enumerate(urls_clean):\\n    img = mpimg.imread(str('photo_' + str(i+1) + '.jpg'))\\n    plt.figure(figsize=(8,8))\\n    plt.axis('off')\\n    imgplot = plt.imshow(img)\""
      ]
     },
     "execution_count": 11,
     "metadata": {},
     "output_type": "execute_result"
    }
   ],
   "source": [
    "# Plot the photo\n",
    "\"\"\"%matplotlib inline\n",
    "\n",
    "for i, url in enumerate(urls_clean):\n",
    "    img = mpimg.imread(str('photo_' + str(i+1) + '.jpg'))\n",
    "    plt.figure(figsize=(8,8))\n",
    "    plt.axis('off')\n",
    "    imgplot = plt.imshow(img)\"\"\""
   ]
  },
  {
   "cell_type": "code",
   "execution_count": 10,
   "id": "ae964429",
   "metadata": {},
   "outputs": [],
   "source": [
    "# Close driver\n",
    "driver.close()"
   ]
  },
  {
   "cell_type": "code",
   "execution_count": null,
   "id": "e66dd7d3-e024-497f-a435-b5655786da37",
   "metadata": {},
   "outputs": [],
   "source": []
  }
 ],
 "metadata": {
  "kernelspec": {
   "display_name": "Python 3",
   "language": "python",
   "name": "python3"
  },
  "language_info": {
   "codemirror_mode": {
    "name": "ipython",
    "version": 3
   },
   "file_extension": ".py",
   "mimetype": "text/x-python",
   "name": "python",
   "nbconvert_exporter": "python",
   "pygments_lexer": "ipython3",
   "version": "3.8.8"
  }
 },
 "nbformat": 4,
 "nbformat_minor": 5
}
