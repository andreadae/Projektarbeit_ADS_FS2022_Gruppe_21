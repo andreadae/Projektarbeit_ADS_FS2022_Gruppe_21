{
 "cells": [
  {
   "cell_type": "markdown",
   "id": "97c6b08e",
   "metadata": {},
   "source": [
    "# <font color='black'>Applied Data Science Project Grupp 21 - FS 2022 - Andrea</font>\n",
    "# <font color='blue'>Fahrzeug-Bilder-Erkennung</font>\n",
    "<font color=\"blue\">Quellen</font>\n",
    "<li>flickr_api_example/flickr_example_01.ipynb von Mario Gellrich</li>\n",
    "<li>flickr_api_example/flickr_example_01.ipynb von Mario Gellrich</li>\n",
    "<li>https://www.tensorflow.org/tutorials/images/classification</li>\n",
    "<li>Exercise6-transfer_learning.ipynb von Elena Gavarin</li>\n"
   ]
  },
  {
   "cell_type": "markdown",
   "id": "35dc8de9",
   "metadata": {},
   "source": [
    "## <font color='blue'>Notebook Preparation</font>\n",
    "<font color='blue'>Installed Tools</font>\n",
    "<li>pip install pandas</li>\n",
    "<li>pip install numpy</li>\n",
    "<li>pip install matplotlib.pyplot</li>\n",
    "<li>pip install tensorflow</li>\n",
    "<li>pip install PIL</li>\n",
    "<li>pip install webdriver-manager</li>\n",
    "<li>pip install selenium</li>\n"
   ]
  },
  {
   "cell_type": "code",
   "execution_count": 1,
   "id": "194d4e7f",
   "metadata": {},
   "outputs": [
    {
     "name": "stdout",
     "output_type": "stream",
     "text": [
      "Import Libraries Successfull\n"
     ]
    }
   ],
   "source": [
    "import os\n",
    "from selenium import webdriver\n",
    "from selenium.webdriver.chrome.service import Service\n",
    "from webdriver_manager.chrome import ChromeDriverManager\n",
    "from selenium.webdriver.chrome.options import Options\n",
    "from selenium.webdriver.common.keys import Keys\n",
    "from selenium.webdriver.common.by import By\n",
    "\n",
    "print (\"Import Libraries Successfull\")"
   ]
  },
  {
   "cell_type": "markdown",
   "id": "9ecd7bed",
   "metadata": {},
   "source": [
    "# Webscraping ebay.ch\n",
    "## Fahrrad Bilder"
   ]
  },
  {
   "cell_type": "code",
   "execution_count": 6,
   "id": "e5025403",
   "metadata": {
    "scrolled": true
   },
   "outputs": [
    {
     "name": "stdout",
     "output_type": "stream",
     "text": [
      "C:\\Test_ADS_FS22_Webscraping\n",
      "\n"
     ]
    },
    {
     "name": "stderr",
     "output_type": "stream",
     "text": [
      "[WDM] - ====== WebDriver manager ======\n",
      "[WDM] - Current google-chrome version is 102.0.5005\n",
      "[WDM] - Get LATEST chromedriver version for 102.0.5005 google-chrome\n",
      "[WDM] - Driver [C:\\Users\\krist\\.wdm\\drivers\\chromedriver\\win32\\102.0.5005.61\\chromedriver.exe] found in cache\n"
     ]
    }
   ],
   "source": [
    "# Working directory\n",
    "os.chdir('C:/Test_ADS_FS22_Webscraping')\n",
    "print(os.getcwd())\n",
    "\n",
    "# Set Options\n",
    "#opts = Options()\n",
    "#opts.add_argument(\"--window-size=1200,800\")\n",
    "driver = webdriver.Chrome(service=Service(ChromeDriverManager().install()))\n",
    "\n",
    "\n",
    "# Website to scrape\n",
    "driver.get(\"https://www.ebay.de/sch/i.html?_from=R40&_trksid=p2380057.m570.l1313&_nkw=fahrrad&_sacat=0\")\n",
    "\n",
    "# Fill in the search text\n",
    "#text_to_send = 'Fahrrad'\n",
    "#search = driver.find_element(by=By.XPATH, value=\"/html/body/header/table/tbody/tr/td[3]/form/table/tbody/tr/td[1]/div[1]/div/input[1]\")\n",
    "#search.clear()\n",
    "#search.send_keys(text_to_send)\n",
    "#search.submit()\n",
    "\n",
    "\n",
    "\n",
    "#srp-river-results > ul > li:nth-child(3) > div > div.s-item__image-section > div > a > div > img\n",
    "\n",
    "#/html/body/div[6]/div[4]/div[2]/div[1]/div[2]/ul/li[3]/div/div[1]/div/a/div/img\n",
    "\n"
   ]
  },
  {
   "cell_type": "code",
   "execution_count": 7,
   "id": "dc1ca46b",
   "metadata": {},
   "outputs": [],
   "source": [
    "def fetch_image_urls(query:str, max_links_to_fetch:int, wd:webdriver, sleep_between_interactions:int=3):\n",
    "    def scroll_to_end(wd, scroll_point):  \n",
    "        wd.execute_script(f\"window.scrollTo(0, {scroll_point});\")\n",
    "        time.sleep(sleep_between_interactions)    \n",
    " \n",
    "        \n",
    "# build the unsplash query\n",
    "    search_url = f\"https://unsplash.com/s/photos/office\"\n",
    "# load the page\n",
    "    wd.get(search_url)\n",
    "    time.sleep(sleep_between_interactions)  \n",
    "    \n",
    "    image_urls = set()\n",
    "    image_count = 0\n",
    "    number_results = 0\n",
    "    \n",
    "    for i in range(1,20):\n",
    "        scroll_to_end(wd, i*1000)\n",
    "        time.sleep(5)\n",
    "        thumb = wd.find_elements_by_css_selector(\"img._2zEKz\")\n",
    "        time.sleep(5)\n",
    "        for img in thumb:\n",
    "            print(img)\n",
    "            print(img.get_attribute('src'))\n",
    "            image_urls.add(img.get_attribute('src'))\n",
    "            image_count = len(image_urls)\n",
    "            number_results = image_count\n",
    "            time.sleep(.5)\n",
    "        print(f\"Found: {number_results} search results. Extracting links...\")\n",
    "\n",
    "#return image_urls\n"
   ]
  },
  {
   "cell_type": "code",
   "execution_count": 8,
   "id": "082fcdc9",
   "metadata": {},
   "outputs": [
    {
     "name": "stdout",
     "output_type": "stream",
     "text": [
      "[[<selenium.webdriver.remote.webelement.WebElement (session=\"26553e3db15b4b46574a7b245c6bfb03\", element=\"d841b7e5-ddca-4b1a-8a28-fea299877be6\")>], [<selenium.webdriver.remote.webelement.WebElement (session=\"26553e3db15b4b46574a7b245c6bfb03\", element=\"0a32598c-7ad7-4607-81be-b7786a696385\")>], [<selenium.webdriver.remote.webelement.WebElement (session=\"26553e3db15b4b46574a7b245c6bfb03\", element=\"fd5ee45e-0d3e-46f5-b5a0-f3bdd4e4ea99\")>], [<selenium.webdriver.remote.webelement.WebElement (session=\"26553e3db15b4b46574a7b245c6bfb03\", element=\"1e3e60c8-417e-447f-82a9-2c17b80d4197\")>], [<selenium.webdriver.remote.webelement.WebElement (session=\"26553e3db15b4b46574a7b245c6bfb03\", element=\"6b1c20e6-0428-467f-8324-1bdb65aebd47\")>], [<selenium.webdriver.remote.webelement.WebElement (session=\"26553e3db15b4b46574a7b245c6bfb03\", element=\"64d14839-c21d-4001-b912-fb7df84d2463\")>], [<selenium.webdriver.remote.webelement.WebElement (session=\"26553e3db15b4b46574a7b245c6bfb03\", element=\"f60fc2d0-9491-47f3-8662-f184a51d1b93\")>], [<selenium.webdriver.remote.webelement.WebElement (session=\"26553e3db15b4b46574a7b245c6bfb03\", element=\"30fb4140-4bef-4899-bc99-34c4c0add892\")>], [<selenium.webdriver.remote.webelement.WebElement (session=\"26553e3db15b4b46574a7b245c6bfb03\", element=\"d86f1b41-ac3d-4174-90e3-2e00f09d0660\")>], [<selenium.webdriver.remote.webelement.WebElement (session=\"26553e3db15b4b46574a7b245c6bfb03\", element=\"833a9b51-77a4-4d73-a853-1cf0b3f44776\")>], [<selenium.webdriver.remote.webelement.WebElement (session=\"26553e3db15b4b46574a7b245c6bfb03\", element=\"3fb59e66-a656-43db-8378-4134abfc44c0\")>], [<selenium.webdriver.remote.webelement.WebElement (session=\"26553e3db15b4b46574a7b245c6bfb03\", element=\"b39a448a-1f16-4058-ac61-048957ad6bed\")>], [<selenium.webdriver.remote.webelement.WebElement (session=\"26553e3db15b4b46574a7b245c6bfb03\", element=\"d1e6abb1-dca0-4221-953e-70e4a77bc52f\")>], [<selenium.webdriver.remote.webelement.WebElement (session=\"26553e3db15b4b46574a7b245c6bfb03\", element=\"4da61a16-d162-490a-922d-739f2cc7de76\")>], [<selenium.webdriver.remote.webelement.WebElement (session=\"26553e3db15b4b46574a7b245c6bfb03\", element=\"c9c6216e-e30a-4710-85db-13a49e256814\")>], [<selenium.webdriver.remote.webelement.WebElement (session=\"26553e3db15b4b46574a7b245c6bfb03\", element=\"892d163f-8c5a-4746-8f5a-0f5611eca7d0\")>], [<selenium.webdriver.remote.webelement.WebElement (session=\"26553e3db15b4b46574a7b245c6bfb03\", element=\"e29b4f20-bfbf-4c8c-b704-cfeb1fdc121f\")>], [<selenium.webdriver.remote.webelement.WebElement (session=\"26553e3db15b4b46574a7b245c6bfb03\", element=\"64d2caf8-bff3-4a62-a5e1-f382afa7a853\")>], [<selenium.webdriver.remote.webelement.WebElement (session=\"26553e3db15b4b46574a7b245c6bfb03\", element=\"2dbb20af-d58a-46b3-9a3e-9b6a9daf8095\")>], [<selenium.webdriver.remote.webelement.WebElement (session=\"26553e3db15b4b46574a7b245c6bfb03\", element=\"5c89a714-45c6-4d23-9774-6be6bdad8959\")>], [<selenium.webdriver.remote.webelement.WebElement (session=\"26553e3db15b4b46574a7b245c6bfb03\", element=\"8b75faba-fc5c-47c9-8767-9e87b394e3ea\")>], [<selenium.webdriver.remote.webelement.WebElement (session=\"26553e3db15b4b46574a7b245c6bfb03\", element=\"91844a94-2176-450c-9584-57a781e24325\")>], [<selenium.webdriver.remote.webelement.WebElement (session=\"26553e3db15b4b46574a7b245c6bfb03\", element=\"060d0783-9cf0-44b9-a25e-d60ad4502d72\")>], [<selenium.webdriver.remote.webelement.WebElement (session=\"26553e3db15b4b46574a7b245c6bfb03\", element=\"8f12a0d6-9100-4296-928a-81e3569f7d7a\")>], [<selenium.webdriver.remote.webelement.WebElement (session=\"26553e3db15b4b46574a7b245c6bfb03\", element=\"d3a2bca8-f883-4c66-ab13-56bcea6abf8b\")>], [<selenium.webdriver.remote.webelement.WebElement (session=\"26553e3db15b4b46574a7b245c6bfb03\", element=\"3bd6cf56-689a-45c7-af30-17800b761143\")>], [<selenium.webdriver.remote.webelement.WebElement (session=\"26553e3db15b4b46574a7b245c6bfb03\", element=\"7c6d7dd5-2647-4534-b1ee-bda889ead06b\")>], [<selenium.webdriver.remote.webelement.WebElement (session=\"26553e3db15b4b46574a7b245c6bfb03\", element=\"7fb24ef7-f873-4af0-940f-01edf4f0f352\")>], [<selenium.webdriver.remote.webelement.WebElement (session=\"26553e3db15b4b46574a7b245c6bfb03\", element=\"450f0a02-192b-4618-be18-cff9d563be96\")>], [<selenium.webdriver.remote.webelement.WebElement (session=\"26553e3db15b4b46574a7b245c6bfb03\", element=\"9ec5d8d0-b73f-42c2-9698-a7b42c88d57c\")>], [<selenium.webdriver.remote.webelement.WebElement (session=\"26553e3db15b4b46574a7b245c6bfb03\", element=\"77d1df7e-3417-40c7-a63e-bd7008173d58\")>], [<selenium.webdriver.remote.webelement.WebElement (session=\"26553e3db15b4b46574a7b245c6bfb03\", element=\"c2464ef5-761c-4fd3-b1ad-7b380f1424e6\")>], [<selenium.webdriver.remote.webelement.WebElement (session=\"26553e3db15b4b46574a7b245c6bfb03\", element=\"461d5117-ecdb-47af-b5d4-7fe93713a041\")>], [<selenium.webdriver.remote.webelement.WebElement (session=\"26553e3db15b4b46574a7b245c6bfb03\", element=\"b97a1874-a3ad-4abf-9305-945a89462be0\")>], [<selenium.webdriver.remote.webelement.WebElement (session=\"26553e3db15b4b46574a7b245c6bfb03\", element=\"b18af34e-ee21-49d8-a418-547a0fbd72e2\")>], [<selenium.webdriver.remote.webelement.WebElement (session=\"26553e3db15b4b46574a7b245c6bfb03\", element=\"38b4ca27-3197-48bd-ac5f-f42787512829\")>], [<selenium.webdriver.remote.webelement.WebElement (session=\"26553e3db15b4b46574a7b245c6bfb03\", element=\"215c7e42-615a-4362-98d7-1d9661dcdbcb\")>], [<selenium.webdriver.remote.webelement.WebElement (session=\"26553e3db15b4b46574a7b245c6bfb03\", element=\"a27060b0-5c17-46b8-9ef7-a5f22d132f1d\")>], [<selenium.webdriver.remote.webelement.WebElement (session=\"26553e3db15b4b46574a7b245c6bfb03\", element=\"d7df5b56-6713-411e-ae78-e122ae41573f\")>], [<selenium.webdriver.remote.webelement.WebElement (session=\"26553e3db15b4b46574a7b245c6bfb03\", element=\"18a9b99e-56a7-4ae3-99b2-7c4e646b5bd9\")>], [<selenium.webdriver.remote.webelement.WebElement (session=\"26553e3db15b4b46574a7b245c6bfb03\", element=\"771516d5-684d-4a20-8c45-46fa6eede4c5\")>], [<selenium.webdriver.remote.webelement.WebElement (session=\"26553e3db15b4b46574a7b245c6bfb03\", element=\"fbfb3caf-a3fe-4715-9a7e-080f1f7b1ccf\")>], [<selenium.webdriver.remote.webelement.WebElement (session=\"26553e3db15b4b46574a7b245c6bfb03\", element=\"f86aaf70-bfbe-4b32-872a-2b7628f09752\")>], [<selenium.webdriver.remote.webelement.WebElement (session=\"26553e3db15b4b46574a7b245c6bfb03\", element=\"fe3e18f8-0461-4cad-9530-463fdb4ada81\")>], [<selenium.webdriver.remote.webelement.WebElement (session=\"26553e3db15b4b46574a7b245c6bfb03\", element=\"7ef2ae7f-8d47-46d0-90ee-87e22b240374\")>], [<selenium.webdriver.remote.webelement.WebElement (session=\"26553e3db15b4b46574a7b245c6bfb03\", element=\"15aa9070-f12e-49f1-9dc9-5b402dd13c9a\")>], [<selenium.webdriver.remote.webelement.WebElement (session=\"26553e3db15b4b46574a7b245c6bfb03\", element=\"3322bc78-93f8-4007-80cd-a4c26ef7a070\")>], [<selenium.webdriver.remote.webelement.WebElement (session=\"26553e3db15b4b46574a7b245c6bfb03\", element=\"d9fd152b-73c9-48ef-ae2f-3a0d8838f8ca\")>], [<selenium.webdriver.remote.webelement.WebElement (session=\"26553e3db15b4b46574a7b245c6bfb03\", element=\"d588911e-9adb-4078-bf1a-d651f032ce6b\")>], [<selenium.webdriver.remote.webelement.WebElement (session=\"26553e3db15b4b46574a7b245c6bfb03\", element=\"7fb66e4d-5ee3-4e22-a4a1-2641bdfd31e9\")>], [<selenium.webdriver.remote.webelement.WebElement (session=\"26553e3db15b4b46574a7b245c6bfb03\", element=\"ef17365a-a68a-4285-815c-d8a4bef4404c\")>], [<selenium.webdriver.remote.webelement.WebElement (session=\"26553e3db15b4b46574a7b245c6bfb03\", element=\"0e940b9a-b4b0-4e0c-9f77-7f804b1e22b7\")>], [<selenium.webdriver.remote.webelement.WebElement (session=\"26553e3db15b4b46574a7b245c6bfb03\", element=\"2458b365-c646-4456-8415-71349405a848\")>], [<selenium.webdriver.remote.webelement.WebElement (session=\"26553e3db15b4b46574a7b245c6bfb03\", element=\"152ffb3b-ab5a-4cfb-836e-7a12354ffe02\")>], [<selenium.webdriver.remote.webelement.WebElement (session=\"26553e3db15b4b46574a7b245c6bfb03\", element=\"7aa4279a-5dba-4334-8298-c5ce3d1e89ce\")>], [<selenium.webdriver.remote.webelement.WebElement (session=\"26553e3db15b4b46574a7b245c6bfb03\", element=\"acbb3dcc-2886-4bd6-82cb-ca289593d827\")>], [<selenium.webdriver.remote.webelement.WebElement (session=\"26553e3db15b4b46574a7b245c6bfb03\", element=\"9d236147-8b9d-40e4-9ddb-9f58f40b1980\")>], [<selenium.webdriver.remote.webelement.WebElement (session=\"26553e3db15b4b46574a7b245c6bfb03\", element=\"2526cc4c-ca71-4669-b770-624239627b33\")>], [<selenium.webdriver.remote.webelement.WebElement (session=\"26553e3db15b4b46574a7b245c6bfb03\", element=\"1b3e8ac5-1ed0-4261-82b1-3937e2fd1f54\")>], [<selenium.webdriver.remote.webelement.WebElement (session=\"26553e3db15b4b46574a7b245c6bfb03\", element=\"261d0bf4-cf5a-47db-8229-b8b0b12863ac\")>], [<selenium.webdriver.remote.webelement.WebElement (session=\"26553e3db15b4b46574a7b245c6bfb03\", element=\"cbe95800-42cb-4ae4-a137-2432e6df3e1f\")>]]\n",
      "[[<selenium.webdriver.remote.webelement.WebElement (session=\"26553e3db15b4b46574a7b245c6bfb03\", element=\"d841b7e5-ddca-4b1a-8a28-fea299877be6\")>], [<selenium.webdriver.remote.webelement.WebElement (session=\"26553e3db15b4b46574a7b245c6bfb03\", element=\"0a32598c-7ad7-4607-81be-b7786a696385\")>], [<selenium.webdriver.remote.webelement.WebElement (session=\"26553e3db15b4b46574a7b245c6bfb03\", element=\"fd5ee45e-0d3e-46f5-b5a0-f3bdd4e4ea99\")>], [<selenium.webdriver.remote.webelement.WebElement (session=\"26553e3db15b4b46574a7b245c6bfb03\", element=\"1e3e60c8-417e-447f-82a9-2c17b80d4197\")>], [<selenium.webdriver.remote.webelement.WebElement (session=\"26553e3db15b4b46574a7b245c6bfb03\", element=\"6b1c20e6-0428-467f-8324-1bdb65aebd47\")>], [<selenium.webdriver.remote.webelement.WebElement (session=\"26553e3db15b4b46574a7b245c6bfb03\", element=\"64d14839-c21d-4001-b912-fb7df84d2463\")>], [<selenium.webdriver.remote.webelement.WebElement (session=\"26553e3db15b4b46574a7b245c6bfb03\", element=\"f60fc2d0-9491-47f3-8662-f184a51d1b93\")>], [<selenium.webdriver.remote.webelement.WebElement (session=\"26553e3db15b4b46574a7b245c6bfb03\", element=\"30fb4140-4bef-4899-bc99-34c4c0add892\")>], [<selenium.webdriver.remote.webelement.WebElement (session=\"26553e3db15b4b46574a7b245c6bfb03\", element=\"d86f1b41-ac3d-4174-90e3-2e00f09d0660\")>], [<selenium.webdriver.remote.webelement.WebElement (session=\"26553e3db15b4b46574a7b245c6bfb03\", element=\"833a9b51-77a4-4d73-a853-1cf0b3f44776\")>], [<selenium.webdriver.remote.webelement.WebElement (session=\"26553e3db15b4b46574a7b245c6bfb03\", element=\"3fb59e66-a656-43db-8378-4134abfc44c0\")>], [<selenium.webdriver.remote.webelement.WebElement (session=\"26553e3db15b4b46574a7b245c6bfb03\", element=\"b39a448a-1f16-4058-ac61-048957ad6bed\")>], [<selenium.webdriver.remote.webelement.WebElement (session=\"26553e3db15b4b46574a7b245c6bfb03\", element=\"d1e6abb1-dca0-4221-953e-70e4a77bc52f\")>], [<selenium.webdriver.remote.webelement.WebElement (session=\"26553e3db15b4b46574a7b245c6bfb03\", element=\"4da61a16-d162-490a-922d-739f2cc7de76\")>], [<selenium.webdriver.remote.webelement.WebElement (session=\"26553e3db15b4b46574a7b245c6bfb03\", element=\"c9c6216e-e30a-4710-85db-13a49e256814\")>], [<selenium.webdriver.remote.webelement.WebElement (session=\"26553e3db15b4b46574a7b245c6bfb03\", element=\"892d163f-8c5a-4746-8f5a-0f5611eca7d0\")>], [<selenium.webdriver.remote.webelement.WebElement (session=\"26553e3db15b4b46574a7b245c6bfb03\", element=\"e29b4f20-bfbf-4c8c-b704-cfeb1fdc121f\")>], [<selenium.webdriver.remote.webelement.WebElement (session=\"26553e3db15b4b46574a7b245c6bfb03\", element=\"64d2caf8-bff3-4a62-a5e1-f382afa7a853\")>], [<selenium.webdriver.remote.webelement.WebElement (session=\"26553e3db15b4b46574a7b245c6bfb03\", element=\"2dbb20af-d58a-46b3-9a3e-9b6a9daf8095\")>], [<selenium.webdriver.remote.webelement.WebElement (session=\"26553e3db15b4b46574a7b245c6bfb03\", element=\"5c89a714-45c6-4d23-9774-6be6bdad8959\")>], [<selenium.webdriver.remote.webelement.WebElement (session=\"26553e3db15b4b46574a7b245c6bfb03\", element=\"8b75faba-fc5c-47c9-8767-9e87b394e3ea\")>], [<selenium.webdriver.remote.webelement.WebElement (session=\"26553e3db15b4b46574a7b245c6bfb03\", element=\"91844a94-2176-450c-9584-57a781e24325\")>], [<selenium.webdriver.remote.webelement.WebElement (session=\"26553e3db15b4b46574a7b245c6bfb03\", element=\"060d0783-9cf0-44b9-a25e-d60ad4502d72\")>], [<selenium.webdriver.remote.webelement.WebElement (session=\"26553e3db15b4b46574a7b245c6bfb03\", element=\"8f12a0d6-9100-4296-928a-81e3569f7d7a\")>], [<selenium.webdriver.remote.webelement.WebElement (session=\"26553e3db15b4b46574a7b245c6bfb03\", element=\"d3a2bca8-f883-4c66-ab13-56bcea6abf8b\")>], [<selenium.webdriver.remote.webelement.WebElement (session=\"26553e3db15b4b46574a7b245c6bfb03\", element=\"3bd6cf56-689a-45c7-af30-17800b761143\")>], [<selenium.webdriver.remote.webelement.WebElement (session=\"26553e3db15b4b46574a7b245c6bfb03\", element=\"7c6d7dd5-2647-4534-b1ee-bda889ead06b\")>], [<selenium.webdriver.remote.webelement.WebElement (session=\"26553e3db15b4b46574a7b245c6bfb03\", element=\"7fb24ef7-f873-4af0-940f-01edf4f0f352\")>], [<selenium.webdriver.remote.webelement.WebElement (session=\"26553e3db15b4b46574a7b245c6bfb03\", element=\"450f0a02-192b-4618-be18-cff9d563be96\")>], [<selenium.webdriver.remote.webelement.WebElement (session=\"26553e3db15b4b46574a7b245c6bfb03\", element=\"9ec5d8d0-b73f-42c2-9698-a7b42c88d57c\")>], [<selenium.webdriver.remote.webelement.WebElement (session=\"26553e3db15b4b46574a7b245c6bfb03\", element=\"77d1df7e-3417-40c7-a63e-bd7008173d58\")>], [<selenium.webdriver.remote.webelement.WebElement (session=\"26553e3db15b4b46574a7b245c6bfb03\", element=\"c2464ef5-761c-4fd3-b1ad-7b380f1424e6\")>], [<selenium.webdriver.remote.webelement.WebElement (session=\"26553e3db15b4b46574a7b245c6bfb03\", element=\"461d5117-ecdb-47af-b5d4-7fe93713a041\")>], [<selenium.webdriver.remote.webelement.WebElement (session=\"26553e3db15b4b46574a7b245c6bfb03\", element=\"b97a1874-a3ad-4abf-9305-945a89462be0\")>], [<selenium.webdriver.remote.webelement.WebElement (session=\"26553e3db15b4b46574a7b245c6bfb03\", element=\"b18af34e-ee21-49d8-a418-547a0fbd72e2\")>], [<selenium.webdriver.remote.webelement.WebElement (session=\"26553e3db15b4b46574a7b245c6bfb03\", element=\"38b4ca27-3197-48bd-ac5f-f42787512829\")>], [<selenium.webdriver.remote.webelement.WebElement (session=\"26553e3db15b4b46574a7b245c6bfb03\", element=\"215c7e42-615a-4362-98d7-1d9661dcdbcb\")>], [<selenium.webdriver.remote.webelement.WebElement (session=\"26553e3db15b4b46574a7b245c6bfb03\", element=\"a27060b0-5c17-46b8-9ef7-a5f22d132f1d\")>], [<selenium.webdriver.remote.webelement.WebElement (session=\"26553e3db15b4b46574a7b245c6bfb03\", element=\"d7df5b56-6713-411e-ae78-e122ae41573f\")>], [<selenium.webdriver.remote.webelement.WebElement (session=\"26553e3db15b4b46574a7b245c6bfb03\", element=\"18a9b99e-56a7-4ae3-99b2-7c4e646b5bd9\")>], [<selenium.webdriver.remote.webelement.WebElement (session=\"26553e3db15b4b46574a7b245c6bfb03\", element=\"771516d5-684d-4a20-8c45-46fa6eede4c5\")>], [<selenium.webdriver.remote.webelement.WebElement (session=\"26553e3db15b4b46574a7b245c6bfb03\", element=\"fbfb3caf-a3fe-4715-9a7e-080f1f7b1ccf\")>], [<selenium.webdriver.remote.webelement.WebElement (session=\"26553e3db15b4b46574a7b245c6bfb03\", element=\"f86aaf70-bfbe-4b32-872a-2b7628f09752\")>], [<selenium.webdriver.remote.webelement.WebElement (session=\"26553e3db15b4b46574a7b245c6bfb03\", element=\"fe3e18f8-0461-4cad-9530-463fdb4ada81\")>], [<selenium.webdriver.remote.webelement.WebElement (session=\"26553e3db15b4b46574a7b245c6bfb03\", element=\"7ef2ae7f-8d47-46d0-90ee-87e22b240374\")>], [<selenium.webdriver.remote.webelement.WebElement (session=\"26553e3db15b4b46574a7b245c6bfb03\", element=\"15aa9070-f12e-49f1-9dc9-5b402dd13c9a\")>], [<selenium.webdriver.remote.webelement.WebElement (session=\"26553e3db15b4b46574a7b245c6bfb03\", element=\"3322bc78-93f8-4007-80cd-a4c26ef7a070\")>], [<selenium.webdriver.remote.webelement.WebElement (session=\"26553e3db15b4b46574a7b245c6bfb03\", element=\"d9fd152b-73c9-48ef-ae2f-3a0d8838f8ca\")>], [<selenium.webdriver.remote.webelement.WebElement (session=\"26553e3db15b4b46574a7b245c6bfb03\", element=\"d588911e-9adb-4078-bf1a-d651f032ce6b\")>], [<selenium.webdriver.remote.webelement.WebElement (session=\"26553e3db15b4b46574a7b245c6bfb03\", element=\"7fb66e4d-5ee3-4e22-a4a1-2641bdfd31e9\")>], [<selenium.webdriver.remote.webelement.WebElement (session=\"26553e3db15b4b46574a7b245c6bfb03\", element=\"ef17365a-a68a-4285-815c-d8a4bef4404c\")>], [<selenium.webdriver.remote.webelement.WebElement (session=\"26553e3db15b4b46574a7b245c6bfb03\", element=\"0e940b9a-b4b0-4e0c-9f77-7f804b1e22b7\")>], [<selenium.webdriver.remote.webelement.WebElement (session=\"26553e3db15b4b46574a7b245c6bfb03\", element=\"2458b365-c646-4456-8415-71349405a848\")>], [<selenium.webdriver.remote.webelement.WebElement (session=\"26553e3db15b4b46574a7b245c6bfb03\", element=\"152ffb3b-ab5a-4cfb-836e-7a12354ffe02\")>], [<selenium.webdriver.remote.webelement.WebElement (session=\"26553e3db15b4b46574a7b245c6bfb03\", element=\"7aa4279a-5dba-4334-8298-c5ce3d1e89ce\")>], [<selenium.webdriver.remote.webelement.WebElement (session=\"26553e3db15b4b46574a7b245c6bfb03\", element=\"acbb3dcc-2886-4bd6-82cb-ca289593d827\")>], [<selenium.webdriver.remote.webelement.WebElement (session=\"26553e3db15b4b46574a7b245c6bfb03\", element=\"9d236147-8b9d-40e4-9ddb-9f58f40b1980\")>], [<selenium.webdriver.remote.webelement.WebElement (session=\"26553e3db15b4b46574a7b245c6bfb03\", element=\"2526cc4c-ca71-4669-b770-624239627b33\")>], [<selenium.webdriver.remote.webelement.WebElement (session=\"26553e3db15b4b46574a7b245c6bfb03\", element=\"1b3e8ac5-1ed0-4261-82b1-3937e2fd1f54\")>], [<selenium.webdriver.remote.webelement.WebElement (session=\"26553e3db15b4b46574a7b245c6bfb03\", element=\"261d0bf4-cf5a-47db-8229-b8b0b12863ac\")>], [<selenium.webdriver.remote.webelement.WebElement (session=\"26553e3db15b4b46574a7b245c6bfb03\", element=\"cbe95800-42cb-4ae4-a137-2432e6df3e1f\")>], [<selenium.webdriver.remote.webelement.WebElement (session=\"26553e3db15b4b46574a7b245c6bfb03\", element=\"a6795f43-ee71-4a22-b086-d4edf66d685b\")>], [<selenium.webdriver.remote.webelement.WebElement (session=\"26553e3db15b4b46574a7b245c6bfb03\", element=\"46322cfd-d4b3-437c-a4aa-5a1eb8d3152e\")>], [<selenium.webdriver.remote.webelement.WebElement (session=\"26553e3db15b4b46574a7b245c6bfb03\", element=\"a7eeddb3-3360-4071-a68b-9a18aea76f57\")>], [<selenium.webdriver.remote.webelement.WebElement (session=\"26553e3db15b4b46574a7b245c6bfb03\", element=\"75b8ac03-8344-4635-992d-9b1d5515a77d\")>], [<selenium.webdriver.remote.webelement.WebElement (session=\"26553e3db15b4b46574a7b245c6bfb03\", element=\"cabc2756-60b3-4a8e-9a9f-bfc93879a598\")>], [<selenium.webdriver.remote.webelement.WebElement (session=\"26553e3db15b4b46574a7b245c6bfb03\", element=\"307a7f40-8324-41f5-9387-fb7a5c0afd45\")>], [<selenium.webdriver.remote.webelement.WebElement (session=\"26553e3db15b4b46574a7b245c6bfb03\", element=\"c01e652a-e1d6-443e-95ac-e0395542bbb2\")>], [<selenium.webdriver.remote.webelement.WebElement (session=\"26553e3db15b4b46574a7b245c6bfb03\", element=\"918bf7a6-9dcd-44b3-8a1c-e5fc4305260b\")>], [<selenium.webdriver.remote.webelement.WebElement (session=\"26553e3db15b4b46574a7b245c6bfb03\", element=\"498f8fc7-b11c-4c85-ba9e-30e5b40f8699\")>], [<selenium.webdriver.remote.webelement.WebElement (session=\"26553e3db15b4b46574a7b245c6bfb03\", element=\"847d7549-e012-455e-a3c4-b50bf9fe4aa2\")>], [<selenium.webdriver.remote.webelement.WebElement (session=\"26553e3db15b4b46574a7b245c6bfb03\", element=\"2ed87b8c-d4b7-46dc-a743-e81fe17502fe\")>], [<selenium.webdriver.remote.webelement.WebElement (session=\"26553e3db15b4b46574a7b245c6bfb03\", element=\"59a8ef8f-305c-4a19-bd90-cb36397871d0\")>], [<selenium.webdriver.remote.webelement.WebElement (session=\"26553e3db15b4b46574a7b245c6bfb03\", element=\"69eeb9c6-5214-4cf3-8f63-8d6a927a3437\")>], [<selenium.webdriver.remote.webelement.WebElement (session=\"26553e3db15b4b46574a7b245c6bfb03\", element=\"82af529b-5a52-48fc-9fcf-fe3c99fa7796\")>], [<selenium.webdriver.remote.webelement.WebElement (session=\"26553e3db15b4b46574a7b245c6bfb03\", element=\"ec798608-6d6c-4421-8424-21d14ef92020\")>], [<selenium.webdriver.remote.webelement.WebElement (session=\"26553e3db15b4b46574a7b245c6bfb03\", element=\"055e4fcd-674e-4652-8f8a-da895016b2c6\")>], [<selenium.webdriver.remote.webelement.WebElement (session=\"26553e3db15b4b46574a7b245c6bfb03\", element=\"aa359a10-2709-4ace-861d-8381d11ddfbd\")>], [<selenium.webdriver.remote.webelement.WebElement (session=\"26553e3db15b4b46574a7b245c6bfb03\", element=\"653ac976-338b-4eab-be1f-2cd6c4b5b79a\")>], [<selenium.webdriver.remote.webelement.WebElement (session=\"26553e3db15b4b46574a7b245c6bfb03\", element=\"39283511-b197-4264-b70b-9424f104445d\")>], [<selenium.webdriver.remote.webelement.WebElement (session=\"26553e3db15b4b46574a7b245c6bfb03\", element=\"201a9001-71ae-4675-9080-d63f03dbc136\")>], [<selenium.webdriver.remote.webelement.WebElement (session=\"26553e3db15b4b46574a7b245c6bfb03\", element=\"cb3894cd-e550-48b4-adaa-90056782112a\")>], [<selenium.webdriver.remote.webelement.WebElement (session=\"26553e3db15b4b46574a7b245c6bfb03\", element=\"f81aef8b-b5c9-456c-958b-0ff838bd6c6c\")>], [<selenium.webdriver.remote.webelement.WebElement (session=\"26553e3db15b4b46574a7b245c6bfb03\", element=\"934ead77-8bf7-46f5-abbb-ec205aa02d8a\")>], [<selenium.webdriver.remote.webelement.WebElement (session=\"26553e3db15b4b46574a7b245c6bfb03\", element=\"5c73126d-5eab-4446-8e8a-fb2e3ac07e02\")>], [<selenium.webdriver.remote.webelement.WebElement (session=\"26553e3db15b4b46574a7b245c6bfb03\", element=\"2c38ac9b-b560-46e4-961c-cc8efd7f3796\")>], [<selenium.webdriver.remote.webelement.WebElement (session=\"26553e3db15b4b46574a7b245c6bfb03\", element=\"74c6add3-1134-4d0e-aab7-ee0588ec5ba0\")>], [<selenium.webdriver.remote.webelement.WebElement (session=\"26553e3db15b4b46574a7b245c6bfb03\", element=\"eef551c6-e338-4103-8274-3120409aa072\")>], [<selenium.webdriver.remote.webelement.WebElement (session=\"26553e3db15b4b46574a7b245c6bfb03\", element=\"1549e85c-86c2-41e4-824e-a3542936eb6f\")>], [<selenium.webdriver.remote.webelement.WebElement (session=\"26553e3db15b4b46574a7b245c6bfb03\", element=\"c453fce8-a713-4e7b-9571-3a58e1e93cbc\")>], [<selenium.webdriver.remote.webelement.WebElement (session=\"26553e3db15b4b46574a7b245c6bfb03\", element=\"f2cda755-51ab-46f7-9d27-b98bec2ca2b2\")>], [<selenium.webdriver.remote.webelement.WebElement (session=\"26553e3db15b4b46574a7b245c6bfb03\", element=\"2678af85-92cd-41f7-83ea-d5dd1e8c73ac\")>], [<selenium.webdriver.remote.webelement.WebElement (session=\"26553e3db15b4b46574a7b245c6bfb03\", element=\"0f4411e0-b7f8-4011-8da1-9bac1df80bd1\")>], [<selenium.webdriver.remote.webelement.WebElement (session=\"26553e3db15b4b46574a7b245c6bfb03\", element=\"52d2312e-5054-4a16-96d6-d193ca6282c7\")>], [<selenium.webdriver.remote.webelement.WebElement (session=\"26553e3db15b4b46574a7b245c6bfb03\", element=\"3195a881-b766-48f8-a83f-dd5581a9eb95\")>], [<selenium.webdriver.remote.webelement.WebElement (session=\"26553e3db15b4b46574a7b245c6bfb03\", element=\"100b14ad-e34d-48f6-9602-7863765846aa\")>], [<selenium.webdriver.remote.webelement.WebElement (session=\"26553e3db15b4b46574a7b245c6bfb03\", element=\"b6c2e57f-a1f2-4fde-b1cb-fc1457eb8d9c\")>], [<selenium.webdriver.remote.webelement.WebElement (session=\"26553e3db15b4b46574a7b245c6bfb03\", element=\"743174a8-fbc8-4c54-908d-882f08cc4c5e\")>], [<selenium.webdriver.remote.webelement.WebElement (session=\"26553e3db15b4b46574a7b245c6bfb03\", element=\"5d888ca7-fc10-4d75-afeb-f38f51b2631b\")>], [<selenium.webdriver.remote.webelement.WebElement (session=\"26553e3db15b4b46574a7b245c6bfb03\", element=\"fe0fb8a7-6bb1-43db-9d6e-df907f9575d9\")>], [<selenium.webdriver.remote.webelement.WebElement (session=\"26553e3db15b4b46574a7b245c6bfb03\", element=\"27171db9-277e-43d7-a45a-a25c16ff74a8\")>], [<selenium.webdriver.remote.webelement.WebElement (session=\"26553e3db15b4b46574a7b245c6bfb03\", element=\"d18457f7-ec24-4ee5-85b0-60343806bbb7\")>], [<selenium.webdriver.remote.webelement.WebElement (session=\"26553e3db15b4b46574a7b245c6bfb03\", element=\"47bdc380-acbd-49fd-a79c-30a367365479\")>], [<selenium.webdriver.remote.webelement.WebElement (session=\"26553e3db15b4b46574a7b245c6bfb03\", element=\"b2a201d8-03e7-4571-8f1c-96827c7e59ff\")>], [<selenium.webdriver.remote.webelement.WebElement (session=\"26553e3db15b4b46574a7b245c6bfb03\", element=\"6ff14640-f8c1-4e37-af45-4bbe08f3e14e\")>], [<selenium.webdriver.remote.webelement.WebElement (session=\"26553e3db15b4b46574a7b245c6bfb03\", element=\"39f1e013-7106-449a-a73b-e6fd77f57301\")>], [<selenium.webdriver.remote.webelement.WebElement (session=\"26553e3db15b4b46574a7b245c6bfb03\", element=\"78b5a740-0ab0-4dba-9307-cd9b7008e97a\")>], [<selenium.webdriver.remote.webelement.WebElement (session=\"26553e3db15b4b46574a7b245c6bfb03\", element=\"8c148503-8aec-457d-8e17-840f16945e6b\")>], [<selenium.webdriver.remote.webelement.WebElement (session=\"26553e3db15b4b46574a7b245c6bfb03\", element=\"69a4459c-bdea-43d5-96ea-eb0cab5a4496\")>], [<selenium.webdriver.remote.webelement.WebElement (session=\"26553e3db15b4b46574a7b245c6bfb03\", element=\"fb3af5de-7589-453f-920c-a15d88a7db5d\")>], [<selenium.webdriver.remote.webelement.WebElement (session=\"26553e3db15b4b46574a7b245c6bfb03\", element=\"9cb0af91-a1f0-4240-b007-f2b9a0d06ada\")>], [<selenium.webdriver.remote.webelement.WebElement (session=\"26553e3db15b4b46574a7b245c6bfb03\", element=\"65e34fdd-c333-41f5-8c38-f5a9b77a452c\")>], [<selenium.webdriver.remote.webelement.WebElement (session=\"26553e3db15b4b46574a7b245c6bfb03\", element=\"0a584583-b5cd-482c-871c-67db1a34e2c1\")>], [<selenium.webdriver.remote.webelement.WebElement (session=\"26553e3db15b4b46574a7b245c6bfb03\", element=\"97dbbef9-aad3-40cb-8cc4-98f56a6edb0e\")>], [<selenium.webdriver.remote.webelement.WebElement (session=\"26553e3db15b4b46574a7b245c6bfb03\", element=\"248e9bfa-4a2f-41d1-a753-cb057a880ad0\")>], [<selenium.webdriver.remote.webelement.WebElement (session=\"26553e3db15b4b46574a7b245c6bfb03\", element=\"3912a3d5-5d8f-449c-bfc5-250d25af9b85\")>], [<selenium.webdriver.remote.webelement.WebElement (session=\"26553e3db15b4b46574a7b245c6bfb03\", element=\"69a02469-1172-47f4-8479-6fe2d77de170\")>], [<selenium.webdriver.remote.webelement.WebElement (session=\"26553e3db15b4b46574a7b245c6bfb03\", element=\"2666e35d-b65c-408e-b2e3-aa450ff5780b\")>], [<selenium.webdriver.remote.webelement.WebElement (session=\"26553e3db15b4b46574a7b245c6bfb03\", element=\"1d4e6058-c0ed-4e45-a092-cbc821f852fc\")>], [<selenium.webdriver.remote.webelement.WebElement (session=\"26553e3db15b4b46574a7b245c6bfb03\", element=\"b5dd2b5c-2a1d-48aa-8a68-792f6a8410f8\")>], [<selenium.webdriver.remote.webelement.WebElement (session=\"26553e3db15b4b46574a7b245c6bfb03\", element=\"ca3408fb-f5a0-42e4-b68b-dad72a7b0073\")>], [<selenium.webdriver.remote.webelement.WebElement (session=\"26553e3db15b4b46574a7b245c6bfb03\", element=\"2a4eb844-653d-442e-87bc-7a0f084d62ac\")>]]\n"
     ]
    }
   ],
   "source": [
    "# for holding the resultant list\n",
    "element_list = []\n",
    "  \n",
    "for page in range(1, 3, 1):\n",
    "    \n",
    "    page_url = \"https://www.ebay.ch/sch/i.html?_from=R40&_nkw=Fahrrad&_sacat=0&_pgn=\" + str(page)\n",
    "    driver.get(page_url)\n",
    "    image_results = driver.find_elements(by=By.CSS_SELECTOR, value=\".s-item__image-img\")\n",
    "    title = driver.find_elements(by=By.CLASS_NAME,value=\"title\")\n",
    "\n",
    "    image_results = driver.find_elements(by=By.CSS_SELECTOR, value=\".s-item__image-img\")\n",
    "\n",
    " \n",
    "    for i in range(len(image_results)):\n",
    "        element_list.append([image_results[i]])\n",
    "       \n",
    "  \n",
    "    print(element_list)"
   ]
  },
  {
   "cell_type": "code",
   "execution_count": 9,
   "id": "b8db4a31",
   "metadata": {},
   "outputs": [],
   "source": [
    "image_urls = set()\n",
    "image_count = 0\n",
    "results_start = 0"
   ]
  },
  {
   "cell_type": "code",
   "execution_count": 10,
   "id": "fdead568",
   "metadata": {},
   "outputs": [
    {
     "name": "stdout",
     "output_type": "stream",
     "text": [
      "Found: 62 search results. Extracting links from 0:62\n",
      "https://ir.ebaystatic.com/rs/v/fxxj3ttftm5ltcqnto1o4baovyl.png\n"
     ]
    }
   ],
   "source": [
    "#Bilder finden\n",
    "thumbnails = driver.find_element(By.CSS_SELECTOR, value=\".s-item__image-img\").get_attribute(\"src\")\n",
    "number_results = len(thumbnails)\n",
    "print(f\"Found: {number_results} search results. Extracting links from {results_start}:{number_results}\")\n",
    "print(thumbnails)"
   ]
  },
  {
   "cell_type": "code",
   "execution_count": 11,
   "id": "d7fa6ef2",
   "metadata": {},
   "outputs": [
    {
     "data": {
      "text/plain": [
       "\"for i, url in enumerate(urls_clean):\\n    urllib.request.urlretrieve(url,  str('photo_' + str(i+1) + '.jpg'))\""
      ]
     },
     "execution_count": 11,
     "metadata": {},
     "output_type": "execute_result"
    }
   ],
   "source": [
    "# Download all photos using the urls and save it in the working directory\n",
    "\"\"\"for i, url in enumerate(urls_clean):\n",
    "    urllib.request.urlretrieve(url,  str('photo_' + str(i+1) + '.jpg'))\"\"\""
   ]
  },
  {
   "cell_type": "code",
   "execution_count": 12,
   "id": "616716d1",
   "metadata": {},
   "outputs": [
    {
     "data": {
      "text/plain": [
       "\"%matplotlib inline\\n\\nfor i, url in enumerate(urls_clean):\\n    img = mpimg.imread(str('photo_' + str(i+1) + '.jpg'))\\n    plt.figure(figsize=(8,8))\\n    plt.axis('off')\\n    imgplot = plt.imshow(img)\""
      ]
     },
     "execution_count": 12,
     "metadata": {},
     "output_type": "execute_result"
    }
   ],
   "source": [
    "# Plot the photo\n",
    "\"\"\"%matplotlib inline\n",
    "\n",
    "for i, url in enumerate(urls_clean):\n",
    "    img = mpimg.imread(str('photo_' + str(i+1) + '.jpg'))\n",
    "    plt.figure(figsize=(8,8))\n",
    "    plt.axis('off')\n",
    "    imgplot = plt.imshow(img)\"\"\""
   ]
  },
  {
   "cell_type": "code",
   "execution_count": 14,
   "id": "ae964429",
   "metadata": {
    "collapsed": true,
    "jupyter": {
     "outputs_hidden": true
    },
    "tags": []
   },
   "outputs": [
    {
     "ename": "InvalidSessionIdException",
     "evalue": "Message: invalid session id\nStacktrace:\nBacktrace:\n\tOrdinal0 [0x0031D953+2414931]\n\tOrdinal0 [0x002AF5E1+1963489]\n\tOrdinal0 [0x0019C580+836992]\n\tOrdinal0 [0x001BE2E0+975584]\n\tOrdinal0 [0x001E4390+1131408]\n\tOrdinal0 [0x001E21F8+1122808]\n\tOrdinal0 [0x001E1D99+1121689]\n\tOrdinal0 [0x0017CEC7+708295]\n\tOrdinal0 [0x0017D443+709699]\n\tOrdinal0 [0x0017D87A+710778]\n\tGetHandleVerifier [0x0058CC62+2510274]\n\tGetHandleVerifier [0x0057F760+2455744]\n\tGetHandleVerifier [0x003AEABA+551962]\n\tGetHandleVerifier [0x003AD916+547446]\n\tOrdinal0 [0x002B5F3B+1990459]\n\tOrdinal0 [0x0017CC57+707671]\n\tOrdinal0 [0x0017C708+706312]\n\tGetHandleVerifier [0x005A8E1C+2625404]\n\tBaseThreadInitThunk [0x76AEFA29+25]\n\tRtlGetAppContainerNamedObjectPath [0x77D37A7E+286]\n\tRtlGetAppContainerNamedObjectPath [0x77D37A4E+238]\n\t(No symbol) [0x00000000]\n",
     "output_type": "error",
     "traceback": [
      "\u001b[1;31m---------------------------------------------------------------------------\u001b[0m",
      "\u001b[1;31mInvalidSessionIdException\u001b[0m                 Traceback (most recent call last)",
      "\u001b[1;32m<ipython-input-14-113d20e16588>\u001b[0m in \u001b[0;36m<module>\u001b[1;34m\u001b[0m\n\u001b[0;32m      1\u001b[0m \u001b[1;31m# Close driver\u001b[0m\u001b[1;33m\u001b[0m\u001b[1;33m\u001b[0m\u001b[1;33m\u001b[0m\u001b[0m\n\u001b[1;32m----> 2\u001b[1;33m \u001b[0mdriver\u001b[0m\u001b[1;33m.\u001b[0m\u001b[0mclose\u001b[0m\u001b[1;33m(\u001b[0m\u001b[1;33m)\u001b[0m\u001b[1;33m\u001b[0m\u001b[1;33m\u001b[0m\u001b[0m\n\u001b[0m",
      "\u001b[1;32m~\\anaconda3\\lib\\site-packages\\selenium\\webdriver\\remote\\webdriver.py\u001b[0m in \u001b[0;36mclose\u001b[1;34m(self)\u001b[0m\n\u001b[0;32m    941\u001b[0m                 \u001b[0mdriver\u001b[0m\u001b[1;33m.\u001b[0m\u001b[0mclose\u001b[0m\u001b[1;33m(\u001b[0m\u001b[1;33m)\u001b[0m\u001b[1;33m\u001b[0m\u001b[1;33m\u001b[0m\u001b[0m\n\u001b[0;32m    942\u001b[0m         \"\"\"\n\u001b[1;32m--> 943\u001b[1;33m         \u001b[0mself\u001b[0m\u001b[1;33m.\u001b[0m\u001b[0mexecute\u001b[0m\u001b[1;33m(\u001b[0m\u001b[0mCommand\u001b[0m\u001b[1;33m.\u001b[0m\u001b[0mCLOSE\u001b[0m\u001b[1;33m)\u001b[0m\u001b[1;33m\u001b[0m\u001b[1;33m\u001b[0m\u001b[0m\n\u001b[0m\u001b[0;32m    944\u001b[0m \u001b[1;33m\u001b[0m\u001b[0m\n\u001b[0;32m    945\u001b[0m     \u001b[1;32mdef\u001b[0m \u001b[0mquit\u001b[0m\u001b[1;33m(\u001b[0m\u001b[0mself\u001b[0m\u001b[1;33m)\u001b[0m \u001b[1;33m->\u001b[0m \u001b[1;32mNone\u001b[0m\u001b[1;33m:\u001b[0m\u001b[1;33m\u001b[0m\u001b[1;33m\u001b[0m\u001b[0m\n",
      "\u001b[1;32m~\\anaconda3\\lib\\site-packages\\selenium\\webdriver\\remote\\webdriver.py\u001b[0m in \u001b[0;36mexecute\u001b[1;34m(self, driver_command, params)\u001b[0m\n\u001b[0;32m    428\u001b[0m         \u001b[0mresponse\u001b[0m \u001b[1;33m=\u001b[0m \u001b[0mself\u001b[0m\u001b[1;33m.\u001b[0m\u001b[0mcommand_executor\u001b[0m\u001b[1;33m.\u001b[0m\u001b[0mexecute\u001b[0m\u001b[1;33m(\u001b[0m\u001b[0mdriver_command\u001b[0m\u001b[1;33m,\u001b[0m \u001b[0mparams\u001b[0m\u001b[1;33m)\u001b[0m\u001b[1;33m\u001b[0m\u001b[1;33m\u001b[0m\u001b[0m\n\u001b[0;32m    429\u001b[0m         \u001b[1;32mif\u001b[0m \u001b[0mresponse\u001b[0m\u001b[1;33m:\u001b[0m\u001b[1;33m\u001b[0m\u001b[1;33m\u001b[0m\u001b[0m\n\u001b[1;32m--> 430\u001b[1;33m             \u001b[0mself\u001b[0m\u001b[1;33m.\u001b[0m\u001b[0merror_handler\u001b[0m\u001b[1;33m.\u001b[0m\u001b[0mcheck_response\u001b[0m\u001b[1;33m(\u001b[0m\u001b[0mresponse\u001b[0m\u001b[1;33m)\u001b[0m\u001b[1;33m\u001b[0m\u001b[1;33m\u001b[0m\u001b[0m\n\u001b[0m\u001b[0;32m    431\u001b[0m             response['value'] = self._unwrap_value(\n\u001b[0;32m    432\u001b[0m                 response.get('value', None))\n",
      "\u001b[1;32m~\\anaconda3\\lib\\site-packages\\selenium\\webdriver\\remote\\errorhandler.py\u001b[0m in \u001b[0;36mcheck_response\u001b[1;34m(self, response)\u001b[0m\n\u001b[0;32m    245\u001b[0m                 \u001b[0malert_text\u001b[0m \u001b[1;33m=\u001b[0m \u001b[0mvalue\u001b[0m\u001b[1;33m[\u001b[0m\u001b[1;34m'alert'\u001b[0m\u001b[1;33m]\u001b[0m\u001b[1;33m.\u001b[0m\u001b[0mget\u001b[0m\u001b[1;33m(\u001b[0m\u001b[1;34m'text'\u001b[0m\u001b[1;33m)\u001b[0m\u001b[1;33m\u001b[0m\u001b[1;33m\u001b[0m\u001b[0m\n\u001b[0;32m    246\u001b[0m             \u001b[1;32mraise\u001b[0m \u001b[0mexception_class\u001b[0m\u001b[1;33m(\u001b[0m\u001b[0mmessage\u001b[0m\u001b[1;33m,\u001b[0m \u001b[0mscreen\u001b[0m\u001b[1;33m,\u001b[0m \u001b[0mstacktrace\u001b[0m\u001b[1;33m,\u001b[0m \u001b[0malert_text\u001b[0m\u001b[1;33m)\u001b[0m  \u001b[1;31m# type: ignore[call-arg]  # mypy is not smart enough here\u001b[0m\u001b[1;33m\u001b[0m\u001b[1;33m\u001b[0m\u001b[0m\n\u001b[1;32m--> 247\u001b[1;33m         \u001b[1;32mraise\u001b[0m \u001b[0mexception_class\u001b[0m\u001b[1;33m(\u001b[0m\u001b[0mmessage\u001b[0m\u001b[1;33m,\u001b[0m \u001b[0mscreen\u001b[0m\u001b[1;33m,\u001b[0m \u001b[0mstacktrace\u001b[0m\u001b[1;33m)\u001b[0m\u001b[1;33m\u001b[0m\u001b[1;33m\u001b[0m\u001b[0m\n\u001b[0m\u001b[0;32m    248\u001b[0m \u001b[1;33m\u001b[0m\u001b[0m\n\u001b[0;32m    249\u001b[0m     \u001b[1;32mdef\u001b[0m \u001b[0m_value_or_default\u001b[0m\u001b[1;33m(\u001b[0m\u001b[0mself\u001b[0m\u001b[1;33m,\u001b[0m \u001b[0mobj\u001b[0m\u001b[1;33m:\u001b[0m \u001b[0mMapping\u001b[0m\u001b[1;33m[\u001b[0m\u001b[0m_KT\u001b[0m\u001b[1;33m,\u001b[0m \u001b[0m_VT\u001b[0m\u001b[1;33m]\u001b[0m\u001b[1;33m,\u001b[0m \u001b[0mkey\u001b[0m\u001b[1;33m:\u001b[0m \u001b[0m_KT\u001b[0m\u001b[1;33m,\u001b[0m \u001b[0mdefault\u001b[0m\u001b[1;33m:\u001b[0m \u001b[0m_VT\u001b[0m\u001b[1;33m)\u001b[0m \u001b[1;33m->\u001b[0m \u001b[0m_VT\u001b[0m\u001b[1;33m:\u001b[0m\u001b[1;33m\u001b[0m\u001b[1;33m\u001b[0m\u001b[0m\n",
      "\u001b[1;31mInvalidSessionIdException\u001b[0m: Message: invalid session id\nStacktrace:\nBacktrace:\n\tOrdinal0 [0x0031D953+2414931]\n\tOrdinal0 [0x002AF5E1+1963489]\n\tOrdinal0 [0x0019C580+836992]\n\tOrdinal0 [0x001BE2E0+975584]\n\tOrdinal0 [0x001E4390+1131408]\n\tOrdinal0 [0x001E21F8+1122808]\n\tOrdinal0 [0x001E1D99+1121689]\n\tOrdinal0 [0x0017CEC7+708295]\n\tOrdinal0 [0x0017D443+709699]\n\tOrdinal0 [0x0017D87A+710778]\n\tGetHandleVerifier [0x0058CC62+2510274]\n\tGetHandleVerifier [0x0057F760+2455744]\n\tGetHandleVerifier [0x003AEABA+551962]\n\tGetHandleVerifier [0x003AD916+547446]\n\tOrdinal0 [0x002B5F3B+1990459]\n\tOrdinal0 [0x0017CC57+707671]\n\tOrdinal0 [0x0017C708+706312]\n\tGetHandleVerifier [0x005A8E1C+2625404]\n\tBaseThreadInitThunk [0x76AEFA29+25]\n\tRtlGetAppContainerNamedObjectPath [0x77D37A7E+286]\n\tRtlGetAppContainerNamedObjectPath [0x77D37A4E+238]\n\t(No symbol) [0x00000000]\n"
     ]
    }
   ],
   "source": [
    "# Close driver\n",
    "driver.close()"
   ]
  },
  {
   "cell_type": "code",
   "execution_count": null,
   "id": "e66dd7d3-e024-497f-a435-b5655786da37",
   "metadata": {},
   "outputs": [],
   "source": []
  }
 ],
 "metadata": {
  "kernelspec": {
   "display_name": "Python 3",
   "language": "python",
   "name": "python3"
  },
  "language_info": {
   "codemirror_mode": {
    "name": "ipython",
    "version": 3
   },
   "file_extension": ".py",
   "mimetype": "text/x-python",
   "name": "python",
   "nbconvert_exporter": "python",
   "pygments_lexer": "ipython3",
   "version": "3.8.8"
  }
 },
 "nbformat": 4,
 "nbformat_minor": 5
}
