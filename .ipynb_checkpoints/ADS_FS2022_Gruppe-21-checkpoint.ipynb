{
 "cells": [
  {
   "cell_type": "markdown",
   "id": "875859d4",
   "metadata": {},
   "source": [
    "# <font color='black'>Applied Data Science Project Grupp 21 - FS 2022</font>\n",
    "# <font color='blue'>Hunde</font>\n",
    "<font color=\"blue\">Quellen</font>\n",
    "<li>d_dataopt_crime_cart_random_forest by Maria</li>"
   ]
  },
  {
   "cell_type": "markdown",
   "id": "c7ddc927",
   "metadata": {},
   "source": [
    "## <font color='blue'>Preparation</font>\n",
    "<font color='blue'>Installed Tools</font>\n",
    "<li>pip install seaborn</li>\n",
    "<li>pip install pandas</li>\n",
    "<li>pip install numpy</li>\n",
    "<li>pip install matplotlib.pyplot</li>\n",
    "<li>pip install sklearn</li>"
   ]
  },
  {
   "cell_type": "code",
   "execution_count": 25,
   "id": "d4ff90e3",
   "metadata": {},
   "outputs": [
    {
     "name": "stdout",
     "output_type": "stream",
     "text": [
      "Import Libraries Successfull\n"
     ]
    }
   ],
   "source": [
    "# Loading libraries\n",
    "import pandas as pd\n",
    "import numpy as np\n",
    "import matplotlib.pyplot as plt\n",
    "import seaborn as sns\n",
    "print (\"Import Libraries Successfull\")"
   ]
  },
  {
   "cell_type": "code",
   "execution_count": 12,
   "id": "3f132d11",
   "metadata": {
    "scrolled": false
   },
   "outputs": [
    {
     "data": {
      "text/plain": [
       "\"os.chdir('/Users/andreazkb/Documents/GitHub/Projektarbeit_ADS_FS2022_Gruppe_21')\\nprint(os.getcwd()) \""
      ]
     },
     "execution_count": 12,
     "metadata": {},
     "output_type": "execute_result"
    }
   ],
   "source": [
    "#load Open Data Api\n",
    "\n",
    "# Working directory\n",
    "\"\"\"os.chdir('/Users/andreazkb/Documents/GitHub/Projektarbeit_ADS_FS2022_Gruppe_21')\n",
    "print(os.getcwd()) \"\"\""
   ]
  },
  {
   "cell_type": "code",
   "execution_count": 11,
   "id": "2674de6a",
   "metadata": {
    "scrolled": true
   },
   "outputs": [
    {
     "data": {
      "text/plain": [
       "\"import urllib\\nurl = 'https://data.stadt-zuerich.ch/api/3/action/datastore_search?resource_id=84a666ff-bde9-4fd7-9e76-192ea5fee09f&limit=5&q=title:jones'\\nfileobj = urllib.urlopen(url)\\nprint fileobj.read()\""
      ]
     },
     "execution_count": 11,
     "metadata": {},
     "output_type": "execute_result"
    }
   ],
   "source": [
    "#API Open Data Stadt Zürich\n",
    "\"\"\"import urllib\n",
    "url = 'https://data.stadt-zuerich.ch/api/3/action/datastore_search?resource_id=84a666ff-bde9-4fd7-9e76-192ea5fee09f&limit=5&q=title:jones'\n",
    "fileobj = urllib.urlopen(url)\n",
    "print fileobj.read()\"\"\""
   ]
  },
  {
   "cell_type": "code",
   "execution_count": 28,
   "id": "e4ed43af",
   "metadata": {},
   "outputs": [
    {
     "data": {
      "text/html": [
       "<div>\n",
       "<style scoped>\n",
       "    .dataframe tbody tr th:only-of-type {\n",
       "        vertical-align: middle;\n",
       "    }\n",
       "\n",
       "    .dataframe tbody tr th {\n",
       "        vertical-align: top;\n",
       "    }\n",
       "\n",
       "    .dataframe thead th {\n",
       "        text-align: right;\n",
       "    }\n",
       "</style>\n",
       "<table border=\"1\" class=\"dataframe\">\n",
       "  <thead>\n",
       "    <tr style=\"text-align: right;\">\n",
       "      <th></th>\n",
       "      <th>ALTER</th>\n",
       "      <th>GESCHLECHT</th>\n",
       "      <th>STADTKREIS</th>\n",
       "      <th>STADTQUARTIER</th>\n",
       "      <th>RASSE1</th>\n",
       "      <th>GEBURTSJAHR_HUND</th>\n",
       "      <th>GESCHLECHT_HUND</th>\n",
       "      <th>HUNDEFARBE</th>\n",
       "    </tr>\n",
       "  </thead>\n",
       "  <tbody>\n",
       "    <tr>\n",
       "      <th>3827</th>\n",
       "      <td>31-40</td>\n",
       "      <td>w</td>\n",
       "      <td>2</td>\n",
       "      <td>24</td>\n",
       "      <td>Terrier</td>\n",
       "      <td>2010</td>\n",
       "      <td>m</td>\n",
       "      <td>tricolor</td>\n",
       "    </tr>\n",
       "    <tr>\n",
       "      <th>3682</th>\n",
       "      <td>31-40</td>\n",
       "      <td>m</td>\n",
       "      <td>2</td>\n",
       "      <td>23</td>\n",
       "      <td>Bayerischer Gebirgsschweisshund</td>\n",
       "      <td>2019</td>\n",
       "      <td>w</td>\n",
       "      <td>rot</td>\n",
       "    </tr>\n",
       "    <tr>\n",
       "      <th>4715</th>\n",
       "      <td>41-50</td>\n",
       "      <td>w</td>\n",
       "      <td>3</td>\n",
       "      <td>34</td>\n",
       "      <td>Border Collie</td>\n",
       "      <td>2019</td>\n",
       "      <td>m</td>\n",
       "      <td>schwarz/weiss</td>\n",
       "    </tr>\n",
       "    <tr>\n",
       "      <th>7070</th>\n",
       "      <td>81-90</td>\n",
       "      <td>w</td>\n",
       "      <td>7</td>\n",
       "      <td>73</td>\n",
       "      <td>Mischling klein</td>\n",
       "      <td>2009</td>\n",
       "      <td>m</td>\n",
       "      <td>schwarz/braun/weiss</td>\n",
       "    </tr>\n",
       "    <tr>\n",
       "      <th>4689</th>\n",
       "      <td>21-30</td>\n",
       "      <td>w</td>\n",
       "      <td>3</td>\n",
       "      <td>34</td>\n",
       "      <td>Labrador Retriever</td>\n",
       "      <td>2019</td>\n",
       "      <td>w</td>\n",
       "      <td>foxred</td>\n",
       "    </tr>\n",
       "    <tr>\n",
       "      <th>4476</th>\n",
       "      <td>51-60</td>\n",
       "      <td>w</td>\n",
       "      <td>3</td>\n",
       "      <td>33</td>\n",
       "      <td>Labrador Retriever</td>\n",
       "      <td>2007</td>\n",
       "      <td>w</td>\n",
       "      <td>schwarz</td>\n",
       "    </tr>\n",
       "    <tr>\n",
       "      <th>6816</th>\n",
       "      <td>31-40</td>\n",
       "      <td>m</td>\n",
       "      <td>7</td>\n",
       "      <td>72</td>\n",
       "      <td>Sibirischer Husky</td>\n",
       "      <td>2017</td>\n",
       "      <td>w</td>\n",
       "      <td>weiss</td>\n",
       "    </tr>\n",
       "    <tr>\n",
       "      <th>2227</th>\n",
       "      <td>41-50</td>\n",
       "      <td>w</td>\n",
       "      <td>11</td>\n",
       "      <td>119</td>\n",
       "      <td>Continental Bulldog</td>\n",
       "      <td>2019</td>\n",
       "      <td>w</td>\n",
       "      <td>rot/beige</td>\n",
       "    </tr>\n",
       "    <tr>\n",
       "      <th>5871</th>\n",
       "      <td>31-40</td>\n",
       "      <td>w</td>\n",
       "      <td>6</td>\n",
       "      <td>61</td>\n",
       "      <td>Zwergdachshund</td>\n",
       "      <td>2018</td>\n",
       "      <td>m</td>\n",
       "      <td>brindle</td>\n",
       "    </tr>\n",
       "    <tr>\n",
       "      <th>3939</th>\n",
       "      <td>21-30</td>\n",
       "      <td>m</td>\n",
       "      <td>2</td>\n",
       "      <td>24</td>\n",
       "      <td>Mischling gross</td>\n",
       "      <td>2020</td>\n",
       "      <td>w</td>\n",
       "      <td>braun</td>\n",
       "    </tr>\n",
       "  </tbody>\n",
       "</table>\n",
       "</div>"
      ],
      "text/plain": [
       "      ALTER GESCHLECHT  STADTKREIS  STADTQUARTIER  \\\n",
       "3827  31-40          w           2             24   \n",
       "3682  31-40          m           2             23   \n",
       "4715  41-50          w           3             34   \n",
       "7070  81-90          w           7             73   \n",
       "4689  21-30          w           3             34   \n",
       "4476  51-60          w           3             33   \n",
       "6816  31-40          m           7             72   \n",
       "2227  41-50          w          11            119   \n",
       "5871  31-40          w           6             61   \n",
       "3939  21-30          m           2             24   \n",
       "\n",
       "                               RASSE1  GEBURTSJAHR_HUND GESCHLECHT_HUND  \\\n",
       "3827                          Terrier              2010               m   \n",
       "3682  Bayerischer Gebirgsschweisshund              2019               w   \n",
       "4715                    Border Collie              2019               m   \n",
       "7070                  Mischling klein              2009               m   \n",
       "4689               Labrador Retriever              2019               w   \n",
       "4476               Labrador Retriever              2007               w   \n",
       "6816                Sibirischer Husky              2017               w   \n",
       "2227              Continental Bulldog              2019               w   \n",
       "5871                   Zwergdachshund              2018               m   \n",
       "3939                  Mischling gross              2020               w   \n",
       "\n",
       "               HUNDEFARBE  \n",
       "3827             tricolor  \n",
       "3682                  rot  \n",
       "4715        schwarz/weiss  \n",
       "7070  schwarz/braun/weiss  \n",
       "4689               foxred  \n",
       "4476              schwarz  \n",
       "6816                weiss  \n",
       "2227            rot/beige  \n",
       "5871              brindle  \n",
       "3939                braun  "
      ]
     },
     "execution_count": 28,
     "metadata": {},
     "output_type": "execute_result"
    }
   ],
   "source": [
    "#Import and Prepare CSV\n",
    "hundehalter = pd.read_csv(\"20220307_hundehalter.csv\", delimiter=',')\n",
    "hundehalter.drop([\"HALTER_ID\",\"RASSE1_MISCHLING\",\"RASSE2\",\"RASSE2_MISCHLING\",\"RASSENTYP\"],axis=1,inplace=True)\n",
    "hundehalter.sample(10)"
   ]
  },
  {
   "cell_type": "code",
   "execution_count": 30,
   "id": "b93a01e5",
   "metadata": {
    "scrolled": true
   },
   "outputs": [
    {
     "name": "stdout",
     "output_type": "stream",
     "text": [
      "<class 'pandas.core.frame.DataFrame'>\n",
      "RangeIndex: 9173 entries, 0 to 9172\n",
      "Data columns (total 8 columns):\n",
      " #   Column            Non-Null Count  Dtype \n",
      "---  ------            --------------  ----- \n",
      " 0   ALTER             9173 non-null   object\n",
      " 1   GESCHLECHT        9173 non-null   object\n",
      " 2   STADTKREIS        9173 non-null   int64 \n",
      " 3   STADTQUARTIER     9173 non-null   int64 \n",
      " 4   RASSE1            9173 non-null   object\n",
      " 5   GEBURTSJAHR_HUND  9173 non-null   int64 \n",
      " 6   GESCHLECHT_HUND   9173 non-null   object\n",
      " 7   HUNDEFARBE        9173 non-null   object\n",
      "dtypes: int64(3), object(5)\n",
      "memory usage: 573.4+ KB\n"
     ]
    }
   ],
   "source": [
    "hundehalter.info()"
   ]
  },
  {
   "cell_type": "code",
   "execution_count": 33,
   "id": "449be11f",
   "metadata": {
    "scrolled": false
   },
   "outputs": [
    {
     "ename": "AttributeError",
     "evalue": "'DataFrame' object has no attribute 'types'",
     "output_type": "error",
     "traceback": [
      "\u001b[0;31m---------------------------------------------------------------------------\u001b[0m",
      "\u001b[0;31mAttributeError\u001b[0m                            Traceback (most recent call last)",
      "\u001b[0;32m/var/folders/bs/1klrhz517b58dp6rpn8hk1b40000gn/T/ipykernel_11679/467845765.py\u001b[0m in \u001b[0;36m<module>\u001b[0;34m\u001b[0m\n\u001b[0;32m----> 1\u001b[0;31m \u001b[0mhundehalter\u001b[0m\u001b[0;34m.\u001b[0m\u001b[0mtypes\u001b[0m\u001b[0;34m(\u001b[0m\u001b[0;34m)\u001b[0m\u001b[0;34m\u001b[0m\u001b[0;34m\u001b[0m\u001b[0m\n\u001b[0m",
      "\u001b[0;32m~/opt/anaconda3/envs/tensorflow/lib/python3.7/site-packages/pandas/core/generic.py\u001b[0m in \u001b[0;36m__getattr__\u001b[0;34m(self, name)\u001b[0m\n\u001b[1;32m   5485\u001b[0m         ):\n\u001b[1;32m   5486\u001b[0m             \u001b[0;32mreturn\u001b[0m \u001b[0mself\u001b[0m\u001b[0;34m[\u001b[0m\u001b[0mname\u001b[0m\u001b[0;34m]\u001b[0m\u001b[0;34m\u001b[0m\u001b[0;34m\u001b[0m\u001b[0m\n\u001b[0;32m-> 5487\u001b[0;31m         \u001b[0;32mreturn\u001b[0m \u001b[0mobject\u001b[0m\u001b[0;34m.\u001b[0m\u001b[0m__getattribute__\u001b[0m\u001b[0;34m(\u001b[0m\u001b[0mself\u001b[0m\u001b[0;34m,\u001b[0m \u001b[0mname\u001b[0m\u001b[0;34m)\u001b[0m\u001b[0;34m\u001b[0m\u001b[0;34m\u001b[0m\u001b[0m\n\u001b[0m\u001b[1;32m   5488\u001b[0m \u001b[0;34m\u001b[0m\u001b[0m\n\u001b[1;32m   5489\u001b[0m     \u001b[0;32mdef\u001b[0m \u001b[0m__setattr__\u001b[0m\u001b[0;34m(\u001b[0m\u001b[0mself\u001b[0m\u001b[0;34m,\u001b[0m \u001b[0mname\u001b[0m\u001b[0;34m:\u001b[0m \u001b[0mstr\u001b[0m\u001b[0;34m,\u001b[0m \u001b[0mvalue\u001b[0m\u001b[0;34m)\u001b[0m \u001b[0;34m->\u001b[0m \u001b[0;32mNone\u001b[0m\u001b[0;34m:\u001b[0m\u001b[0;34m\u001b[0m\u001b[0;34m\u001b[0m\u001b[0m\n",
      "\u001b[0;31mAttributeError\u001b[0m: 'DataFrame' object has no attribute 'types'"
     ]
    }
   ],
   "source": [
    "hundehalter.types()"
   ]
  },
  {
   "cell_type": "code",
   "execution_count": null,
   "id": "4874a150",
   "metadata": {},
   "outputs": [],
   "source": []
  },
  {
   "cell_type": "code",
   "execution_count": 32,
   "id": "d6b698a0",
   "metadata": {
    "scrolled": false
   },
   "outputs": [
    {
     "data": {
      "text/plain": [
       "'df_orig[\"District_simple\"] = df_orig[\"District_simple\"].astype(\\'category\\')\\ndf_orig[\"WE_Workday\"] = df_orig[\"WE_Workday\"].astype(\\'category\\')'"
      ]
     },
     "execution_count": 32,
     "metadata": {},
     "output_type": "execute_result"
    }
   ],
   "source": [
    "#Normalize Data\n",
    "hundehalter[\"ALTER\"] = hundehalter[\"ALTER\"].astype('category')\n",
    "\"\"\"df_orig[\"District_simple\"] = df_orig[\"District_simple\"].astype('category')\n",
    "df_orig[\"WE_Workday\"] = df_orig[\"WE_Workday\"].astype('category')\"\"\""
   ]
  },
  {
   "cell_type": "code",
   "execution_count": null,
   "id": "b6c34abf",
   "metadata": {
    "scrolled": true
   },
   "outputs": [],
   "source": [
    "hundehalter.sample(10)"
   ]
  },
  {
   "cell_type": "code",
   "execution_count": null,
   "id": "13bae743",
   "metadata": {},
   "outputs": [],
   "source": []
  },
  {
   "cell_type": "code",
   "execution_count": 26,
   "id": "8fd5a898",
   "metadata": {
    "scrolled": true
   },
   "outputs": [
    {
     "data": {
      "image/png": "[encoded data removed]",
      "text/plain": [
       "<Figure size 1296x504 with 2 Axes>"
      ]
     },
     "metadata": {
      "needs_background": "light"
     },
     "output_type": "display_data"
    }
   ],
   "source": [
    "plt.figure(figsize = (18, 7))\n",
    "correlation = hundehalter.corr()\n",
    "sns.heatmap(correlation, annot = True)\n",
    "plt.title(\"Correlation Matrix\\n Hundehalter\")\n",
    "plt.savefig('heatmap.png')  \n",
    "plt.show()  \n",
    "plt.close()\n",
    "plt.show()"
   ]
  },
  {
   "cell_type": "code",
   "execution_count": null,
   "id": "ada1b95a",
   "metadata": {},
   "outputs": [],
   "source": []
  }
 ],
 "metadata": {
  "kernelspec": {
   "display_name": "Python 3 (ipykernel)",
   "language": "python",
   "name": "python3"
  },
  "language_info": {
   "codemirror_mode": {
    "name": "ipython",
    "version": 3
   },
   "file_extension": ".py",
   "mimetype": "text/x-python",
   "name": "python",
   "nbconvert_exporter": "python",
   "pygments_lexer": "ipython3",
   "version": "3.7.13"
  }
 },
 "nbformat": 4,
 "nbformat_minor": 5
}
